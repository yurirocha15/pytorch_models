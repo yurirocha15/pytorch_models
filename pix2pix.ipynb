{
 "cells": [
  {
   "cell_type": "code",
   "execution_count": 1,
   "metadata": {},
   "outputs": [],
   "source": [
    "from pix2pix import dataloader, pix2pix\n",
    "import matplotlib.pyplot as plt \n",
    "import numpy as np\n",
    "from torchvision.utils import make_grid\n",
    "import torchvision.transforms as transforms\n",
    "from PIL import Image"
   ]
  },
  {
   "cell_type": "code",
   "execution_count": 2,
   "metadata": {},
   "outputs": [
    {
     "name": "stdout",
     "output_type": "stream",
     "text": [
      "/media/yuri/4EF0E295F0E28317/LINUX_EXTRA_SPACE/datasets/cityscapes/parsed/A/val/0_A.jpg\n",
      "/media/yuri/4EF0E295F0E28317/LINUX_EXTRA_SPACE/datasets/cityscapes/parsed/A/train/0_A.jpg\n"
     ]
    }
   ],
   "source": [
    "dl_test = dataloader.ParallelDataloader(root_path=\"/media/yuri/4EF0E295F0E28317/LINUX_EXTRA_SPACE/datasets/cityscapes/parsed\",\n",
    "    phase=\"val\",\n",
    "    shuffle=False,\n",
    "    num_workers=10,\n",
    "    batch_size=32\n",
    ")\n",
    "dl_train = dataloader.ParallelDataloader(root_path=\"/media/yuri/4EF0E295F0E28317/LINUX_EXTRA_SPACE/datasets/cityscapes/parsed\",\n",
    "    phase=\"train\",\n",
    "    shuffle=True,\n",
    "    num_workers=10,\n",
    "    batch_size=2\n",
    ")"
   ]
  },
  {
   "cell_type": "code",
   "execution_count": 3,
   "metadata": {},
   "outputs": [],
   "source": [
    "trainer = pix2pix.Pix2Pix(dl_train, dl_test)"
   ]
  },
  {
   "cell_type": "code",
   "execution_count": null,
   "metadata": {},
   "outputs": [
    {
     "name": "stderr",
     "output_type": "stream",
     "text": [
      "Epochs:   0%|          | 0/1 [00:00<?, ?it/s]\n",
      "                                             t/s]\u001b[A\n",
      "Epochs:   0%|          | 0/1 [00:02<?, ?it/s]    \n",
      "Batches:   0%|          | 0/2975 [00:02<?, ?it/s]\u001b[A"
     ]
    },
    {
     "name": "stdout",
     "output_type": "stream",
     "text": [
      "[0/1][0/2975]                          LossD: 0.8119 (real: 0.9032, fake: 0.7207)                          LossG: 53.8997 (pred: 0.8913, L1: 53.0084)                          D(x): 0.4664                          D(G(z)): 0.4509 -> 0.5279\n"
     ]
    },
    {
     "name": "stderr",
     "output_type": "stream",
     "text": [
      "\n",
      "Batches:   0%|          | 1/2975 [00:04<3:55:59,  4.76s/it]\u001b[A\n",
      "Batches:   0%|          | 2/2975 [00:05<2:59:35,  3.62s/it]\u001b[A\n",
      "Batches:   0%|          | 3/2975 [00:06<2:18:18,  2.79s/it]\u001b[A\n",
      "Batches:   0%|          | 4/2975 [00:07<1:50:46,  2.24s/it]\u001b[A\n",
      "                                             25,  1.83s/it]\u001b[A\n",
      "Epochs:   0%|          | 0/1 [00:09<?, ?it/s]              \n",
      "Batches:   0%|          | 5/2975 [00:09<1:30:25,  1.83s/it]\u001b[A\n",
      "Batches:   0%|          | 6/2975 [00:09<1:17:36,  1.57s/it]\u001b[A"
     ]
    },
    {
     "name": "stdout",
     "output_type": "stream",
     "text": [
      "[0/1][5/2975]                          LossD: 0.7003 (real: 0.6506, fake: 0.7499)                          LossG: 44.1950 (pred: 0.8486, L1: 43.3463)                          D(x): 0.5643                          D(G(z)): 0.4877 -> 0.4631\n"
     ]
    },
    {
     "name": "stderr",
     "output_type": "stream",
     "text": [
      "\n",
      "Batches:   0%|          | 7/2975 [00:10<1:07:38,  1.37s/it]\u001b[A\n",
      "Batches:   0%|          | 8/2975 [00:11<1:01:42,  1.25s/it]\u001b[A\n",
      "Batches:   0%|          | 9/2975 [00:12<57:48,  1.17s/it]  \u001b[A\n",
      "                                             3,  1.13s/it]\u001b[A\n",
      "Epochs:   0%|          | 0/1 [00:14<?, ?it/s]             \n",
      "Batches:   0%|          | 10/2975 [00:14<55:53,  1.13s/it]\u001b[A"
     ]
    },
    {
     "name": "stdout",
     "output_type": "stream",
     "text": [
      "[0/1][10/2975]                          LossD: 0.6114 (real: 0.5858, fake: 0.6370)                          LossG: 37.0604 (pred: 1.0313, L1: 36.0292)                          D(x): 0.6078                          D(G(z)): 0.4356 -> 0.4016\n"
     ]
    },
    {
     "name": "stderr",
     "output_type": "stream",
     "text": [
      "\n",
      "Batches:   0%|          | 11/2975 [00:16<1:31:08,  1.85s/it]\u001b[A\n",
      "Batches:   0%|          | 12/2975 [00:17<1:16:35,  1.55s/it]\u001b[A\n",
      "Batches:   0%|          | 13/2975 [00:18<1:05:24,  1.32s/it]\u001b[A\n",
      "Batches:   0%|          | 14/2975 [00:19<59:07,  1.20s/it]  \u001b[A\n",
      "                                             6,  1.13s/it]\u001b[A\n",
      "Epochs:   0%|          | 0/1 [00:21<?, ?it/s]             \n",
      "Batches:   1%|          | 15/2975 [00:21<55:36,  1.13s/it]\u001b[A\n",
      "Batches:   1%|          | 16/2975 [00:21<55:45,  1.13s/it]\u001b[A"
     ]
    },
    {
     "name": "stdout",
     "output_type": "stream",
     "text": [
      "[0/1][15/2975]                          LossD: 0.4837 (real: 0.5588, fake: 0.4087)                          LossG: 26.5751 (pred: 1.4742, L1: 25.1009)                          D(x): 0.6208                          D(G(z)): 0.3099 -> 0.3137\n"
     ]
    },
    {
     "name": "stderr",
     "output_type": "stream",
     "text": [
      "\n",
      "Batches:   1%|          | 17/2975 [00:22<54:23,  1.10s/it]\u001b[A\n",
      "Batches:   1%|          | 18/2975 [00:23<54:28,  1.11s/it]\u001b[A\n",
      "Batches:   1%|          | 19/2975 [00:24<53:21,  1.08s/it]\u001b[A\n",
      "                                             9,  1.12s/it]\u001b[A\n",
      "Epochs:   0%|          | 0/1 [00:27<?, ?it/s]             \n",
      "Batches:   1%|          | 20/2975 [00:27<54:59,  1.12s/it]\u001b[A"
     ]
    },
    {
     "name": "stdout",
     "output_type": "stream",
     "text": [
      "[0/1][20/2975]                          LossD: 0.3902 (real: 0.4011, fake: 0.3794)                          LossG: 27.2005 (pred: 1.4039, L1: 25.7966)                          D(x): 0.6883                          D(G(z)): 0.3020 -> 0.2742\n"
     ]
    },
    {
     "name": "stderr",
     "output_type": "stream",
     "text": [
      "\n",
      "Batches:   1%|          | 21/2975 [00:30<1:45:56,  2.15s/it]\u001b[A\n",
      "Batches:   1%|          | 22/2975 [00:31<1:29:05,  1.81s/it]\u001b[A\n",
      "Batches:   1%|          | 23/2975 [00:32<1:19:59,  1.63s/it]\u001b[A\n",
      "Batches:   1%|          | 24/2975 [00:33<1:12:27,  1.47s/it]\u001b[A\n",
      "                                             :26,  1.35s/it]\u001b[A\n",
      "Epochs:   0%|          | 0/1 [00:35<?, ?it/s]               \n",
      "Batches:   1%|          | 25/2975 [00:35<1:06:26,  1.35s/it]\u001b[A\n",
      "Batches:   1%|          | 26/2975 [00:35<1:02:44,  1.28s/it]\u001b[A"
     ]
    },
    {
     "name": "stdout",
     "output_type": "stream",
     "text": [
      "[0/1][25/2975]                          LossD: 0.3485 (real: 0.3703, fake: 0.3267)                          LossG: 30.5384 (pred: 1.5604, L1: 28.9780)                          D(x): 0.7140                          D(G(z)): 0.2642 -> 0.2513\n"
     ]
    },
    {
     "name": "stderr",
     "output_type": "stream",
     "text": [
      "\n",
      "Batches:   1%|          | 27/2975 [00:36<59:43,  1.22s/it]  \u001b[A\n",
      "Batches:   1%|          | 28/2975 [00:38<58:18,  1.19s/it]\u001b[A\n",
      "Batches:   1%|          | 29/2975 [00:39<56:11,  1.14s/it]\u001b[A\n",
      "                                             3,  1.12s/it]\u001b[A\n",
      "Epochs:   0%|          | 0/1 [00:41<?, ?it/s]             \n",
      "Batches:   1%|          | 30/2975 [00:41<54:53,  1.12s/it]\u001b[A"
     ]
    },
    {
     "name": "stdout",
     "output_type": "stream",
     "text": [
      "[0/1][30/2975]                          LossD: 0.3235 (real: 0.3640, fake: 0.2830)                          LossG: 31.8600 (pred: 1.8567, L1: 30.0033)                          D(x): 0.7231                          D(G(z)): 0.2339 -> 0.1938\n"
     ]
    },
    {
     "name": "stderr",
     "output_type": "stream",
     "text": [
      "\n",
      "Batches:   1%|          | 31/2975 [00:45<1:51:23,  2.27s/it]\u001b[A\n",
      "Batches:   1%|          | 32/2975 [00:46<1:32:34,  1.89s/it]\u001b[A\n",
      "Batches:   1%|          | 33/2975 [00:47<1:21:24,  1.66s/it]\u001b[A\n",
      "Batches:   1%|          | 34/2975 [00:48<1:12:55,  1.49s/it]\u001b[A\n",
      "                                             :05,  1.39s/it]\u001b[A\n",
      "Epochs:   0%|          | 0/1 [00:50<?, ?it/s]               \n",
      "Batches:   1%|          | 35/2975 [00:50<1:08:05,  1.39s/it]\u001b[A\n",
      "Batches:   1%|          | 36/2975 [00:50<1:04:19,  1.31s/it]\u001b[A"
     ]
    },
    {
     "name": "stdout",
     "output_type": "stream",
     "text": [
      "[0/1][35/2975]                          LossD: 0.3136 (real: 0.3043, fake: 0.3228)                          LossG: 26.9246 (pred: 1.8219, L1: 25.1028)                          D(x): 0.7521                          D(G(z)): 0.2511 -> 0.1909\n"
     ]
    },
    {
     "name": "stderr",
     "output_type": "stream",
     "text": [
      "\n",
      "Batches:   1%|          | 37/2975 [00:51<1:03:07,  1.29s/it]\u001b[A\n",
      "Batches:   1%|▏         | 38/2975 [00:52<59:55,  1.22s/it]  \u001b[A\n",
      "Batches:   1%|▏         | 39/2975 [00:54<58:53,  1.20s/it]\u001b[A\n",
      "                                             :26,  1.38s/it]\u001b[A\n",
      "Epochs:   0%|          | 0/1 [00:56<?, ?it/s]               \n",
      "Batches:   1%|▏         | 40/2975 [00:56<1:07:26,  1.38s/it]\u001b[A"
     ]
    },
    {
     "name": "stdout",
     "output_type": "stream",
     "text": [
      "[0/1][40/2975]                          LossD: 0.4648 (real: 0.2896, fake: 0.6400)                          LossG: 20.7887 (pred: 1.8750, L1: 18.9137)                          D(x): 0.7727                          D(G(z)): 0.4220 -> 0.2288\n"
     ]
    },
    {
     "name": "stderr",
     "output_type": "stream",
     "text": [
      "\n",
      "Batches:   1%|▏         | 41/2975 [01:00<1:51:19,  2.28s/it]\u001b[A\n",
      "Batches:   1%|▏         | 42/2975 [01:01<1:34:01,  1.92s/it]\u001b[A\n",
      "Batches:   1%|▏         | 43/2975 [01:02<1:22:59,  1.70s/it]\u001b[A\n",
      "Batches:   1%|▏         | 44/2975 [01:03<1:16:46,  1.57s/it]\u001b[A\n",
      "                                             :41,  1.49s/it]\u001b[A\n",
      "Epochs:   0%|          | 0/1 [01:06<?, ?it/s]               \n",
      "Batches:   2%|▏         | 45/2975 [01:06<1:12:41,  1.49s/it]\u001b[A\n",
      "Batches:   2%|▏         | 46/2975 [01:06<1:07:20,  1.38s/it]\u001b[A"
     ]
    },
    {
     "name": "stdout",
     "output_type": "stream",
     "text": [
      "[0/1][45/2975]                          LossD: 0.3187 (real: 0.3247, fake: 0.3128)                          LossG: 33.2852 (pred: 1.8712, L1: 31.4140)                          D(x): 0.7412                          D(G(z)): 0.2438 -> 0.1915\n"
     ]
    },
    {
     "name": "stderr",
     "output_type": "stream",
     "text": [
      "\n",
      "Batches:   2%|▏         | 47/2975 [01:07<1:05:23,  1.34s/it]\u001b[A\n",
      "Batches:   2%|▏         | 48/2975 [01:08<1:02:31,  1.28s/it]\u001b[A\n",
      "Batches:   2%|▏         | 49/2975 [01:09<1:00:35,  1.24s/it]\u001b[A\n",
      "                                             5,  1.19s/it]  \u001b[A\n",
      "Epochs:   0%|          | 0/1 [01:12<?, ?it/s]             \n",
      "Batches:   2%|▏         | 50/2975 [01:12<57:55,  1.19s/it]\u001b[A"
     ]
    },
    {
     "name": "stdout",
     "output_type": "stream",
     "text": [
      "[0/1][50/2975]                          LossD: 0.2199 (real: 0.1733, fake: 0.2666)                          LossG: 29.5188 (pred: 2.2188, L1: 27.3001)                          D(x): 0.8452                          D(G(z)): 0.2161 -> 0.1410\n"
     ]
    },
    {
     "name": "stderr",
     "output_type": "stream",
     "text": [
      "\n",
      "Batches:   2%|▏         | 51/2975 [01:15<1:47:26,  2.20s/it]\u001b[A\n",
      "Batches:   2%|▏         | 52/2975 [01:17<1:40:15,  2.06s/it]\u001b[A\n",
      "Batches:   2%|▏         | 53/2975 [01:18<1:27:05,  1.79s/it]\u001b[A\n",
      "Batches:   2%|▏         | 54/2975 [01:19<1:18:26,  1.61s/it]\u001b[A\n",
      "                                             :58,  1.46s/it]\u001b[A\n",
      "Epochs:   0%|          | 0/1 [01:21<?, ?it/s]               \n",
      "Batches:   2%|▏         | 55/2975 [01:21<1:10:58,  1.46s/it]\u001b[A\n",
      "Batches:   2%|▏         | 56/2975 [01:21<1:07:10,  1.38s/it]\u001b[A"
     ]
    },
    {
     "name": "stdout",
     "output_type": "stream",
     "text": [
      "[0/1][55/2975]                          LossD: 0.1987 (real: 0.2073, fake: 0.1901)                          LossG: 29.2517 (pred: 2.1630, L1: 27.0886)                          D(x): 0.8197                          D(G(z)): 0.1655 -> 0.1341\n"
     ]
    },
    {
     "name": "stderr",
     "output_type": "stream",
     "text": [
      "\n",
      "Batches:   2%|▏         | 57/2975 [01:22<1:02:35,  1.29s/it]\u001b[A\n",
      "Batches:   2%|▏         | 58/2975 [01:23<1:00:38,  1.25s/it]\u001b[A\n",
      "Batches:   2%|▏         | 59/2975 [01:25<1:00:44,  1.25s/it]\u001b[A\n",
      "                                             :26,  1.29s/it]\u001b[A\n",
      "Epochs:   0%|          | 0/1 [01:28<?, ?it/s]               \n",
      "Batches:   2%|▏         | 60/2975 [01:28<1:02:26,  1.29s/it]\u001b[A"
     ]
    },
    {
     "name": "stdout",
     "output_type": "stream",
     "text": [
      "[0/1][60/2975]                          LossD: 0.5716 (real: 0.7182, fake: 0.4250)                          LossG: 28.2483 (pred: 1.5761, L1: 26.6723)                          D(x): 0.5425                          D(G(z)): 0.3195 -> 0.2861\n"
     ]
    },
    {
     "name": "stderr",
     "output_type": "stream",
     "text": [
      "\n",
      "Batches:   2%|▏         | 61/2975 [01:32<2:06:10,  2.60s/it]\u001b[A\n",
      "Batches:   2%|▏         | 62/2975 [01:33<1:43:25,  2.13s/it]\u001b[A\n",
      "Batches:   2%|▏         | 63/2975 [01:34<1:28:09,  1.82s/it]\u001b[A\n",
      "Batches:   2%|▏         | 64/2975 [01:35<1:17:22,  1.59s/it]\u001b[A\n",
      "                                             :42,  1.44s/it]\u001b[A\n",
      "Epochs:   0%|          | 0/1 [01:37<?, ?it/s]               \n",
      "Batches:   2%|▏         | 65/2975 [01:37<1:09:42,  1.44s/it]\u001b[A\n",
      "Batches:   2%|▏         | 66/2975 [01:37<1:06:01,  1.36s/it]\u001b[A"
     ]
    },
    {
     "name": "stdout",
     "output_type": "stream",
     "text": [
      "[0/1][65/2975]                          LossD: 0.3469 (real: 0.2939, fake: 0.3999)                          LossG: 22.6883 (pred: 1.9155, L1: 20.7728)                          D(x): 0.7561                          D(G(z)): 0.2971 -> 0.1752\n"
     ]
    },
    {
     "name": "stderr",
     "output_type": "stream",
     "text": [
      "\n",
      "Batches:   2%|▏         | 67/2975 [01:38<1:03:33,  1.31s/it]\u001b[A\n",
      "Batches:   2%|▏         | 68/2975 [01:40<1:01:18,  1.27s/it]\u001b[A\n",
      "Batches:   2%|▏         | 69/2975 [01:41<1:01:37,  1.27s/it]\u001b[A\n",
      "                                             5,  1.23s/it]  \u001b[A\n",
      "Epochs:   0%|          | 0/1 [01:43<?, ?it/s]             \n",
      "Batches:   2%|▏         | 70/2975 [01:43<59:45,  1.23s/it]\u001b[A"
     ]
    },
    {
     "name": "stdout",
     "output_type": "stream",
     "text": [
      "[0/1][70/2975]                          LossD: 0.4589 (real: 0.4843, fake: 0.4335)                          LossG: 24.0722 (pred: 1.5948, L1: 22.4774)                          D(x): 0.6867                          D(G(z)): 0.3267 -> 0.2686\n"
     ]
    },
    {
     "name": "stderr",
     "output_type": "stream",
     "text": [
      "\n",
      "Batches:   2%|▏         | 71/2975 [01:47<1:53:39,  2.35s/it]\u001b[A\n",
      "Batches:   2%|▏         | 72/2975 [01:48<1:34:23,  1.95s/it]\u001b[A\n",
      "Batches:   2%|▏         | 73/2975 [01:49<1:22:49,  1.71s/it]\u001b[A\n",
      "Batches:   2%|▏         | 74/2975 [01:51<1:19:19,  1.64s/it]\u001b[A\n",
      "                                             :30,  1.44s/it]\u001b[A\n",
      "Epochs:   0%|          | 0/1 [01:53<?, ?it/s]               \n",
      "Batches:   3%|▎         | 75/2975 [01:53<1:09:30,  1.44s/it]\u001b[A\n",
      "Batches:   3%|▎         | 76/2975 [01:53<1:04:00,  1.32s/it]\u001b[A"
     ]
    },
    {
     "name": "stdout",
     "output_type": "stream",
     "text": [
      "[0/1][75/2975]                          LossD: 0.3967 (real: 0.3706, fake: 0.4228)                          LossG: 29.6041 (pred: 1.4580, L1: 28.1461)                          D(x): 0.7077                          D(G(z)): 0.3220 -> 0.2515\n"
     ]
    },
    {
     "name": "stderr",
     "output_type": "stream",
     "text": [
      "\n",
      "Batches:   3%|▎         | 77/2975 [01:54<59:11,  1.23s/it]  \u001b[A\n",
      "Batches:   3%|▎         | 78/2975 [01:55<58:13,  1.21s/it]\u001b[A\n",
      "Batches:   3%|▎         | 79/2975 [01:56<56:03,  1.16s/it]\u001b[A\n",
      "                                             6,  1.16s/it]\u001b[A\n",
      "Epochs:   0%|          | 0/1 [01:58<?, ?it/s]             \n",
      "Batches:   3%|▎         | 80/2975 [01:58<55:46,  1.16s/it]\u001b[A"
     ]
    },
    {
     "name": "stdout",
     "output_type": "stream",
     "text": [
      "[0/1][80/2975]                          LossD: 0.2915 (real: 0.1716, fake: 0.4114)                          LossG: 31.3912 (pred: 1.8581, L1: 29.5331)                          D(x): 0.8491                          D(G(z)): 0.3196 -> 0.1840\n"
     ]
    },
    {
     "name": "stderr",
     "output_type": "stream",
     "text": [
      "\n",
      "Batches:   3%|▎         | 81/2975 [02:02<1:55:41,  2.40s/it]\u001b[A\n",
      "Batches:   3%|▎         | 82/2975 [02:03<1:35:23,  1.98s/it]\u001b[A\n",
      "Batches:   3%|▎         | 83/2975 [02:05<1:24:17,  1.75s/it]\u001b[A\n",
      "Batches:   3%|▎         | 84/2975 [02:06<1:18:00,  1.62s/it]\u001b[A\n",
      "                                             :39,  1.51s/it]\u001b[A\n",
      "Epochs:   0%|          | 0/1 [02:08<?, ?it/s]               \n",
      "Batches:   3%|▎         | 85/2975 [02:08<1:12:39,  1.51s/it]\u001b[A\n",
      "Batches:   3%|▎         | 86/2975 [02:08<1:10:15,  1.46s/it]\u001b[A"
     ]
    },
    {
     "name": "stdout",
     "output_type": "stream",
     "text": [
      "[0/1][85/2975]                          LossD: 0.2349 (real: 0.2641, fake: 0.2057)                          LossG: 35.4548 (pred: 2.0164, L1: 33.4384)                          D(x): 0.7895                          D(G(z)): 0.1829 -> 0.1623\n"
     ]
    },
    {
     "name": "stderr",
     "output_type": "stream",
     "text": [
      "\n",
      "Batches:   3%|▎         | 87/2975 [02:10<1:07:49,  1.41s/it]\u001b[A\n",
      "Batches:   3%|▎         | 88/2975 [02:11<1:07:18,  1.40s/it]\u001b[A\n",
      "Batches:   3%|▎         | 89/2975 [02:12<1:05:42,  1.37s/it]\u001b[A\n",
      "                                             :29,  1.32s/it]\u001b[A\n",
      "Epochs:   0%|          | 0/1 [02:15<?, ?it/s]               \n",
      "Batches:   3%|▎         | 90/2975 [02:15<1:03:29,  1.32s/it]\u001b[A"
     ]
    },
    {
     "name": "stdout",
     "output_type": "stream",
     "text": [
      "[0/1][90/2975]                          LossD: 0.2010 (real: 0.2565, fake: 0.1454)                          LossG: 23.0793 (pred: 2.0689, L1: 21.0104)                          D(x): 0.7926                          D(G(z)): 0.1308 -> 0.1484\n"
     ]
    },
    {
     "name": "stderr",
     "output_type": "stream",
     "text": [
      "\n",
      "Batches:   3%|▎         | 91/2975 [02:19<1:57:57,  2.45s/it]\u001b[A\n",
      "Batches:   3%|▎         | 92/2975 [02:20<1:36:29,  2.01s/it]\u001b[A\n",
      "Batches:   3%|▎         | 93/2975 [02:21<1:25:22,  1.78s/it]\u001b[A\n",
      "Batches:   3%|▎         | 94/2975 [02:22<1:16:49,  1.60s/it]\u001b[A\n",
      "                                             :31,  1.47s/it]\u001b[A\n",
      "Epochs:   0%|          | 0/1 [02:24<?, ?it/s]               \n",
      "Batches:   3%|▎         | 95/2975 [02:24<1:10:31,  1.47s/it]\u001b[A\n",
      "Batches:   3%|▎         | 96/2975 [02:24<1:06:40,  1.39s/it]\u001b[A"
     ]
    },
    {
     "name": "stdout",
     "output_type": "stream",
     "text": [
      "[0/1][95/2975]                          LossD: 0.3557 (real: 0.4372, fake: 0.2741)                          LossG: 20.0864 (pred: 1.4708, L1: 18.6155)                          D(x): 0.6831                          D(G(z)): 0.2112 -> 0.2920\n"
     ]
    },
    {
     "name": "stderr",
     "output_type": "stream",
     "text": [
      "\n",
      "Batches:   3%|▎         | 97/2975 [02:26<1:04:26,  1.34s/it]\u001b[A\n",
      "Batches:   3%|▎         | 98/2975 [02:27<1:02:07,  1.30s/it]\u001b[A\n",
      "Batches:   3%|▎         | 99/2975 [02:28<59:53,  1.25s/it]  \u001b[A\n",
      "                                             24,  1.24s/it]\u001b[A\n",
      "Epochs:   0%|          | 0/1 [02:30<?, ?it/s]              \n",
      "Batches:   3%|▎         | 100/2975 [02:30<59:24,  1.24s/it]\u001b[A"
     ]
    },
    {
     "name": "stdout",
     "output_type": "stream",
     "text": [
      "[0/1][100/2975]                          LossD: 0.3721 (real: 0.4985, fake: 0.2457)                          LossG: 21.9435 (pred: 1.0025, L1: 20.9410)                          D(x): 0.6372                          D(G(z)): 0.2076 -> 0.3930\n"
     ]
    },
    {
     "name": "stderr",
     "output_type": "stream",
     "text": [
      "\n",
      "Batches:   3%|▎         | 101/2975 [02:34<1:54:57,  2.40s/it]\u001b[A\n",
      "Batches:   3%|▎         | 102/2975 [02:35<1:35:01,  1.98s/it]\u001b[A\n",
      "Batches:   3%|▎         | 103/2975 [02:37<1:26:28,  1.81s/it]\u001b[A\n",
      "Batches:   3%|▎         | 104/2975 [02:38<1:18:50,  1.65s/it]\u001b[A\n",
      "                                             3:47,  1.54s/it]\u001b[A\n",
      "Epochs:   0%|          | 0/1 [02:41<?, ?it/s]                \n",
      "Batches:   4%|▎         | 105/2975 [02:41<1:13:47,  1.54s/it]\u001b[A\n",
      "Batches:   4%|▎         | 106/2975 [02:41<1:08:46,  1.44s/it]\u001b[A"
     ]
    },
    {
     "name": "stdout",
     "output_type": "stream",
     "text": [
      "[0/1][105/2975]                          LossD: 0.8576 (real: 1.1057, fake: 0.6094)                          LossG: 20.6363 (pred: 0.6254, L1: 20.0109)                          D(x): 0.3554                          D(G(z)): 0.4444 -> 0.5619\n"
     ]
    },
    {
     "name": "stderr",
     "output_type": "stream",
     "text": [
      "\n",
      "Batches:   4%|▎         | 107/2975 [02:42<1:04:39,  1.35s/it]\u001b[A\n",
      "Batches:   4%|▎         | 108/2975 [02:43<1:03:22,  1.33s/it]\u001b[A\n",
      "Batches:   4%|▎         | 109/2975 [02:44<1:00:38,  1.27s/it]\u001b[A\n",
      "                                             0:27,  1.27s/it]\u001b[A\n",
      "Epochs:   0%|          | 0/1 [02:46<?, ?it/s]                \n",
      "Batches:   4%|▎         | 110/2975 [02:47<1:00:27,  1.27s/it]\u001b[A"
     ]
    },
    {
     "name": "stdout",
     "output_type": "stream",
     "text": [
      "[0/1][110/2975]                          LossD: 0.3176 (real: 0.1646, fake: 0.4705)                          LossG: 27.9369 (pred: 1.7573, L1: 26.1797)                          D(x): 0.8560                          D(G(z)): 0.3611 -> 0.1883\n"
     ]
    },
    {
     "name": "stderr",
     "output_type": "stream",
     "text": [
      "\n",
      "Batches:   4%|▎         | 111/2975 [02:50<1:56:06,  2.43s/it]\u001b[A\n",
      "Batches:   4%|▍         | 112/2975 [02:52<1:36:05,  2.01s/it]\u001b[A\n",
      "Batches:   4%|▍         | 113/2975 [02:53<1:24:29,  1.77s/it]\u001b[A\n",
      "Batches:   4%|▍         | 114/2975 [02:54<1:15:43,  1.59s/it]\u001b[A\n",
      "                                             1:06,  1.49s/it]\u001b[A\n",
      "Epochs:   0%|          | 0/1 [02:56<?, ?it/s]                \n",
      "Batches:   4%|▍         | 115/2975 [02:56<1:11:06,  1.49s/it]\u001b[A\n",
      "Batches:   4%|▍         | 116/2975 [02:56<1:05:33,  1.38s/it]\u001b[A"
     ]
    },
    {
     "name": "stdout",
     "output_type": "stream",
     "text": [
      "[0/1][115/2975]                          LossD: 0.2389 (real: 0.0890, fake: 0.3889)                          LossG: 26.3107 (pred: 1.6911, L1: 24.6196)                          D(x): 0.9174                          D(G(z)): 0.2660 -> 0.1989\n"
     ]
    },
    {
     "name": "stderr",
     "output_type": "stream",
     "text": [
      "\n",
      "Batches:   4%|▍         | 117/2975 [02:57<1:02:16,  1.31s/it]\u001b[A\n",
      "Batches:   4%|▍         | 118/2975 [02:59<59:50,  1.26s/it]  \u001b[A\n",
      "Batches:   4%|▍         | 119/2975 [03:00<58:55,  1.24s/it]\u001b[A\n",
      "                                             48,  1.19s/it]\u001b[A\n",
      "Epochs:   0%|          | 0/1 [03:02<?, ?it/s]              \n",
      "Batches:   4%|▍         | 120/2975 [03:02<56:48,  1.19s/it]\u001b[A"
     ]
    },
    {
     "name": "stdout",
     "output_type": "stream",
     "text": [
      "[0/1][120/2975]                          LossD: 0.3303 (real: 0.2115, fake: 0.4491)                          LossG: 35.2162 (pred: 1.4899, L1: 33.7263)                          D(x): 0.8221                          D(G(z)): 0.3390 -> 0.2733\n"
     ]
    },
    {
     "name": "stderr",
     "output_type": "stream",
     "text": [
      "\n",
      "Batches:   4%|▍         | 121/2975 [03:06<1:50:34,  2.32s/it]\u001b[A\n",
      "Batches:   4%|▍         | 122/2975 [03:07<1:30:13,  1.90s/it]\u001b[A\n",
      "Batches:   4%|▍         | 123/2975 [03:08<1:15:32,  1.59s/it]\u001b[A\n",
      "Batches:   4%|▍         | 124/2975 [03:09<1:07:05,  1.41s/it]\u001b[A\n",
      "                                             2:05,  1.31s/it]\u001b[A\n",
      "Epochs:   0%|          | 0/1 [03:11<?, ?it/s]                \n",
      "Batches:   4%|▍         | 125/2975 [03:11<1:02:05,  1.31s/it]\u001b[A\n",
      "Batches:   4%|▍         | 126/2975 [03:11<59:22,  1.25s/it]  \u001b[A"
     ]
    },
    {
     "name": "stdout",
     "output_type": "stream",
     "text": [
      "[0/1][125/2975]                          LossD: 0.2712 (real: 0.1533, fake: 0.3892)                          LossG: 27.0678 (pred: 1.9447, L1: 25.1231)                          D(x): 0.8648                          D(G(z)): 0.3104 -> 0.1546\n"
     ]
    },
    {
     "name": "stderr",
     "output_type": "stream",
     "text": [
      "\n",
      "Batches:   4%|▍         | 127/2975 [03:12<56:05,  1.18s/it]\u001b[A\n",
      "Batches:   4%|▍         | 128/2975 [03:13<54:14,  1.14s/it]\u001b[A\n",
      "Batches:   4%|▍         | 129/2975 [03:14<54:21,  1.15s/it]\u001b[A\n",
      "                                             18,  1.12s/it]\u001b[A\n",
      "Epochs:   0%|          | 0/1 [03:16<?, ?it/s]              \n",
      "Batches:   4%|▍         | 130/2975 [03:16<53:18,  1.12s/it]\u001b[A"
     ]
    },
    {
     "name": "stdout",
     "output_type": "stream",
     "text": [
      "[0/1][130/2975]                          LossD: 0.2613 (real: 0.3193, fake: 0.2033)                          LossG: 26.3391 (pred: 1.9367, L1: 24.4025)                          D(x): 0.7639                          D(G(z)): 0.1775 -> 0.1597\n"
     ]
    },
    {
     "name": "stderr",
     "output_type": "stream",
     "text": [
      "\n",
      "Batches:   4%|▍         | 131/2975 [03:20<1:49:19,  2.31s/it]\u001b[A\n",
      "Batches:   4%|▍         | 132/2975 [03:21<1:29:02,  1.88s/it]\u001b[A\n",
      "Batches:   4%|▍         | 133/2975 [03:22<1:15:42,  1.60s/it]\u001b[A\n",
      "Batches:   5%|▍         | 134/2975 [03:23<1:09:47,  1.47s/it]\u001b[A\n",
      "                                             4:03,  1.35s/it]\u001b[A\n",
      "Epochs:   0%|          | 0/1 [03:25<?, ?it/s]                \n",
      "Batches:   5%|▍         | 135/2975 [03:25<1:04:03,  1.35s/it]\u001b[A\n",
      "Batches:   5%|▍         | 136/2975 [03:25<1:00:04,  1.27s/it]\u001b[A"
     ]
    },
    {
     "name": "stdout",
     "output_type": "stream",
     "text": [
      "[0/1][135/2975]                          LossD: 0.2539 (real: 0.1645, fake: 0.3434)                          LossG: 22.4166 (pred: 1.9165, L1: 20.5001)                          D(x): 0.8527                          D(G(z)): 0.2457 -> 0.1678\n"
     ]
    },
    {
     "name": "stderr",
     "output_type": "stream",
     "text": [
      "\n",
      "Batches:   5%|▍         | 137/2975 [03:26<54:53,  1.16s/it]  \u001b[A\n",
      "Batches:   5%|▍         | 138/2975 [03:27<53:24,  1.13s/it]\u001b[A\n",
      "Batches:   5%|▍         | 139/2975 [03:28<50:00,  1.06s/it]\u001b[A\n",
      "                                             39,  1.05s/it]\u001b[A\n",
      "Epochs:   0%|          | 0/1 [03:30<?, ?it/s]              \n",
      "Batches:   5%|▍         | 140/2975 [03:30<49:39,  1.05s/it]\u001b[A"
     ]
    },
    {
     "name": "stdout",
     "output_type": "stream",
     "text": [
      "[0/1][140/2975]                          LossD: 0.2168 (real: 0.1621, fake: 0.2714)                          LossG: 27.5376 (pred: 1.9616, L1: 25.5760)                          D(x): 0.8576                          D(G(z)): 0.2283 -> 0.1581\n"
     ]
    },
    {
     "name": "stderr",
     "output_type": "stream",
     "text": [
      "\n",
      "Batches:   5%|▍         | 141/2975 [03:34<1:48:51,  2.30s/it]\u001b[A\n",
      "Batches:   5%|▍         | 142/2975 [03:35<1:30:27,  1.92s/it]\u001b[A\n",
      "Batches:   5%|▍         | 143/2975 [03:37<1:24:51,  1.80s/it]\u001b[A\n",
      "Batches:   5%|▍         | 144/2975 [03:38<1:13:47,  1.56s/it]\u001b[A\n",
      "                                             7:28,  1.43s/it]\u001b[A\n",
      "Epochs:   0%|          | 0/1 [03:40<?, ?it/s]                \n",
      "Batches:   5%|▍         | 145/2975 [03:40<1:07:28,  1.43s/it]\u001b[A\n",
      "Batches:   5%|▍         | 146/2975 [03:40<1:02:27,  1.32s/it]\u001b[A"
     ]
    },
    {
     "name": "stdout",
     "output_type": "stream",
     "text": [
      "[0/1][145/2975]                          LossD: 0.2023 (real: 0.1611, fake: 0.2434)                          LossG: 23.5954 (pred: 2.0555, L1: 21.5399)                          D(x): 0.8565                          D(G(z)): 0.2067 -> 0.1458\n"
     ]
    },
    {
     "name": "stderr",
     "output_type": "stream",
     "text": [
      "\n",
      "Batches:   5%|▍         | 147/2975 [03:41<1:00:00,  1.27s/it]\u001b[A\n",
      "Batches:   5%|▍         | 148/2975 [03:42<57:25,  1.22s/it]  \u001b[A\n",
      "Batches:   5%|▌         | 149/2975 [03:43<53:58,  1.15s/it]\u001b[A\n",
      "                                             15,  1.11s/it]\u001b[A\n",
      "Epochs:   0%|          | 0/1 [03:45<?, ?it/s]              \n",
      "Batches:   5%|▌         | 150/2975 [03:45<52:15,  1.11s/it]\u001b[A"
     ]
    },
    {
     "name": "stdout",
     "output_type": "stream",
     "text": [
      "[0/1][150/2975]                          LossD: 0.5615 (real: 0.7465, fake: 0.3765)                          LossG: 22.5856 (pred: 0.6566, L1: 21.9290)                          D(x): 0.5129                          D(G(z)): 0.3007 -> 0.5520\n"
     ]
    },
    {
     "name": "stderr",
     "output_type": "stream",
     "text": [
      "\n",
      "Batches:   5%|▌         | 151/2975 [03:49<1:43:34,  2.20s/it]\u001b[A\n",
      "Batches:   5%|▌         | 152/2975 [03:50<1:27:39,  1.86s/it]\u001b[A\n",
      "Batches:   5%|▌         | 153/2975 [03:51<1:17:33,  1.65s/it]\u001b[A\n",
      "Batches:   5%|▌         | 154/2975 [03:52<1:09:27,  1.48s/it]\u001b[A\n",
      "                                             4:21,  1.37s/it]\u001b[A\n",
      "Epochs:   0%|          | 0/1 [03:55<?, ?it/s]                \n",
      "Batches:   5%|▌         | 155/2975 [03:55<1:04:21,  1.37s/it]\u001b[A\n",
      "Batches:   5%|▌         | 156/2975 [03:55<1:01:04,  1.30s/it]\u001b[A"
     ]
    },
    {
     "name": "stdout",
     "output_type": "stream",
     "text": [
      "[0/1][155/2975]                          LossD: 0.6039 (real: 1.0245, fake: 0.1832)                          LossG: 23.7974 (pred: 0.9714, L1: 22.8260)                          D(x): 0.4213                          D(G(z)): 0.1634 -> 0.4281\n"
     ]
    },
    {
     "name": "stderr",
     "output_type": "stream",
     "text": [
      "\n",
      "Batches:   5%|▌         | 157/2975 [03:56<1:00:01,  1.28s/it]\u001b[A\n",
      "Batches:   5%|▌         | 158/2975 [03:57<57:31,  1.23s/it]  \u001b[A\n",
      "Batches:   5%|▌         | 159/2975 [03:58<52:57,  1.13s/it]\u001b[A\n",
      "                                             20,  1.14s/it]\u001b[A\n",
      "Epochs:   0%|          | 0/1 [04:00<?, ?it/s]              \n",
      "Batches:   5%|▌         | 160/2975 [04:00<53:20,  1.14s/it]\u001b[A"
     ]
    },
    {
     "name": "stdout",
     "output_type": "stream",
     "text": [
      "[0/1][160/2975]                          LossD: 0.7511 (real: 1.3569, fake: 0.1454)                          LossG: 24.1113 (pred: 1.8878, L1: 22.2235)                          D(x): 0.3228                          D(G(z)): 0.1294 -> 0.1764\n"
     ]
    },
    {
     "name": "stderr",
     "output_type": "stream",
     "text": [
      "\n",
      "Batches:   5%|▌         | 161/2975 [04:04<1:49:52,  2.34s/it]\u001b[A\n",
      "Batches:   5%|▌         | 162/2975 [04:05<1:31:21,  1.95s/it]\u001b[A\n",
      "Batches:   5%|▌         | 163/2975 [04:06<1:16:40,  1.64s/it]\u001b[A\n",
      "Batches:   6%|▌         | 164/2975 [04:07<1:08:10,  1.46s/it]\u001b[A\n",
      "                                             3:44,  1.36s/it]\u001b[A\n",
      "Epochs:   0%|          | 0/1 [04:09<?, ?it/s]                \n",
      "Batches:   6%|▌         | 165/2975 [04:09<1:03:44,  1.36s/it]\u001b[A\n",
      "Batches:   6%|▌         | 166/2975 [04:09<1:00:17,  1.29s/it]\u001b[A"
     ]
    },
    {
     "name": "stdout",
     "output_type": "stream",
     "text": [
      "[0/1][165/2975]                          LossD: 0.6475 (real: 0.1665, fake: 1.1286)                          LossG: 25.4818 (pred: 1.9605, L1: 23.5212)                          D(x): 0.8700                          D(G(z)): 0.6055 -> 0.1936\n"
     ]
    },
    {
     "name": "stderr",
     "output_type": "stream",
     "text": [
      "\n",
      "Batches:   6%|▌         | 167/2975 [04:11<58:47,  1.26s/it]  \u001b[A\n",
      "Batches:   6%|▌         | 168/2975 [04:12<56:16,  1.20s/it]\u001b[A\n",
      "Batches:   6%|▌         | 169/2975 [04:13<54:14,  1.16s/it]\u001b[A\n",
      "                                             58,  1.15s/it]\u001b[A\n",
      "Epochs:   0%|          | 0/1 [04:15<?, ?it/s]              \n",
      "Batches:   6%|▌         | 170/2975 [04:15<53:58,  1.15s/it]\u001b[A"
     ]
    },
    {
     "name": "stdout",
     "output_type": "stream",
     "text": [
      "[0/1][170/2975]                          LossD: 0.6036 (real: 0.4707, fake: 0.7366)                          LossG: 20.0873 (pred: 1.0668, L1: 19.0205)                          D(x): 0.6613                          D(G(z)): 0.4862 -> 0.4478\n"
     ]
    },
    {
     "name": "stderr",
     "output_type": "stream",
     "text": [
      "\n",
      "Batches:   6%|▌         | 171/2975 [04:20<2:00:51,  2.59s/it]\u001b[A\n",
      "Batches:   6%|▌         | 172/2975 [04:21<1:38:56,  2.12s/it]\u001b[A\n",
      "Batches:   6%|▌         | 173/2975 [04:22<1:31:47,  1.97s/it]\u001b[A\n",
      "Batches:   6%|▌         | 174/2975 [04:24<1:20:42,  1.73s/it]\u001b[A\n",
      "                                             0:14,  1.51s/it]\u001b[A\n",
      "Epochs:   0%|          | 0/1 [04:26<?, ?it/s]                \n",
      "Batches:   6%|▌         | 175/2975 [04:26<1:10:14,  1.51s/it]\u001b[A\n",
      "Batches:   6%|▌         | 176/2975 [04:26<1:03:34,  1.36s/it]\u001b[A"
     ]
    },
    {
     "name": "stdout",
     "output_type": "stream",
     "text": [
      "[0/1][175/2975]                          LossD: 0.4084 (real: 0.4582, fake: 0.3585)                          LossG: 20.0065 (pred: 1.7303, L1: 18.2762)                          D(x): 0.6701                          D(G(z)): 0.2518 -> 0.1983\n"
     ]
    },
    {
     "name": "stderr",
     "output_type": "stream",
     "text": [
      "\n",
      "Batches:   6%|▌         | 177/2975 [04:27<56:45,  1.22s/it]  \u001b[A\n",
      "Batches:   6%|▌         | 178/2975 [04:28<55:09,  1.18s/it]\u001b[A\n",
      "Batches:   6%|▌         | 179/2975 [04:29<56:10,  1.21s/it]\u001b[A\n",
      "                                             48,  1.22s/it]\u001b[A\n",
      "Epochs:   0%|          | 0/1 [04:31<?, ?it/s]              \n",
      "Batches:   6%|▌         | 180/2975 [04:31<56:48,  1.22s/it]\u001b[A"
     ]
    },
    {
     "name": "stdout",
     "output_type": "stream",
     "text": [
      "[0/1][180/2975]                          LossD: 0.2918 (real: 0.2966, fake: 0.2870)                          LossG: 19.3275 (pred: 1.8019, L1: 17.5256)                          D(x): 0.7536                          D(G(z)): 0.1923 -> 0.1935\n"
     ]
    },
    {
     "name": "stderr",
     "output_type": "stream",
     "text": [
      "\n",
      "Batches:   6%|▌         | 181/2975 [04:36<1:56:58,  2.51s/it]\u001b[A\n",
      "Batches:   6%|▌         | 182/2975 [04:36<1:33:10,  2.00s/it]\u001b[A\n",
      "Batches:   6%|▌         | 183/2975 [04:37<1:18:57,  1.70s/it]\u001b[A\n",
      "Batches:   6%|▌         | 184/2975 [04:39<1:11:15,  1.53s/it]\u001b[A\n",
      "                                             6:26,  1.43s/it]\u001b[A\n",
      "Epochs:   0%|          | 0/1 [04:41<?, ?it/s]                \n",
      "Batches:   6%|▌         | 185/2975 [04:41<1:06:26,  1.43s/it]\u001b[A\n",
      "Batches:   6%|▋         | 186/2975 [04:41<1:02:33,  1.35s/it]\u001b[A"
     ]
    },
    {
     "name": "stdout",
     "output_type": "stream",
     "text": [
      "[0/1][185/2975]                          LossD: 0.5618 (real: 0.3778, fake: 0.7458)                          LossG: 31.4266 (pred: 1.5980, L1: 29.8287)                          D(x): 0.7118                          D(G(z)): 0.4456 -> 0.2939\n"
     ]
    },
    {
     "name": "stderr",
     "output_type": "stream",
     "text": [
      "\n",
      "Batches:   6%|▋         | 187/2975 [04:42<1:01:04,  1.31s/it]\u001b[A\n",
      "Batches:   6%|▋         | 188/2975 [04:43<57:44,  1.24s/it]  \u001b[A\n",
      "Batches:   6%|▋         | 189/2975 [04:44<55:37,  1.20s/it]\u001b[A\n",
      "                                             36,  1.16s/it]\u001b[A\n",
      "Epochs:   0%|          | 0/1 [04:47<?, ?it/s]              \n",
      "Batches:   6%|▋         | 190/2975 [04:47<53:36,  1.16s/it]\u001b[A"
     ]
    },
    {
     "name": "stdout",
     "output_type": "stream",
     "text": [
      "[0/1][190/2975]                          LossD: 0.3803 (real: 0.1972, fake: 0.5634)                          LossG: 21.9984 (pred: 1.4405, L1: 20.5579)                          D(x): 0.8512                          D(G(z)): 0.3837 -> 0.2598\n"
     ]
    },
    {
     "name": "stderr",
     "output_type": "stream",
     "text": [
      "\n",
      "Batches:   6%|▋         | 191/2975 [04:50<1:47:28,  2.32s/it]\u001b[A\n",
      "Batches:   6%|▋         | 192/2975 [04:51<1:28:01,  1.90s/it]\u001b[A\n",
      "Batches:   6%|▋         | 193/2975 [04:52<1:16:46,  1.66s/it]\u001b[A\n",
      "Batches:   7%|▋         | 194/2975 [04:54<1:11:50,  1.55s/it]\u001b[A\n",
      "                                             4:45,  1.40s/it]\u001b[A\n",
      "Epochs:   0%|          | 0/1 [04:56<?, ?it/s]                \n",
      "Batches:   7%|▋         | 195/2975 [04:56<1:04:45,  1.40s/it]\u001b[A\n",
      "Batches:   7%|▋         | 196/2975 [04:56<58:46,  1.27s/it]  \u001b[A"
     ]
    },
    {
     "name": "stdout",
     "output_type": "stream",
     "text": [
      "[0/1][195/2975]                          LossD: 0.2076 (real: 0.0938, fake: 0.3214)                          LossG: 20.7812 (pred: 1.8863, L1: 18.8948)                          D(x): 0.9143                          D(G(z)): 0.2665 -> 0.1660\n"
     ]
    },
    {
     "name": "stderr",
     "output_type": "stream",
     "text": [
      "\n",
      "Batches:   7%|▋         | 197/2975 [04:57<52:52,  1.14s/it]\u001b[A\n",
      "Batches:   7%|▋         | 198/2975 [04:58<51:01,  1.10s/it]\u001b[A\n",
      "Batches:   7%|▋         | 199/2975 [04:59<47:53,  1.04s/it]\u001b[A\n",
      "                                             11,  1.02s/it]\u001b[A\n",
      "Epochs:   0%|          | 0/1 [05:00<?, ?it/s]              \n",
      "Batches:   7%|▋         | 200/2975 [05:00<47:11,  1.02s/it]\u001b[A"
     ]
    },
    {
     "name": "stdout",
     "output_type": "stream",
     "text": [
      "[0/1][200/2975]                          LossD: 0.1553 (real: 0.1284, fake: 0.1823)                          LossG: 26.9053 (pred: 1.7652, L1: 25.1401)                          D(x): 0.8884                          D(G(z)): 0.1636 -> 0.1814\n"
     ]
    },
    {
     "name": "stderr",
     "output_type": "stream",
     "text": [
      "\n",
      "Batches:   7%|▋         | 201/2975 [05:04<1:37:54,  2.12s/it]\u001b[A\n",
      "Batches:   7%|▋         | 202/2975 [05:05<1:19:28,  1.72s/it]\u001b[A\n",
      "Batches:   7%|▋         | 203/2975 [05:06<1:07:35,  1.46s/it]\u001b[A\n",
      "Batches:   7%|▋         | 204/2975 [05:07<58:47,  1.27s/it]  \u001b[A\n",
      "                                             20,  1.16s/it]\u001b[A\n",
      "Epochs:   0%|          | 0/1 [05:08<?, ?it/s]              \n",
      "Batches:   7%|▋         | 205/2975 [05:08<53:20,  1.16s/it]\u001b[A\n",
      "Batches:   7%|▋         | 206/2975 [05:08<49:25,  1.07s/it]\u001b[A"
     ]
    },
    {
     "name": "stdout",
     "output_type": "stream",
     "text": [
      "[0/1][205/2975]                          LossD: 0.4635 (real: 0.2967, fake: 0.6302)                          LossG: 35.9455 (pred: 1.4863, L1: 34.4592)                          D(x): 0.7619                          D(G(z)): 0.3451 -> 0.2550\n"
     ]
    },
    {
     "name": "stderr",
     "output_type": "stream",
     "text": [
      "\n",
      "Batches:   7%|▋         | 207/2975 [05:09<46:19,  1.00s/it]\u001b[A\n",
      "Batches:   7%|▋         | 208/2975 [05:10<44:22,  1.04it/s]\u001b[A\n",
      "Batches:   7%|▋         | 209/2975 [05:11<43:08,  1.07it/s]\u001b[A\n",
      "                                             09,  1.09it/s]\u001b[A\n",
      "Epochs:   0%|          | 0/1 [05:13<?, ?it/s]              \n",
      "Batches:   7%|▋         | 210/2975 [05:13<42:09,  1.09it/s]\u001b[A"
     ]
    },
    {
     "name": "stdout",
     "output_type": "stream",
     "text": [
      "[0/1][210/2975]                          LossD: 0.3442 (real: 0.2016, fake: 0.4868)                          LossG: 22.4261 (pred: 1.2387, L1: 21.1874)                          D(x): 0.8217                          D(G(z)): 0.3558 -> 0.3631\n"
     ]
    },
    {
     "name": "stderr",
     "output_type": "stream",
     "text": [
      "\n",
      "Batches:   7%|▋         | 211/2975 [05:17<1:43:42,  2.25s/it]\u001b[A\n",
      "Batches:   7%|▋         | 212/2975 [05:18<1:23:51,  1.82s/it]\u001b[A\n",
      "Batches:   7%|▋         | 213/2975 [05:19<1:10:18,  1.53s/it]\u001b[A\n",
      "Batches:   7%|▋         | 214/2975 [05:20<1:01:06,  1.33s/it]\u001b[A\n",
      "                                             55,  1.19s/it]  \u001b[A\n",
      "Epochs:   0%|          | 0/1 [05:22<?, ?it/s]              \n",
      "Batches:   7%|▋         | 215/2975 [05:22<54:55,  1.19s/it]\u001b[A\n",
      "Batches:   7%|▋         | 216/2975 [05:22<51:01,  1.11s/it]\u001b[A"
     ]
    },
    {
     "name": "stdout",
     "output_type": "stream",
     "text": [
      "[0/1][215/2975]                          LossD: 0.1797 (real: 0.2417, fake: 0.1177)                          LossG: 31.4283 (pred: 2.3971, L1: 29.0311)                          D(x): 0.8070                          D(G(z)): 0.1080 -> 0.1098\n"
     ]
    },
    {
     "name": "stderr",
     "output_type": "stream",
     "text": [
      "\n",
      "Batches:   7%|▋         | 217/2975 [05:22<47:17,  1.03s/it]\u001b[A\n",
      "Batches:   7%|▋         | 218/2975 [05:23<44:21,  1.04it/s]\u001b[A\n",
      "Batches:   7%|▋         | 219/2975 [05:24<42:26,  1.08it/s]\u001b[A\n",
      "                                             41,  1.10it/s]\u001b[A\n",
      "Epochs:   0%|          | 0/1 [05:26<?, ?it/s]              \n",
      "Batches:   7%|▋         | 220/2975 [05:26<41:41,  1.10it/s]\u001b[A"
     ]
    },
    {
     "name": "stdout",
     "output_type": "stream",
     "text": [
      "[0/1][220/2975]                          LossD: 0.3398 (real: 0.3796, fake: 0.3000)                          LossG: 22.1716 (pred: 1.6157, L1: 20.5559)                          D(x): 0.7004                          D(G(z)): 0.2447 -> 0.2131\n"
     ]
    },
    {
     "name": "stderr",
     "output_type": "stream",
     "text": [
      "\n",
      "Batches:   7%|▋         | 221/2975 [05:30<1:40:51,  2.20s/it]\u001b[A\n",
      "Batches:   7%|▋         | 222/2975 [05:31<1:21:04,  1.77s/it]\u001b[A\n",
      "Batches:   7%|▋         | 223/2975 [05:32<1:07:56,  1.48s/it]\u001b[A\n",
      "Batches:   8%|▊         | 224/2975 [05:33<59:44,  1.30s/it]  \u001b[A\n",
      "                                             51,  1.20s/it]\u001b[A\n",
      "Epochs:   0%|          | 0/1 [05:35<?, ?it/s]              \n",
      "Batches:   8%|▊         | 225/2975 [05:35<54:51,  1.20s/it]\u001b[A\n",
      "Batches:   8%|▊         | 226/2975 [05:35<52:00,  1.14s/it]\u001b[A"
     ]
    },
    {
     "name": "stdout",
     "output_type": "stream",
     "text": [
      "[0/1][225/2975]                          LossD: 0.2428 (real: 0.0608, fake: 0.4247)                          LossG: 25.4015 (pred: 2.1079, L1: 23.2936)                          D(x): 0.9429                          D(G(z)): 0.3017 -> 0.1396\n"
     ]
    },
    {
     "name": "stderr",
     "output_type": "stream",
     "text": [
      "\n",
      "Batches:   8%|▊         | 227/2975 [05:35<48:29,  1.06s/it]\u001b[A\n",
      "Batches:   8%|▊         | 228/2975 [05:36<46:14,  1.01s/it]\u001b[A\n",
      "Batches:   8%|▊         | 229/2975 [05:37<46:38,  1.02s/it]\u001b[A\n",
      "                                             39,  1.02it/s]\u001b[A\n",
      "Epochs:   0%|          | 0/1 [05:39<?, ?it/s]              \n",
      "Batches:   8%|▊         | 230/2975 [05:39<44:39,  1.02it/s]\u001b[A"
     ]
    },
    {
     "name": "stdout",
     "output_type": "stream",
     "text": [
      "[0/1][230/2975]                          LossD: 0.7159 (real: 0.6479, fake: 0.7839)                          LossG: 17.7140 (pred: 1.1179, L1: 16.5961)                          D(x): 0.5785                          D(G(z)): 0.4444 -> 0.4420\n"
     ]
    },
    {
     "name": "stderr",
     "output_type": "stream",
     "text": [
      "\n",
      "Batches:   8%|▊         | 231/2975 [05:43<1:36:10,  2.10s/it]\u001b[A\n",
      "Batches:   8%|▊         | 232/2975 [05:44<1:18:50,  1.72s/it]\u001b[A\n",
      "Batches:   8%|▊         | 233/2975 [05:45<1:06:33,  1.46s/it]\u001b[A\n",
      "Batches:   8%|▊         | 234/2975 [05:45<58:00,  1.27s/it]  \u001b[A\n",
      "                                             00,  1.18s/it]\u001b[A\n",
      "Epochs:   0%|          | 0/1 [05:47<?, ?it/s]              \n",
      "Batches:   8%|▊         | 235/2975 [05:47<54:00,  1.18s/it]\u001b[A\n",
      "Batches:   8%|▊         | 236/2975 [05:47<49:52,  1.09s/it]\u001b[A"
     ]
    },
    {
     "name": "stdout",
     "output_type": "stream",
     "text": [
      "[0/1][235/2975]                          LossD: 0.4753 (real: 0.7198, fake: 0.2308)                          LossG: 24.4271 (pred: 0.6035, L1: 23.8236)                          D(x): 0.5209                          D(G(z)): 0.1957 -> 0.5707\n"
     ]
    },
    {
     "name": "stderr",
     "output_type": "stream",
     "text": [
      "\n",
      "Batches:   8%|▊         | 237/2975 [05:48<46:34,  1.02s/it]\u001b[A\n",
      "Batches:   8%|▊         | 238/2975 [05:49<44:51,  1.02it/s]\u001b[A\n",
      "Batches:   8%|▊         | 239/2975 [05:50<43:07,  1.06it/s]\u001b[A\n",
      "                                             16,  1.08it/s]\u001b[A\n",
      "Epochs:   0%|          | 0/1 [05:52<?, ?it/s]              \n",
      "Batches:   8%|▊         | 240/2975 [05:52<42:16,  1.08it/s]\u001b[A"
     ]
    },
    {
     "name": "stdout",
     "output_type": "stream",
     "text": [
      "[0/1][240/2975]                          LossD: 0.3792 (real: 0.3326, fake: 0.4258)                          LossG: 27.0349 (pred: 1.2265, L1: 25.8084)                          D(x): 0.7386                          D(G(z)): 0.2941 -> 0.3386\n"
     ]
    },
    {
     "name": "stderr",
     "output_type": "stream",
     "text": [
      "\n",
      "Batches:   8%|▊         | 241/2975 [05:56<1:41:09,  2.22s/it]\u001b[A\n",
      "Batches:   8%|▊         | 242/2975 [05:57<1:20:55,  1.78s/it]\u001b[A\n",
      "Batches:   8%|▊         | 243/2975 [05:58<1:07:46,  1.49s/it]\u001b[A\n",
      "Batches:   8%|▊         | 244/2975 [05:58<58:40,  1.29s/it]  \u001b[A\n",
      "                                             21,  1.15s/it]\u001b[A\n",
      "Epochs:   0%|          | 0/1 [06:00<?, ?it/s]              \n",
      "Batches:   8%|▊         | 245/2975 [06:00<52:21,  1.15s/it]\u001b[A\n",
      "Batches:   8%|▊         | 246/2975 [06:00<48:04,  1.06s/it]\u001b[A"
     ]
    },
    {
     "name": "stdout",
     "output_type": "stream",
     "text": [
      "[0/1][245/2975]                          LossD: 0.2438 (real: 0.0822, fake: 0.4054)                          LossG: 24.8103 (pred: 2.4404, L1: 22.3700)                          D(x): 0.9236                          D(G(z)): 0.2692 -> 0.1061\n"
     ]
    },
    {
     "name": "stderr",
     "output_type": "stream",
     "text": [
      "\n",
      "Batches:   8%|▊         | 247/2975 [06:01<45:03,  1.01it/s]\u001b[A\n",
      "Batches:   8%|▊         | 248/2975 [06:02<42:40,  1.06it/s]\u001b[A\n",
      "Batches:   8%|▊         | 249/2975 [06:03<46:09,  1.02s/it]\u001b[A\n",
      "                                             15,  1.00it/s]\u001b[A\n",
      "Epochs:   0%|          | 0/1 [06:05<?, ?it/s]              \n",
      "Batches:   8%|▊         | 250/2975 [06:05<45:15,  1.00it/s]\u001b[A"
     ]
    },
    {
     "name": "stdout",
     "output_type": "stream",
     "text": [
      "[0/1][250/2975]                          LossD: 0.2282 (real: 0.2370, fake: 0.2194)                          LossG: 22.0109 (pred: 1.7187, L1: 20.2922)                          D(x): 0.8045                          D(G(z)): 0.1914 -> 0.2162\n"
     ]
    },
    {
     "name": "stderr",
     "output_type": "stream",
     "text": [
      "\n",
      "Batches:   8%|▊         | 251/2975 [06:09<1:39:14,  2.19s/it]\u001b[A\n",
      "Batches:   8%|▊         | 252/2975 [06:10<1:19:31,  1.75s/it]\u001b[A\n",
      "Batches:   9%|▊         | 253/2975 [06:10<1:06:06,  1.46s/it]\u001b[A\n",
      "Batches:   9%|▊         | 254/2975 [06:11<57:13,  1.26s/it]  \u001b[A\n",
      "                                             42,  1.23s/it]\u001b[A\n",
      "Epochs:   0%|          | 0/1 [06:14<?, ?it/s]              \n",
      "Batches:   9%|▊         | 255/2975 [06:14<55:42,  1.23s/it]\u001b[A\n",
      "Batches:   9%|▊         | 256/2975 [06:14<55:38,  1.23s/it]\u001b[A"
     ]
    },
    {
     "name": "stdout",
     "output_type": "stream",
     "text": [
      "[0/1][255/2975]                          LossD: 0.3931 (real: 0.5316, fake: 0.2547)                          LossG: 23.3900 (pred: 1.3182, L1: 22.0718)                          D(x): 0.6075                          D(G(z)): 0.2113 -> 0.2946\n"
     ]
    },
    {
     "name": "stderr",
     "output_type": "stream",
     "text": [
      "\n",
      "Batches:   9%|▊         | 257/2975 [06:15<54:42,  1.21s/it]\u001b[A\n",
      "Batches:   9%|▊         | 258/2975 [06:16<53:04,  1.17s/it]\u001b[A\n",
      "Batches:   9%|▊         | 259/2975 [06:17<51:51,  1.15s/it]\u001b[A\n",
      "                                             12,  1.13s/it]\u001b[A\n",
      "Epochs:   0%|          | 0/1 [06:19<?, ?it/s]              \n",
      "Batches:   9%|▊         | 260/2975 [06:19<51:12,  1.13s/it]\u001b[A"
     ]
    },
    {
     "name": "stdout",
     "output_type": "stream",
     "text": [
      "[0/1][260/2975]                          LossD: 0.1951 (real: 0.2071, fake: 0.1831)                          LossG: 22.8989 (pred: 2.0673, L1: 20.8316)                          D(x): 0.8216                          D(G(z)): 0.1638 -> 0.1400\n"
     ]
    },
    {
     "name": "stderr",
     "output_type": "stream",
     "text": [
      "\n",
      "Batches:   9%|▉         | 261/2975 [06:23<1:48:22,  2.40s/it]\u001b[A\n",
      "Batches:   9%|▉         | 262/2975 [06:24<1:25:59,  1.90s/it]\u001b[A\n",
      "Batches:   9%|▉         | 263/2975 [06:25<1:11:41,  1.59s/it]\u001b[A\n",
      "Batches:   9%|▉         | 264/2975 [06:26<1:02:12,  1.38s/it]\u001b[A\n",
      "                                             16,  1.25s/it]  \u001b[A\n",
      "Epochs:   0%|          | 0/1 [06:28<?, ?it/s]              \n",
      "Batches:   9%|▉         | 265/2975 [06:28<56:16,  1.25s/it]\u001b[A\n",
      "Batches:   9%|▉         | 266/2975 [06:28<53:48,  1.19s/it]\u001b[A"
     ]
    },
    {
     "name": "stdout",
     "output_type": "stream",
     "text": [
      "[0/1][265/2975]                          LossD: 0.1174 (real: 0.0732, fake: 0.1616)                          LossG: 23.8513 (pred: 2.3190, L1: 21.5323)                          D(x): 0.9314                          D(G(z)): 0.1413 -> 0.1100\n"
     ]
    },
    {
     "name": "stderr",
     "output_type": "stream",
     "text": [
      "\n",
      "Batches:   9%|▉         | 267/2975 [06:29<51:47,  1.15s/it]\u001b[A\n",
      "Batches:   9%|▉         | 268/2975 [06:30<49:29,  1.10s/it]\u001b[A\n",
      "Batches:   9%|▉         | 269/2975 [06:31<47:12,  1.05s/it]\u001b[A\n",
      "                                             09,  1.05s/it]\u001b[A\n",
      "Epochs:   0%|          | 0/1 [06:33<?, ?it/s]              \n",
      "Batches:   9%|▉         | 270/2975 [06:33<47:09,  1.05s/it]\u001b[A"
     ]
    },
    {
     "name": "stdout",
     "output_type": "stream",
     "text": [
      "[0/1][270/2975]                          LossD: 0.5327 (real: 0.8602, fake: 0.2052)                          LossG: 21.6747 (pred: 0.8462, L1: 20.8285)                          D(x): 0.4667                          D(G(z)): 0.1814 -> 0.4877\n"
     ]
    },
    {
     "name": "stderr",
     "output_type": "stream",
     "text": [
      "\n",
      "Batches:   9%|▉         | 271/2975 [06:37<1:41:03,  2.24s/it]\u001b[A\n",
      "Batches:   9%|▉         | 272/2975 [06:38<1:20:49,  1.79s/it]\u001b[A\n",
      "Batches:   9%|▉         | 273/2975 [06:38<1:06:41,  1.48s/it]\u001b[A\n",
      "Batches:   9%|▉         | 274/2975 [06:39<1:00:29,  1.34s/it]\u001b[A\n",
      "                                             21,  1.23s/it]  \u001b[A\n",
      "Epochs:   0%|          | 0/1 [06:41<?, ?it/s]              \n",
      "Batches:   9%|▉         | 275/2975 [06:41<55:21,  1.23s/it]\u001b[A\n",
      "Batches:   9%|▉         | 276/2975 [06:41<54:02,  1.20s/it]\u001b[A"
     ]
    },
    {
     "name": "stdout",
     "output_type": "stream",
     "text": [
      "[0/1][275/2975]                          LossD: 0.3357 (real: 0.0950, fake: 0.5764)                          LossG: 23.5718 (pred: 1.8887, L1: 21.6831)                          D(x): 0.9133                          D(G(z)): 0.3942 -> 0.1787\n"
     ]
    },
    {
     "name": "stderr",
     "output_type": "stream",
     "text": [
      "\n",
      "Batches:   9%|▉         | 277/2975 [06:42<50:36,  1.13s/it]\u001b[A\n",
      "Batches:   9%|▉         | 278/2975 [06:43<49:00,  1.09s/it]\u001b[A\n",
      "Batches:   9%|▉         | 279/2975 [06:44<47:46,  1.06s/it]\u001b[A\n",
      "                                             51,  1.02s/it]\u001b[A\n",
      "Epochs:   0%|          | 0/1 [06:46<?, ?it/s]              \n",
      "Batches:   9%|▉         | 280/2975 [06:46<45:51,  1.02s/it]\u001b[A"
     ]
    },
    {
     "name": "stdout",
     "output_type": "stream",
     "text": [
      "[0/1][280/2975]                          LossD: 0.3306 (real: 0.3399, fake: 0.3212)                          LossG: 21.4611 (pred: 1.6844, L1: 19.7767)                          D(x): 0.7353                          D(G(z)): 0.2631 -> 0.2134\n"
     ]
    },
    {
     "name": "stderr",
     "output_type": "stream",
     "text": [
      "\n",
      "Batches:   9%|▉         | 281/2975 [06:50<1:41:19,  2.26s/it]\u001b[A\n",
      "Batches:   9%|▉         | 282/2975 [06:51<1:22:02,  1.83s/it]\u001b[A\n",
      "Batches:  10%|▉         | 283/2975 [06:52<1:08:45,  1.53s/it]\u001b[A\n",
      "Batches:  10%|▉         | 284/2975 [06:53<59:32,  1.33s/it]  \u001b[A\n",
      "                                             37,  1.17s/it]\u001b[A\n",
      "Epochs:   0%|          | 0/1 [06:55<?, ?it/s]              \n",
      "Batches:  10%|▉         | 285/2975 [06:55<52:37,  1.17s/it]\u001b[A\n",
      "Batches:  10%|▉         | 286/2975 [06:55<48:31,  1.08s/it]\u001b[A"
     ]
    },
    {
     "name": "stdout",
     "output_type": "stream",
     "text": [
      "[0/1][285/2975]                          LossD: 0.2610 (real: 0.4362, fake: 0.0857)                          LossG: 25.2676 (pred: 2.1988, L1: 23.0688)                          D(x): 0.6642                          D(G(z)): 0.0804 -> 0.1329\n"
     ]
    },
    {
     "name": "stderr",
     "output_type": "stream",
     "text": [
      "\n",
      "Batches:  10%|▉         | 287/2975 [06:56<45:29,  1.02s/it]\u001b[A\n",
      "Batches:  10%|▉         | 288/2975 [06:56<42:56,  1.04it/s]\u001b[A\n",
      "Batches:  10%|▉         | 289/2975 [06:57<41:37,  1.08it/s]\u001b[A\n",
      "                                             52,  1.09it/s]\u001b[A\n",
      "Epochs:   0%|          | 0/1 [06:59<?, ?it/s]              \n",
      "Batches:  10%|▉         | 290/2975 [06:59<40:52,  1.09it/s]\u001b[A"
     ]
    },
    {
     "name": "stdout",
     "output_type": "stream",
     "text": [
      "[0/1][290/2975]                          LossD: 0.3488 (real: 0.6388, fake: 0.0589)                          LossG: 24.6760 (pred: 2.1008, L1: 22.5752)                          D(x): 0.5911                          D(G(z)): 0.0556 -> 0.1546\n"
     ]
    },
    {
     "name": "stderr",
     "output_type": "stream",
     "text": [
      "\n",
      "Batches:  10%|▉         | 291/2975 [07:03<1:32:18,  2.06s/it]\u001b[A\n",
      "Batches:  10%|▉         | 292/2975 [07:04<1:15:29,  1.69s/it]\u001b[A\n",
      "Batches:  10%|▉         | 293/2975 [07:05<1:07:58,  1.52s/it]\u001b[A\n",
      "Batches:  10%|▉         | 294/2975 [07:06<58:41,  1.31s/it]  \u001b[A\n",
      "                                             55,  1.18s/it]\u001b[A\n",
      "Epochs:   0%|          | 0/1 [07:07<?, ?it/s]              \n",
      "Batches:  10%|▉         | 295/2975 [07:07<52:55,  1.18s/it]\u001b[A\n",
      "Batches:  10%|▉         | 296/2975 [07:07<49:53,  1.12s/it]\u001b[A"
     ]
    },
    {
     "name": "stdout",
     "output_type": "stream",
     "text": [
      "[0/1][295/2975]                          LossD: 1.0502 (real: 1.6938, fake: 0.4066)                          LossG: 23.0266 (pred: 0.6481, L1: 22.3785)                          D(x): 0.2363                          D(G(z)): 0.3059 -> 0.5711\n"
     ]
    },
    {
     "name": "stderr",
     "output_type": "stream",
     "text": [
      "\n",
      "Batches:  10%|▉         | 297/2975 [07:08<46:11,  1.03s/it]\u001b[A\n",
      "Batches:  10%|█         | 298/2975 [07:09<43:17,  1.03it/s]\u001b[A\n",
      "Batches:  10%|█         | 299/2975 [07:10<41:24,  1.08it/s]\u001b[A\n",
      "                                             30,  1.07it/s]\u001b[A\n",
      "Epochs:   0%|          | 0/1 [07:12<?, ?it/s]              \n",
      "Batches:  10%|█         | 300/2975 [07:12<41:30,  1.07it/s]\u001b[A"
     ]
    },
    {
     "name": "stdout",
     "output_type": "stream",
     "text": [
      "[0/1][300/2975]                          LossD: 0.5381 (real: 0.8421, fake: 0.2341)                          LossG: 19.6262 (pred: 1.6283, L1: 17.9979)                          D(x): 0.4813                          D(G(z)): 0.1981 -> 0.2593\n"
     ]
    },
    {
     "name": "stderr",
     "output_type": "stream",
     "text": [
      "\n",
      "Batches:  10%|█         | 301/2975 [07:17<1:47:37,  2.42s/it]\u001b[A\n",
      "Batches:  10%|█         | 302/2975 [07:18<1:29:29,  2.01s/it]\u001b[A\n",
      "Batches:  10%|█         | 303/2975 [07:19<1:18:21,  1.76s/it]\u001b[A\n",
      "Batches:  10%|█         | 304/2975 [07:20<1:09:59,  1.57s/it]\u001b[A\n",
      "                                             0:32,  1.36s/it]\u001b[A\n",
      "Epochs:   0%|          | 0/1 [07:23<?, ?it/s]                \n",
      "Batches:  10%|█         | 305/2975 [07:23<1:00:32,  1.36s/it]\u001b[A\n",
      "Batches:  10%|█         | 306/2975 [07:23<1:04:35,  1.45s/it]\u001b[A"
     ]
    },
    {
     "name": "stdout",
     "output_type": "stream",
     "text": [
      "[0/1][305/2975]                          LossD: 0.3658 (real: 0.4695, fake: 0.2621)                          LossG: 18.5572 (pred: 1.5665, L1: 16.9906)                          D(x): 0.6495                          D(G(z)): 0.2234 -> 0.2257\n"
     ]
    },
    {
     "name": "stderr",
     "output_type": "stream",
     "text": [
      "\n",
      "Batches:  10%|█         | 307/2975 [07:24<56:22,  1.27s/it]  \u001b[A\n",
      "Batches:  10%|█         | 308/2975 [07:24<51:14,  1.15s/it]\u001b[A\n",
      "Batches:  10%|█         | 309/2975 [07:26<53:31,  1.20s/it]\u001b[A\n",
      "                                             19,  1.11s/it]\u001b[A\n",
      "Epochs:   0%|          | 0/1 [07:28<?, ?it/s]              \n",
      "Batches:  10%|█         | 310/2975 [07:28<49:19,  1.11s/it]\u001b[A"
     ]
    },
    {
     "name": "stdout",
     "output_type": "stream",
     "text": [
      "[0/1][310/2975]                          LossD: 0.1083 (real: 0.0524, fake: 0.1642)                          LossG: 33.2471 (pred: 2.4653, L1: 30.7819)                          D(x): 0.9502                          D(G(z)): 0.1456 -> 0.1108\n"
     ]
    },
    {
     "name": "stderr",
     "output_type": "stream",
     "text": [
      "\n",
      "Batches:  10%|█         | 311/2975 [07:32<1:43:18,  2.33s/it]\u001b[A\n",
      "Batches:  10%|█         | 312/2975 [07:33<1:22:11,  1.85s/it]\u001b[A\n",
      "Batches:  11%|█         | 313/2975 [07:33<1:08:44,  1.55s/it]\u001b[A\n",
      "Batches:  11%|█         | 314/2975 [07:34<1:02:28,  1.41s/it]\u001b[A\n",
      "                                             29,  1.32s/it]  \u001b[A\n",
      "Epochs:   0%|          | 0/1 [07:37<?, ?it/s]              \n",
      "Batches:  11%|█         | 315/2975 [07:37<58:29,  1.32s/it]\u001b[A\n",
      "Batches:  11%|█         | 316/2975 [07:37<54:02,  1.22s/it]\u001b[A"
     ]
    },
    {
     "name": "stdout",
     "output_type": "stream",
     "text": [
      "[0/1][315/2975]                          LossD: 0.7259 (real: 0.0751, fake: 1.3767)                          LossG: 21.4891 (pred: 1.1861, L1: 20.3029)                          D(x): 0.9302                          D(G(z)): 0.6435 -> 0.3443\n"
     ]
    },
    {
     "name": "stderr",
     "output_type": "stream",
     "text": [
      "\n",
      "Batches:  11%|█         | 317/2975 [07:38<50:31,  1.14s/it]\u001b[A\n",
      "Batches:  11%|█         | 318/2975 [07:38<47:39,  1.08s/it]\u001b[A\n",
      "Batches:  11%|█         | 319/2975 [07:39<45:26,  1.03s/it]\u001b[A\n",
      "                                             46,  1.01it/s]\u001b[A\n",
      "Epochs:   0%|          | 0/1 [07:41<?, ?it/s]              \n",
      "Batches:  11%|█         | 320/2975 [07:41<43:46,  1.01it/s]\u001b[A"
     ]
    },
    {
     "name": "stdout",
     "output_type": "stream",
     "text": [
      "[0/1][320/2975]                          LossD: 0.5379 (real: 0.6039, fake: 0.4720)                          LossG: 18.4766 (pred: 1.1168, L1: 17.3598)                          D(x): 0.5872                          D(G(z)): 0.3562 -> 0.3783\n"
     ]
    },
    {
     "name": "stderr",
     "output_type": "stream",
     "text": [
      "\n",
      "Batches:  11%|█         | 321/2975 [07:45<1:39:38,  2.25s/it]\u001b[A\n",
      "Batches:  11%|█         | 322/2975 [07:46<1:19:52,  1.81s/it]\u001b[A\n",
      "Batches:  11%|█         | 323/2975 [07:47<1:06:38,  1.51s/it]\u001b[A\n",
      "Batches:  11%|█         | 324/2975 [07:48<58:50,  1.33s/it]  \u001b[A\n",
      "                                             06,  1.20s/it]\u001b[A\n",
      "Epochs:   0%|          | 0/1 [07:50<?, ?it/s]              \n",
      "Batches:  11%|█         | 325/2975 [07:50<53:06,  1.20s/it]\u001b[A\n",
      "Batches:  11%|█         | 326/2975 [07:50<50:18,  1.14s/it]\u001b[A"
     ]
    },
    {
     "name": "stdout",
     "output_type": "stream",
     "text": [
      "[0/1][325/2975]                          LossD: 0.3972 (real: 0.5071, fake: 0.2873)                          LossG: 21.4243 (pred: 1.7185, L1: 19.7058)                          D(x): 0.6307                          D(G(z)): 0.2344 -> 0.1981\n"
     ]
    },
    {
     "name": "stderr",
     "output_type": "stream",
     "text": [
      "\n",
      "Batches:  11%|█         | 327/2975 [07:51<47:35,  1.08s/it]\u001b[A\n",
      "Batches:  11%|█         | 328/2975 [07:52<46:32,  1.05s/it]\u001b[A\n",
      "Batches:  11%|█         | 329/2975 [07:53<46:01,  1.04s/it]\u001b[A\n",
      "                                             20,  1.01s/it]\u001b[A\n",
      "Epochs:   0%|          | 0/1 [07:55<?, ?it/s]              \n",
      "Batches:  11%|█         | 330/2975 [07:55<44:20,  1.01s/it]\u001b[A"
     ]
    },
    {
     "name": "stdout",
     "output_type": "stream",
     "text": [
      "[0/1][330/2975]                          LossD: 0.1668 (real: 0.2097, fake: 0.1239)                          LossG: 17.8530 (pred: 2.2049, L1: 15.6480)                          D(x): 0.8159                          D(G(z)): 0.1129 -> 0.1269\n"
     ]
    },
    {
     "name": "stderr",
     "output_type": "stream",
     "text": [
      "\n",
      "Batches:  11%|█         | 331/2975 [07:59<1:38:00,  2.22s/it]\u001b[A\n",
      "Batches:  11%|█         | 332/2975 [08:00<1:18:37,  1.79s/it]\u001b[A\n",
      "Batches:  11%|█         | 333/2975 [08:00<1:06:28,  1.51s/it]\u001b[A\n",
      "Batches:  11%|█         | 334/2975 [08:01<57:50,  1.31s/it]  \u001b[A\n",
      "                                             14,  1.30s/it]\u001b[A\n",
      "Epochs:   0%|          | 0/1 [08:04<?, ?it/s]              \n",
      "Batches:  11%|█▏        | 335/2975 [08:04<57:14,  1.30s/it]\u001b[A\n",
      "Batches:  11%|█▏        | 336/2975 [08:04<53:24,  1.21s/it]\u001b[A"
     ]
    },
    {
     "name": "stdout",
     "output_type": "stream",
     "text": [
      "[0/1][335/2975]                          LossD: 0.4031 (real: 0.2042, fake: 0.6020)                          LossG: 30.6021 (pred: 2.2615, L1: 28.3407)                          D(x): 0.8243                          D(G(z)): 0.3968 -> 0.1224\n"
     ]
    },
    {
     "name": "stderr",
     "output_type": "stream",
     "text": [
      "\n",
      "Batches:  11%|█▏        | 337/2975 [08:05<50:07,  1.14s/it]\u001b[A\n",
      "Batches:  11%|█▏        | 338/2975 [08:06<48:07,  1.09s/it]\u001b[A\n",
      "Batches:  11%|█▏        | 339/2975 [08:07<46:59,  1.07s/it]\u001b[A\n",
      "                                             53,  1.04s/it]\u001b[A\n",
      "Epochs:   0%|          | 0/1 [08:09<?, ?it/s]              \n",
      "Batches:  11%|█▏        | 340/2975 [08:09<45:53,  1.04s/it]\u001b[A"
     ]
    },
    {
     "name": "stdout",
     "output_type": "stream",
     "text": [
      "[0/1][340/2975]                          LossD: 0.6005 (real: 0.8079, fake: 0.3932)                          LossG: 22.9099 (pred: 1.2436, L1: 21.6663)                          D(x): 0.4648                          D(G(z)): 0.3102 -> 0.3220\n"
     ]
    },
    {
     "name": "stderr",
     "output_type": "stream",
     "text": [
      "\n",
      "Batches:  11%|█▏        | 341/2975 [08:13<1:43:38,  2.36s/it]\u001b[A\n",
      "Batches:  11%|█▏        | 342/2975 [08:14<1:23:19,  1.90s/it]\u001b[A\n",
      "Batches:  12%|█▏        | 343/2975 [08:15<1:09:42,  1.59s/it]\u001b[A\n",
      "Batches:  12%|█▏        | 344/2975 [08:16<1:00:10,  1.37s/it]\u001b[A\n",
      "                                             56,  1.23s/it]  \u001b[A\n",
      "Epochs:   0%|          | 0/1 [08:18<?, ?it/s]              \n",
      "Batches:  12%|█▏        | 345/2975 [08:18<53:56,  1.23s/it]\u001b[A\n",
      "Batches:  12%|█▏        | 346/2975 [08:18<55:10,  1.26s/it]\u001b[A"
     ]
    },
    {
     "name": "stdout",
     "output_type": "stream",
     "text": [
      "[0/1][345/2975]                          LossD: 0.6144 (real: 0.9187, fake: 0.3101)                          LossG: 20.3221 (pred: 1.6027, L1: 18.7194)                          D(x): 0.4486                          D(G(z)): 0.2524 -> 0.2362\n"
     ]
    },
    {
     "name": "stderr",
     "output_type": "stream",
     "text": [
      "\n",
      "Batches:  12%|█▏        | 347/2975 [08:19<49:37,  1.13s/it]\u001b[A\n",
      "Batches:  12%|█▏        | 348/2975 [08:20<55:05,  1.26s/it]\u001b[A\n",
      "Batches:  12%|█▏        | 349/2975 [08:21<50:45,  1.16s/it]\u001b[A\n",
      "                                             31,  1.09s/it]\u001b[A\n",
      "Epochs:   0%|          | 0/1 [08:23<?, ?it/s]              \n",
      "Batches:  12%|█▏        | 350/2975 [08:23<47:31,  1.09s/it]\u001b[A"
     ]
    },
    {
     "name": "stdout",
     "output_type": "stream",
     "text": [
      "[0/1][350/2975]                          LossD: 0.4187 (real: 0.3610, fake: 0.4765)                          LossG: 26.4639 (pred: 1.4972, L1: 24.9668)                          D(x): 0.7241                          D(G(z)): 0.3541 -> 0.2646\n"
     ]
    },
    {
     "name": "stderr",
     "output_type": "stream",
     "text": [
      "\n",
      "Batches:  12%|█▏        | 351/2975 [08:27<1:39:09,  2.27s/it]\u001b[A\n",
      "Batches:  12%|█▏        | 352/2975 [08:28<1:19:20,  1.81s/it]\u001b[A\n",
      "Batches:  12%|█▏        | 353/2975 [08:29<1:06:09,  1.51s/it]\u001b[A\n",
      "Batches:  12%|█▏        | 354/2975 [08:29<58:15,  1.33s/it]  \u001b[A\n",
      "                                             26,  1.18s/it]\u001b[A\n",
      "Epochs:   0%|          | 0/1 [08:31<?, ?it/s]              \n",
      "Batches:  12%|█▏        | 355/2975 [08:31<51:26,  1.18s/it]\u001b[A\n",
      "Batches:  12%|█▏        | 356/2975 [08:31<48:10,  1.10s/it]\u001b[A"
     ]
    },
    {
     "name": "stdout",
     "output_type": "stream",
     "text": [
      "[0/1][355/2975]                          LossD: 0.3311 (real: 0.1095, fake: 0.5527)                          LossG: 24.2196 (pred: 1.2705, L1: 22.9492)                          D(x): 0.8986                          D(G(z)): 0.4073 -> 0.3112\n"
     ]
    },
    {
     "name": "stderr",
     "output_type": "stream",
     "text": [
      "\n",
      "Batches:  12%|█▏        | 357/2975 [08:32<45:55,  1.05s/it]\u001b[A\n",
      "Batches:  12%|█▏        | 358/2975 [08:33<44:11,  1.01s/it]\u001b[A\n",
      "Batches:  12%|█▏        | 359/2975 [08:34<43:03,  1.01it/s]\u001b[A\n",
      "                                             02,  1.17s/it]\u001b[A\n",
      "Epochs:   0%|          | 0/1 [08:37<?, ?it/s]              \n",
      "Batches:  12%|█▏        | 360/2975 [08:37<51:02,  1.17s/it]\u001b[A"
     ]
    },
    {
     "name": "stdout",
     "output_type": "stream",
     "text": [
      "[0/1][360/2975]                          LossD: 0.2587 (real: 0.3116, fake: 0.2058)                          LossG: 21.2035 (pred: 1.8287, L1: 19.3748)                          D(x): 0.7385                          D(G(z)): 0.1826 -> 0.1736\n"
     ]
    },
    {
     "name": "stderr",
     "output_type": "stream",
     "text": [
      "\n",
      "Batches:  12%|█▏        | 361/2975 [08:41<1:40:48,  2.31s/it]\u001b[A\n",
      "Batches:  12%|█▏        | 362/2975 [08:41<1:20:21,  1.85s/it]\u001b[A\n",
      "Batches:  12%|█▏        | 363/2975 [08:42<1:08:39,  1.58s/it]\u001b[A\n",
      "Batches:  12%|█▏        | 364/2975 [08:43<1:00:20,  1.39s/it]\u001b[A\n",
      "                                             03,  1.29s/it]  \u001b[A\n",
      "Epochs:   0%|          | 0/1 [08:45<?, ?it/s]              \n",
      "Batches:  12%|█▏        | 365/2975 [08:45<56:03,  1.29s/it]\u001b[A\n",
      "Batches:  12%|█▏        | 366/2975 [08:45<52:02,  1.20s/it]\u001b[A"
     ]
    },
    {
     "name": "stdout",
     "output_type": "stream",
     "text": [
      "[0/1][365/2975]                          LossD: 0.2605 (real: 0.2258, fake: 0.2952)                          LossG: 22.3010 (pred: 1.9264, L1: 20.3746)                          D(x): 0.8061                          D(G(z)): 0.2490 -> 0.1563\n"
     ]
    },
    {
     "name": "stderr",
     "output_type": "stream",
     "text": [
      "\n",
      "Batches:  12%|█▏        | 367/2975 [08:46<48:46,  1.12s/it]\u001b[A\n",
      "Batches:  12%|█▏        | 368/2975 [08:47<46:43,  1.08s/it]\u001b[A\n",
      "Batches:  12%|█▏        | 369/2975 [08:48<44:58,  1.04s/it]\u001b[A\n",
      "                                             37,  1.00s/it]\u001b[A\n",
      "Epochs:   0%|          | 0/1 [08:50<?, ?it/s]              \n",
      "Batches:  12%|█▏        | 370/2975 [08:50<43:37,  1.00s/it]\u001b[A"
     ]
    },
    {
     "name": "stdout",
     "output_type": "stream",
     "text": [
      "[0/1][370/2975]                          LossD: 0.3882 (real: 0.5940, fake: 0.1824)                          LossG: 16.0428 (pred: 1.4022, L1: 14.6406)                          D(x): 0.5726                          D(G(z)): 0.1607 -> 0.2574\n"
     ]
    },
    {
     "name": "stderr",
     "output_type": "stream",
     "text": [
      "\n",
      "Batches:  12%|█▏        | 371/2975 [08:54<1:37:08,  2.24s/it]\u001b[A\n",
      "Batches:  13%|█▎        | 372/2975 [08:55<1:17:59,  1.80s/it]\u001b[A\n",
      "Batches:  13%|█▎        | 373/2975 [08:56<1:13:48,  1.70s/it]\u001b[A\n",
      "Batches:  13%|█▎        | 374/2975 [08:57<1:03:26,  1.46s/it]\u001b[A\n",
      "                                             57,  1.31s/it]  \u001b[A\n",
      "Epochs:   0%|          | 0/1 [08:59<?, ?it/s]              \n",
      "Batches:  13%|█▎        | 375/2975 [08:59<56:57,  1.31s/it]\u001b[A\n",
      "Batches:  13%|█▎        | 376/2975 [08:59<51:27,  1.19s/it]\u001b[A"
     ]
    },
    {
     "name": "stdout",
     "output_type": "stream",
     "text": [
      "[0/1][375/2975]                          LossD: 0.3061 (real: 0.3508, fake: 0.2614)                          LossG: 25.4685 (pred: 1.7647, L1: 23.7038)                          D(x): 0.7314                          D(G(z)): 0.2160 -> 0.2084\n"
     ]
    },
    {
     "name": "stderr",
     "output_type": "stream",
     "text": [
      "\n",
      "Batches:  13%|█▎        | 377/2975 [09:00<47:07,  1.09s/it]\u001b[A\n",
      "Batches:  13%|█▎        | 378/2975 [09:01<46:31,  1.07s/it]\u001b[A\n",
      "Batches:  13%|█▎        | 379/2975 [09:02<45:50,  1.06s/it]\u001b[A\n",
      "                                             28,  1.05s/it]\u001b[A\n",
      "Epochs:   0%|          | 0/1 [09:04<?, ?it/s]              \n",
      "Batches:  13%|█▎        | 380/2975 [09:04<45:28,  1.05s/it]\u001b[A"
     ]
    },
    {
     "name": "stdout",
     "output_type": "stream",
     "text": [
      "[0/1][380/2975]                          LossD: 0.2501 (real: 0.0668, fake: 0.4335)                          LossG: 33.8416 (pred: 1.7033, L1: 32.1383)                          D(x): 0.9388                          D(G(z)): 0.3321 -> 0.2084\n"
     ]
    },
    {
     "name": "stderr",
     "output_type": "stream",
     "text": [
      "\n",
      "Batches:  13%|█▎        | 381/2975 [09:09<1:42:50,  2.38s/it]\u001b[A\n",
      "Batches:  13%|█▎        | 382/2975 [09:09<1:22:01,  1.90s/it]\u001b[A\n",
      "Batches:  13%|█▎        | 383/2975 [09:10<1:09:33,  1.61s/it]\u001b[A\n",
      "Batches:  13%|█▎        | 384/2975 [09:11<59:14,  1.37s/it]  \u001b[A\n",
      "                                             07,  1.23s/it]\u001b[A\n",
      "Epochs:   0%|          | 0/1 [09:13<?, ?it/s]              \n",
      "Batches:  13%|█▎        | 385/2975 [09:13<53:07,  1.23s/it]\u001b[A\n",
      "Batches:  13%|█▎        | 386/2975 [09:13<50:04,  1.16s/it]\u001b[A"
     ]
    },
    {
     "name": "stdout",
     "output_type": "stream",
     "text": [
      "[0/1][385/2975]                          LossD: 0.5252 (real: 0.1863, fake: 0.8640)                          LossG: 18.6099 (pred: 1.1248, L1: 17.4851)                          D(x): 0.8376                          D(G(z)): 0.5397 -> 0.3512\n"
     ]
    },
    {
     "name": "stderr",
     "output_type": "stream",
     "text": [
      "\n",
      "Batches:  13%|█▎        | 387/2975 [09:14<48:40,  1.13s/it]\u001b[A\n",
      "Batches:  13%|█▎        | 388/2975 [09:15<46:58,  1.09s/it]\u001b[A\n",
      "Batches:  13%|█▎        | 389/2975 [09:16<47:18,  1.10s/it]\u001b[A\n",
      "                                             16,  1.05s/it]\u001b[A\n",
      "Epochs:   0%|          | 0/1 [09:18<?, ?it/s]              \n",
      "Batches:  13%|█▎        | 390/2975 [09:18<45:16,  1.05s/it]\u001b[A"
     ]
    },
    {
     "name": "stdout",
     "output_type": "stream",
     "text": [
      "[0/1][390/2975]                          LossD: 0.2342 (real: 0.2775, fake: 0.1909)                          LossG: 22.0288 (pred: 2.0537, L1: 19.9751)                          D(x): 0.7670                          D(G(z)): 0.1708 -> 0.1449\n"
     ]
    },
    {
     "name": "stderr",
     "output_type": "stream",
     "text": [
      "\n",
      "Batches:  13%|█▎        | 391/2975 [09:22<1:37:58,  2.28s/it]\u001b[A\n",
      "Batches:  13%|█▎        | 392/2975 [09:23<1:19:59,  1.86s/it]\u001b[A\n",
      "Batches:  13%|█▎        | 393/2975 [09:24<1:09:28,  1.61s/it]\u001b[A\n",
      "Batches:  13%|█▎        | 394/2975 [09:25<1:02:13,  1.45s/it]\u001b[A\n",
      "                                             59,  1.35s/it]  \u001b[A\n",
      "Epochs:   0%|          | 0/1 [09:27<?, ?it/s]              \n",
      "Batches:  13%|█▎        | 395/2975 [09:27<57:59,  1.35s/it]\u001b[A\n",
      "Batches:  13%|█▎        | 396/2975 [09:27<54:44,  1.27s/it]\u001b[A"
     ]
    },
    {
     "name": "stdout",
     "output_type": "stream",
     "text": [
      "[0/1][395/2975]                          LossD: 0.6214 (real: 0.4507, fake: 0.7921)                          LossG: 16.4406 (pred: 1.1846, L1: 15.2560)                          D(x): 0.6864                          D(G(z)): 0.5219 -> 0.3426\n"
     ]
    },
    {
     "name": "stderr",
     "output_type": "stream",
     "text": [
      "\n",
      "Batches:  13%|█▎        | 397/2975 [09:29<52:11,  1.21s/it]\u001b[A\n",
      "Batches:  13%|█▎        | 398/2975 [09:30<50:28,  1.18s/it]\u001b[A\n",
      "Batches:  13%|█▎        | 399/2975 [09:31<50:39,  1.18s/it]\u001b[A\n",
      "                                             31,  1.18s/it]\u001b[A\n",
      "Epochs:   0%|          | 0/1 [09:33<?, ?it/s]              \n",
      "Batches:  13%|█▎        | 400/2975 [09:33<50:31,  1.18s/it]\u001b[A"
     ]
    },
    {
     "name": "stdout",
     "output_type": "stream",
     "text": [
      "[0/1][400/2975]                          LossD: 0.5266 (real: 0.7508, fake: 0.3025)                          LossG: 18.2241 (pred: 1.5481, L1: 16.6760)                          D(x): 0.5026                          D(G(z)): 0.2149 -> 0.2498\n"
     ]
    },
    {
     "name": "stderr",
     "output_type": "stream",
     "text": [
      "\n",
      "Batches:  13%|█▎        | 401/2975 [09:37<1:42:19,  2.39s/it]\u001b[A\n",
      "Batches:  14%|█▎        | 402/2975 [09:38<1:21:45,  1.91s/it]\u001b[A\n",
      "Batches:  14%|█▎        | 403/2975 [09:39<1:07:29,  1.57s/it]\u001b[A\n",
      "Batches:  14%|█▎        | 404/2975 [09:40<1:00:57,  1.42s/it]\u001b[A\n",
      "                                             23,  1.27s/it]  \u001b[A\n",
      "Epochs:   0%|          | 0/1 [09:42<?, ?it/s]              \n",
      "Batches:  14%|█▎        | 405/2975 [09:42<54:23,  1.27s/it]\u001b[A\n",
      "Batches:  14%|█▎        | 406/2975 [09:42<49:08,  1.15s/it]\u001b[A"
     ]
    },
    {
     "name": "stdout",
     "output_type": "stream",
     "text": [
      "[0/1][405/2975]                          LossD: 0.3243 (real: 0.0845, fake: 0.5641)                          LossG: 28.0174 (pred: 1.8431, L1: 26.1743)                          D(x): 0.9264                          D(G(z)): 0.3949 -> 0.1918\n"
     ]
    },
    {
     "name": "stderr",
     "output_type": "stream",
     "text": [
      "\n",
      "Batches:  14%|█▎        | 407/2975 [09:43<48:37,  1.14s/it]\u001b[A\n",
      "Batches:  14%|█▎        | 408/2975 [09:44<47:01,  1.10s/it]\u001b[A\n",
      "Batches:  14%|█▎        | 409/2975 [09:45<46:18,  1.08s/it]\u001b[A\n",
      "Batches:  14%|█▍        | 410/2975 [09:46<46:16,  1.08s/it]\u001b[A"
     ]
    }
   ],
   "source": [
    "trainer.train(1)"
   ]
  },
  {
   "cell_type": "code",
   "execution_count": 27,
   "metadata": {},
   "outputs": [
    {
     "data": {
      "text/plain": [
       "<matplotlib.image.AxesImage at 0x7f027b87db38>"
      ]
     },
     "execution_count": 27,
     "metadata": {},
     "output_type": "execute_result"
    },
    {
     "data": {
      "image/png": "[encoded data removed]",
      "text/plain": [
       "<Figure size 432x288 with 1 Axes>"
      ]
     },
     "metadata": {
      "needs_background": "light"
     },
     "output_type": "display_data"
    }
   ],
   "source": [
    "e = enumerate(dl_test)\n",
    "i, data = next(e)\n",
    "transform = transforms.Compose([\n",
    "    transforms.Normalize((-1, -1, -1), (2, 2, 2)),\n",
    "    transforms.ToPILImage(),\n",
    "    transforms.Resize((512, 1024), Image.BICUBIC),\n",
    "    transforms.ToTensor()\n",
    "])\n",
    "plt.imshow(np.transpose(make_grid([transform(data['A'][0]), transform(data['B'][0])], padding=2, normalize=True), (1,2,0)))"
   ]
  },
  {
   "cell_type": "code",
   "execution_count": null,
   "metadata": {},
   "outputs": [],
   "source": []
  },
  {
   "cell_type": "code",
   "execution_count": null,
   "metadata": {},
   "outputs": [],
   "source": []
  },
  {
   "cell_type": "code",
   "execution_count": null,
   "metadata": {},
   "outputs": [],
   "source": []
  },
  {
   "cell_type": "code",
   "execution_count": null,
   "metadata": {},
   "outputs": [],
   "source": []
  }
 ],
 "metadata": {
  "celltoolbar": "Edit Metadata",
  "kernelspec": {
   "display_name": "Python 3.6.10 64-bit ('pytorch': virtualenv)",
   "language": "python",
   "name": "python361064bitpytorchvirtualenvd59703a1036943fe8cb882f2eefa042e"
  },
  "language_info": {
   "codemirror_mode": {
    "name": "ipython",
    "version": 3
   },
   "file_extension": ".py",
   "mimetype": "text/x-python",
   "name": "python",
   "nbconvert_exporter": "python",
   "pygments_lexer": "ipython3",
   "version": "3.6.10"
  }
 },
 "nbformat": 4,
 "nbformat_minor": 2
}

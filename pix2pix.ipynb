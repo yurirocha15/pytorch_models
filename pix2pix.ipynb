{
 "cells": [
  {
   "cell_type": "markdown",
   "metadata": {},
   "source": [
    "# Pix2Pix Training <br/>\n",
    "\n",
    "### Training a custom 512x512 pix2pix model for semantic segmentation <br/>\n",
    "\n",
    "The cityscape dataset was used for the training. It can be obtained on https://www.cityscapes-dataset.com/. <br/>\n",
    "\n",
    "A parsing script is provided on **pix2pix/preprocess_cityscapes.py**.\n"
   ]
  },
  {
   "cell_type": "markdown",
   "metadata": {},
   "source": [
    "## Imports"
   ]
  },
  {
   "cell_type": "code",
   "execution_count": 1,
   "metadata": {},
   "outputs": [],
   "source": [
    "from pix2pix import dataloader, pix2pix\n",
    "import matplotlib.pyplot as plt \n",
    "import numpy as np\n",
    "from torchvision.utils import make_grid\n",
    "import torchvision.transforms as transforms\n",
    "from PIL import Image"
   ]
  },
  {
   "cell_type": "markdown",
   "metadata": {},
   "source": [
    "## Datasets <br/>\n",
    "\n",
    "Testing does not store the intermediate values (needed for gradient descent), therefore we can use bigger batch size for test."
   ]
  },
  {
   "cell_type": "code",
   "execution_count": 2,
   "metadata": {},
   "outputs": [
    {
     "name": "stdout",
     "output_type": "stream",
     "text": [
      "/media/yuri/4EF0E295F0E28317/LINUX_EXTRA_SPACE/datasets/cityscapes/parsed/A/val/0_A.jpg\n",
      "/media/yuri/4EF0E295F0E28317/LINUX_EXTRA_SPACE/datasets/cityscapes/parsed/A/train/0_A.jpg\n"
     ]
    }
   ],
   "source": [
    "dl_test = dataloader.ParallelDataloader(root_path=\"/media/yuri/4EF0E295F0E28317/LINUX_EXTRA_SPACE/datasets/cityscapes/parsed\",\n",
    "    phase=\"val\",\n",
    "    shuffle=False,\n",
    "    num_workers=12,\n",
    "    batch_size=16\n",
    ")\n",
    "dl_train = dataloader.ParallelDataloader(root_path=\"/media/yuri/4EF0E295F0E28317/LINUX_EXTRA_SPACE/datasets/cityscapes/parsed\",\n",
    "    phase=\"train\",\n",
    "    shuffle=True,\n",
    "    num_workers=12,\n",
    "    batch_size=2\n",
    ")"
   ]
  },
  {
   "cell_type": "markdown",
   "metadata": {},
   "source": [
    "## Training <br/>\n",
    "\n",
    "Create the trainer object and train the networks for 100 epochs."
   ]
  },
  {
   "cell_type": "code",
   "execution_count": 3,
   "metadata": {},
   "outputs": [],
   "source": [
    "trainer = pix2pix.Pix2Pix(dl_train, dl_test)"
   ]
  },
  {
   "cell_type": "code",
   "execution_count": 4,
   "metadata": {},
   "outputs": [
    {
     "name": "stderr",
     "output_type": "stream",
     "text": [
      "\n",
      "Batches:  27%|██▋       | 404/1488 [07:48<21:26,  1.19s/it]\u001b[A\n",
      "                                                             A\n",
      "Epochs:  99%|█████████▉| 99/100 [92:42:24<31:13, 1873.66s/it]\n",
      "Batches:  27%|██▋       | 405/1488 [07:50<20:59,  1.16s/it]\u001b[A\n",
      "Batches:  27%|██▋       | 406/1488 [07:50<21:09,  1.17s/it]\u001b[A"
     ]
    },
    {
     "name": "stdout",
     "output_type": "stream",
     "text": [
      "[99/100][405/1488]                          LossD: 0.0064 (real: 0.0018, fake: 0.0110)                          LossG: 17.6280 (pred: 5.4960, L1: 12.1320)                          D(x): 0.9983                          D(G(z)): 0.0108 -> 0.0088\n"
     ]
    },
    {
     "name": "stderr",
     "output_type": "stream",
     "text": [
      "\n",
      "Batches:  27%|██▋       | 407/1488 [07:52<21:13,  1.18s/it]\u001b[A\n",
      "Batches:  27%|██▋       | 408/1488 [07:53<21:09,  1.18s/it]\u001b[A\n",
      "Batches:  27%|██▋       | 409/1488 [07:54<21:17,  1.18s/it]\u001b[A\n",
      "                                                             A\n",
      "Epochs:  99%|█████████▉| 99/100 [92:42:30<31:13, 1873.66s/it]\n",
      "Batches:  28%|██▊       | 410/1488 [07:56<21:29,  1.20s/it]\u001b[A\n",
      "Batches:  28%|██▊       | 411/1488 [07:56<21:23,  1.19s/it]\u001b[A"
     ]
    },
    {
     "name": "stdout",
     "output_type": "stream",
     "text": [
      "[99/100][410/1488]                          LossD: 0.0700 (real: 0.0001, fake: 0.1398)                          LossG: 20.7532 (pred: 3.3879, L1: 17.3653)                          D(x): 0.9999                          D(G(z)): 0.1067 -> 0.0531\n"
     ]
    },
    {
     "name": "stderr",
     "output_type": "stream",
     "text": [
      "\n",
      "Batches:  28%|██▊       | 412/1488 [07:58<21:13,  1.18s/it]\u001b[A\n",
      "Batches:  28%|██▊       | 413/1488 [07:59<20:48,  1.16s/it]\u001b[A\n",
      "Batches:  28%|██▊       | 414/1488 [08:00<21:09,  1.18s/it]\u001b[A\n",
      "                                                             A\n",
      "Epochs:  99%|█████████▉| 99/100 [92:42:36<31:13, 1873.66s/it]\n",
      "Batches:  28%|██▊       | 415/1488 [08:02<21:32,  1.20s/it]\u001b[A\n",
      "Batches:  28%|██▊       | 416/1488 [08:02<21:18,  1.19s/it]\u001b[A"
     ]
    },
    {
     "name": "stdout",
     "output_type": "stream",
     "text": [
      "[99/100][415/1488]                          LossD: 0.4635 (real: 0.8105, fake: 0.1165)                          LossG: 6.2873 (pred: 1.3960, L1: 4.8913)                          D(x): 0.5162                          D(G(z)): 0.1010 -> 0.3801\n"
     ]
    },
    {
     "name": "stderr",
     "output_type": "stream",
     "text": [
      "\n",
      "Batches:  28%|██▊       | 417/1488 [08:04<21:18,  1.19s/it]\u001b[A\n",
      "Batches:  28%|██▊       | 418/1488 [08:05<20:55,  1.17s/it]\u001b[A\n",
      "Batches:  28%|██▊       | 419/1488 [08:06<20:04,  1.13s/it]\u001b[A\n",
      "                                                             A\n",
      "Epochs:  99%|█████████▉| 99/100 [92:42:41<31:13, 1873.66s/it]\n",
      "Batches:  28%|██▊       | 420/1488 [08:08<19:40,  1.11s/it]\u001b[A\n",
      "Batches:  28%|██▊       | 421/1488 [08:08<19:53,  1.12s/it]\u001b[A"
     ]
    },
    {
     "name": "stdout",
     "output_type": "stream",
     "text": [
      "[99/100][420/1488]                          LossD: 0.0302 (real: 0.0001, fake: 0.0603)                          LossG: 12.7128 (pred: 4.2433, L1: 8.4695)                          D(x): 0.9999                          D(G(z)): 0.0542 -> 0.0265\n"
     ]
    },
    {
     "name": "stderr",
     "output_type": "stream",
     "text": [
      "\n",
      "Batches:  28%|██▊       | 422/1488 [08:09<20:11,  1.14s/it]\u001b[A\n",
      "Batches:  28%|██▊       | 423/1488 [08:10<20:40,  1.17s/it]\u001b[A\n",
      "Batches:  28%|██▊       | 424/1488 [08:11<20:31,  1.16s/it]\u001b[A\n",
      "                                                             A\n",
      "Epochs:  99%|█████████▉| 99/100 [92:42:47<31:13, 1873.66s/it]\n",
      "Batches:  29%|██▊       | 425/1488 [08:14<20:59,  1.19s/it]\u001b[A\n",
      "Batches:  29%|██▊       | 426/1488 [08:14<21:26,  1.21s/it]\u001b[A"
     ]
    },
    {
     "name": "stdout",
     "output_type": "stream",
     "text": [
      "[99/100][425/1488]                          LossD: 0.0058 (real: 0.0040, fake: 0.0075)                          LossG: 12.8526 (pred: 5.4761, L1: 7.3765)                          D(x): 0.9960                          D(G(z)): 0.0074 -> 0.0075\n"
     ]
    },
    {
     "name": "stderr",
     "output_type": "stream",
     "text": [
      "\n",
      "Batches:  29%|██▊       | 427/1488 [08:15<21:09,  1.20s/it]\u001b[A\n",
      "Batches:  29%|██▉       | 428/1488 [08:16<20:53,  1.18s/it]\u001b[A\n",
      "Batches:  29%|██▉       | 429/1488 [08:18<21:21,  1.21s/it]\u001b[A\n",
      "                                                             A\n",
      "Epochs:  99%|█████████▉| 99/100 [92:42:54<31:13, 1873.66s/it]\n",
      "Batches:  29%|██▉       | 430/1488 [08:20<21:44,  1.23s/it]\u001b[A\n",
      "Batches:  29%|██▉       | 431/1488 [08:20<22:18,  1.27s/it]\u001b[A"
     ]
    },
    {
     "name": "stdout",
     "output_type": "stream",
     "text": [
      "[99/100][430/1488]                          LossD: 0.1087 (real: 0.0206, fake: 0.1968)                          LossG: 13.1494 (pred: 3.0001, L1: 10.1494)                          D(x): 0.9799                          D(G(z)): 0.1589 -> 0.0680\n"
     ]
    },
    {
     "name": "stderr",
     "output_type": "stream",
     "text": [
      "\n",
      "Batches:  29%|██▉       | 432/1488 [08:21<22:04,  1.25s/it]\u001b[A\n",
      "Batches:  29%|██▉       | 433/1488 [08:23<21:43,  1.24s/it]\u001b[A\n",
      "Batches:  29%|██▉       | 434/1488 [08:24<21:18,  1.21s/it]\u001b[A\n",
      "                                                             A\n",
      "Epochs:  99%|█████████▉| 99/100 [92:43:00<31:13, 1873.66s/it]\n",
      "Batches:  29%|██▉       | 435/1488 [08:26<20:38,  1.18s/it]\u001b[A\n",
      "Batches:  29%|██▉       | 436/1488 [08:26<21:18,  1.22s/it]\u001b[A"
     ]
    },
    {
     "name": "stdout",
     "output_type": "stream",
     "text": [
      "[99/100][435/1488]                          LossD: 0.0311 (real: 0.0003, fake: 0.0618)                          LossG: 12.0939 (pred: 4.4315, L1: 7.6624)                          D(x): 0.9997                          D(G(z)): 0.0560 -> 0.0215\n"
     ]
    },
    {
     "name": "stderr",
     "output_type": "stream",
     "text": [
      "\n",
      "Batches:  29%|██▉       | 437/1488 [08:27<21:21,  1.22s/it]\u001b[A\n",
      "Batches:  29%|██▉       | 438/1488 [08:29<21:26,  1.23s/it]\u001b[A\n",
      "Batches:  30%|██▉       | 439/1488 [08:30<21:07,  1.21s/it]\u001b[A\n",
      "                                                             A\n",
      "Epochs:  99%|█████████▉| 99/100 [92:43:06<31:13, 1873.66s/it]\n",
      "Batches:  30%|██▉       | 440/1488 [08:32<20:52,  1.20s/it]\u001b[A\n",
      "Batches:  30%|██▉       | 441/1488 [08:32<21:06,  1.21s/it]\u001b[A"
     ]
    },
    {
     "name": "stdout",
     "output_type": "stream",
     "text": [
      "[99/100][440/1488]                          LossD: 0.0083 (real: 0.0011, fake: 0.0155)                          LossG: 11.3912 (pred: 4.8029, L1: 6.5883)                          D(x): 0.9989                          D(G(z)): 0.0152 -> 0.0132\n"
     ]
    },
    {
     "name": "stderr",
     "output_type": "stream",
     "text": [
      "\n",
      "Batches:  30%|██▉       | 442/1488 [08:33<21:17,  1.22s/it]\u001b[A\n",
      "Batches:  30%|██▉       | 443/1488 [08:35<20:55,  1.20s/it]\u001b[A\n",
      "Batches:  30%|██▉       | 444/1488 [08:36<21:07,  1.21s/it]\u001b[A\n",
      "                                                             A\n",
      "Epochs:  99%|█████████▉| 99/100 [92:43:12<31:13, 1873.66s/it]\n",
      "Batches:  30%|██▉       | 445/1488 [08:38<21:05,  1.21s/it]\u001b[A\n",
      "Batches:  30%|██▉       | 446/1488 [08:38<20:46,  1.20s/it]\u001b[A"
     ]
    },
    {
     "name": "stdout",
     "output_type": "stream",
     "text": [
      "[99/100][445/1488]                          LossD: 0.9945 (real: 0.0026, fake: 1.9863)                          LossG: 12.2376 (pred: 6.1192, L1: 6.1184)                          D(x): 0.9974                          D(G(z)): 0.7584 -> 0.0074\n"
     ]
    },
    {
     "name": "stderr",
     "output_type": "stream",
     "text": [
      "\n",
      "Batches:  30%|███       | 447/1488 [08:39<20:55,  1.21s/it]\u001b[A\n",
      "Batches:  30%|███       | 448/1488 [08:41<21:14,  1.23s/it]\u001b[A\n",
      "Batches:  30%|███       | 449/1488 [08:42<20:39,  1.19s/it]\u001b[A\n",
      "                                                             A\n",
      "Epochs:  99%|█████████▉| 99/100 [92:43:18<31:13, 1873.66s/it]\n",
      "Batches:  30%|███       | 450/1488 [08:44<20:50,  1.20s/it]\u001b[A\n",
      "Batches:  30%|███       | 451/1488 [08:44<21:07,  1.22s/it]\u001b[A"
     ]
    },
    {
     "name": "stdout",
     "output_type": "stream",
     "text": [
      "[99/100][450/1488]                          LossD: 0.0043 (real: 0.0073, fake: 0.0013)                          LossG: 18.5201 (pred: 7.6461, L1: 10.8740)                          D(x): 0.9928                          D(G(z)): 0.0013 -> 0.0012\n"
     ]
    },
    {
     "name": "stderr",
     "output_type": "stream",
     "text": [
      "\n",
      "Batches:  30%|███       | 452/1488 [08:46<21:09,  1.23s/it]\u001b[A\n",
      "Batches:  30%|███       | 453/1488 [08:47<20:50,  1.21s/it]\u001b[A\n",
      "Batches:  31%|███       | 454/1488 [08:48<20:53,  1.21s/it]\u001b[A\n",
      "                                                             A\n",
      "Epochs:  99%|█████████▉| 99/100 [92:43:24<31:13, 1873.66s/it]\n",
      "Batches:  31%|███       | 455/1488 [08:50<20:45,  1.21s/it]\u001b[A\n",
      "Batches:  31%|███       | 456/1488 [08:50<20:45,  1.21s/it]\u001b[A"
     ]
    },
    {
     "name": "stdout",
     "output_type": "stream",
     "text": [
      "[99/100][455/1488]                          LossD: 0.0551 (real: 0.0975, fake: 0.0128)                          LossG: 9.0941 (pred: 4.5759, L1: 4.5182)                          D(x): 0.9173                          D(G(z)): 0.0126 -> 0.0155\n"
     ]
    },
    {
     "name": "stderr",
     "output_type": "stream",
     "text": [
      "\n",
      "Batches:  31%|███       | 457/1488 [08:52<20:55,  1.22s/it]\u001b[A\n",
      "Batches:  31%|███       | 458/1488 [08:53<20:44,  1.21s/it]\u001b[A\n",
      "Batches:  31%|███       | 459/1488 [08:54<21:02,  1.23s/it]\u001b[A\n",
      "                                                             A\n",
      "Epochs:  99%|█████████▉| 99/100 [92:43:30<31:13, 1873.66s/it]\n",
      "Batches:  31%|███       | 460/1488 [08:56<20:36,  1.20s/it]\u001b[A\n",
      "Batches:  31%|███       | 461/1488 [08:56<20:20,  1.19s/it]\u001b[A"
     ]
    },
    {
     "name": "stdout",
     "output_type": "stream",
     "text": [
      "[99/100][460/1488]                          LossD: 0.0418 (real: 0.0046, fake: 0.0789)                          LossG: 10.8407 (pred: 3.6989, L1: 7.1418)                          D(x): 0.9954                          D(G(z)): 0.0697 -> 0.0417\n"
     ]
    },
    {
     "name": "stderr",
     "output_type": "stream",
     "text": [
      "\n",
      "Batches:  31%|███       | 462/1488 [08:58<20:02,  1.17s/it]\u001b[A\n",
      "Batches:  31%|███       | 463/1488 [08:59<19:56,  1.17s/it]\u001b[A\n",
      "Batches:  31%|███       | 464/1488 [09:00<20:21,  1.19s/it]\u001b[A\n",
      "                                                             A\n",
      "Epochs:  99%|█████████▉| 99/100 [92:43:36<31:13, 1873.66s/it]\n",
      "Batches:  31%|███▏      | 465/1488 [09:02<20:08,  1.18s/it]\u001b[A\n",
      "Batches:  31%|███▏      | 466/1488 [09:02<20:14,  1.19s/it]\u001b[A"
     ]
    },
    {
     "name": "stdout",
     "output_type": "stream",
     "text": [
      "[99/100][465/1488]                          LossD: 0.7466 (real: 0.0001, fake: 1.4931)                          LossG: 10.9675 (pred: 5.3681, L1: 5.5994)                          D(x): 0.9999                          D(G(z)): 0.7071 -> 0.0098\n"
     ]
    },
    {
     "name": "stderr",
     "output_type": "stream",
     "text": [
      "\n",
      "Batches:  31%|███▏      | 467/1488 [09:04<20:43,  1.22s/it]\u001b[A\n",
      "Batches:  31%|███▏      | 468/1488 [09:05<20:08,  1.18s/it]\u001b[A\n",
      "Batches:  32%|███▏      | 469/1488 [09:06<19:43,  1.16s/it]\u001b[A\n",
      "                                                             A\n",
      "Epochs:  99%|█████████▉| 99/100 [92:43:42<31:13, 1873.66s/it]\n",
      "Batches:  32%|███▏      | 470/1488 [09:08<20:10,  1.19s/it]\u001b[A\n",
      "Batches:  32%|███▏      | 471/1488 [09:08<20:26,  1.21s/it]\u001b[A"
     ]
    },
    {
     "name": "stdout",
     "output_type": "stream",
     "text": [
      "[99/100][470/1488]                          LossD: 0.2920 (real: 0.4789, fake: 0.1051)                          LossG: 8.1693 (pred: 1.5635, L1: 6.6058)                          D(x): 0.7258                          D(G(z)): 0.0946 -> 0.2609\n"
     ]
    },
    {
     "name": "stderr",
     "output_type": "stream",
     "text": [
      "\n",
      "Batches:  32%|███▏      | 472/1488 [09:10<20:34,  1.22s/it]\u001b[A\n",
      "Batches:  32%|███▏      | 473/1488 [09:11<20:28,  1.21s/it]\u001b[A\n",
      "Batches:  32%|███▏      | 474/1488 [09:12<20:29,  1.21s/it]\u001b[A\n",
      "                                                             A\n",
      "Epochs:  99%|█████████▉| 99/100 [92:43:48<31:13, 1873.66s/it]\n",
      "Batches:  32%|███▏      | 475/1488 [09:14<20:02,  1.19s/it]\u001b[A\n",
      "Batches:  32%|███▏      | 476/1488 [09:14<20:21,  1.21s/it]\u001b[A"
     ]
    },
    {
     "name": "stdout",
     "output_type": "stream",
     "text": [
      "[99/100][475/1488]                          LossD: 0.0167 (real: 0.0004, fake: 0.0329)                          LossG: 20.8759 (pred: 4.4054, L1: 16.4705)                          D(x): 0.9996                          D(G(z)): 0.0310 -> 0.0275\n"
     ]
    },
    {
     "name": "stderr",
     "output_type": "stream",
     "text": [
      "\n",
      "Batches:  32%|███▏      | 477/1488 [09:16<20:31,  1.22s/it]\u001b[A\n",
      "Batches:  32%|███▏      | 478/1488 [09:17<20:42,  1.23s/it]\u001b[A\n",
      "Batches:  32%|███▏      | 479/1488 [09:18<21:00,  1.25s/it]\u001b[A\n",
      "                                                             A\n",
      "Epochs:  99%|█████████▉| 99/100 [92:43:54<31:13, 1873.66s/it]\n",
      "Batches:  32%|███▏      | 480/1488 [09:21<20:19,  1.21s/it]\u001b[A\n",
      "Batches:  32%|███▏      | 481/1488 [09:21<20:49,  1.24s/it]\u001b[A"
     ]
    },
    {
     "name": "stdout",
     "output_type": "stream",
     "text": [
      "[99/100][480/1488]                          LossD: 0.5036 (real: 1.0048, fake: 0.0025)                          LossG: 9.1560 (pred: 4.8426, L1: 4.3134)                          D(x): 0.4159                          D(G(z)): 0.0024 -> 0.0137\n"
     ]
    },
    {
     "name": "stderr",
     "output_type": "stream",
     "text": [
      "\n",
      "Batches:  32%|███▏      | 482/1488 [09:22<20:42,  1.24s/it]\u001b[A\n",
      "Batches:  32%|███▏      | 483/1488 [09:23<20:32,  1.23s/it]\u001b[A\n",
      "Batches:  33%|███▎      | 484/1488 [09:24<20:39,  1.23s/it]\u001b[A\n",
      "                                                             A\n",
      "Epochs:  99%|█████████▉| 99/100 [92:44:00<31:13, 1873.66s/it]\n",
      "Batches:  33%|███▎      | 485/1488 [09:27<20:19,  1.22s/it]\u001b[A\n",
      "Batches:  33%|███▎      | 486/1488 [09:27<19:58,  1.20s/it]\u001b[A"
     ]
    },
    {
     "name": "stdout",
     "output_type": "stream",
     "text": [
      "[99/100][485/1488]                          LossD: 1.1014 (real: 2.1993, fake: 0.0036)                          LossG: 9.0649 (pred: 2.4004, L1: 6.6645)                          D(x): 0.1686                          D(G(z)): 0.0035 -> 0.1636\n"
     ]
    },
    {
     "name": "stderr",
     "output_type": "stream",
     "text": [
      "\n",
      "Batches:  33%|███▎      | 487/1488 [09:28<20:17,  1.22s/it]\u001b[A\n",
      "Batches:  33%|███▎      | 488/1488 [09:29<20:05,  1.21s/it]\u001b[A\n",
      "Batches:  33%|███▎      | 489/1488 [09:32<31:16,  1.88s/it]\u001b[A\n",
      "                                                             A\n",
      "Epochs:  99%|█████████▉| 99/100 [92:44:08<31:13, 1873.66s/it]\n",
      "Batches:  33%|███▎      | 490/1488 [09:35<27:07,  1.63s/it]\u001b[A\n",
      "Batches:  33%|███▎      | 491/1488 [09:35<24:57,  1.50s/it]\u001b[A"
     ]
    },
    {
     "name": "stdout",
     "output_type": "stream",
     "text": [
      "[99/100][490/1488]                          LossD: 0.0181 (real: 0.0001, fake: 0.0360)                          LossG: 19.0690 (pred: 4.4957, L1: 14.5732)                          D(x): 0.9999                          D(G(z)): 0.0342 -> 0.0191\n"
     ]
    },
    {
     "name": "stderr",
     "output_type": "stream",
     "text": [
      "\n",
      "Batches:  33%|███▎      | 492/1488 [09:36<23:06,  1.39s/it]\u001b[A\n",
      "Batches:  33%|███▎      | 493/1488 [09:37<21:51,  1.32s/it]\u001b[A\n",
      "Batches:  33%|███▎      | 494/1488 [09:39<23:04,  1.39s/it]\u001b[A\n",
      "                                                             A\n",
      "Epochs:  99%|█████████▉| 99/100 [92:44:15<31:13, 1873.66s/it]\n",
      "Batches:  33%|███▎      | 495/1488 [09:41<23:55,  1.45s/it]\u001b[A\n",
      "Batches:  33%|███▎      | 496/1488 [09:41<22:41,  1.37s/it]\u001b[A"
     ]
    },
    {
     "name": "stdout",
     "output_type": "stream",
     "text": [
      "[99/100][495/1488]                          LossD: 0.2664 (real: 0.0005, fake: 0.5322)                          LossG: 11.6609 (pred: 2.0755, L1: 9.5854)                          D(x): 0.9995                          D(G(z)): 0.3536 -> 0.1673\n"
     ]
    },
    {
     "name": "stderr",
     "output_type": "stream",
     "text": [
      "\n",
      "Batches:  33%|███▎      | 497/1488 [09:43<22:01,  1.33s/it]\u001b[A\n",
      "Batches:  33%|███▎      | 498/1488 [09:44<21:33,  1.31s/it]\u001b[A\n",
      "Batches:  34%|███▎      | 499/1488 [09:45<21:06,  1.28s/it]\u001b[A\n",
      "                                                             A\n",
      "Epochs:  99%|█████████▉| 99/100 [92:44:21<31:13, 1873.66s/it]\n",
      "Batches:  34%|███▎      | 500/1488 [09:47<20:35,  1.25s/it]\u001b[A\n",
      "Batches:  34%|███▎      | 501/1488 [09:47<20:01,  1.22s/it]\u001b[A"
     ]
    },
    {
     "name": "stdout",
     "output_type": "stream",
     "text": [
      "[99/100][500/1488]                          LossD: 0.0110 (real: 0.0027, fake: 0.0193)                          LossG: 12.4131 (pred: 5.3665, L1: 7.0466)                          D(x): 0.9973                          D(G(z)): 0.0163 -> 0.0106\n"
     ]
    },
    {
     "name": "stderr",
     "output_type": "stream",
     "text": [
      "\n",
      "Batches:  34%|███▎      | 502/1488 [09:48<19:22,  1.18s/it]\u001b[A\n",
      "Batches:  34%|███▍      | 503/1488 [09:50<19:17,  1.18s/it]\u001b[A\n",
      "Batches:  34%|███▍      | 504/1488 [09:51<18:50,  1.15s/it]\u001b[A\n",
      "                                                             A\n",
      "Epochs:  99%|█████████▉| 99/100 [92:44:26<31:13, 1873.66s/it]\n",
      "Batches:  34%|███▍      | 505/1488 [09:53<18:35,  1.14s/it]\u001b[A\n",
      "Batches:  34%|███▍      | 506/1488 [09:53<18:07,  1.11s/it]\u001b[A"
     ]
    },
    {
     "name": "stdout",
     "output_type": "stream",
     "text": [
      "[99/100][505/1488]                          LossD: 2.8133 (real: 5.6217, fake: 0.0048)                          LossG: 7.8415 (pred: 1.4265, L1: 6.4150)                          D(x): 0.0082                          D(G(z)): 0.0047 -> 0.3102\n"
     ]
    },
    {
     "name": "stderr",
     "output_type": "stream",
     "text": [
      "\n",
      "Batches:  34%|███▍      | 507/1488 [09:54<17:41,  1.08s/it]\u001b[A\n",
      "Batches:  34%|███▍      | 508/1488 [09:55<17:44,  1.09s/it]\u001b[A\n",
      "Batches:  34%|███▍      | 509/1488 [09:56<18:19,  1.12s/it]\u001b[A\n",
      "                                                             A\n",
      "Epochs:  99%|█████████▉| 99/100 [92:44:32<31:13, 1873.66s/it]\n",
      "Batches:  34%|███▍      | 510/1488 [09:59<18:52,  1.16s/it]\u001b[A\n",
      "Batches:  34%|███▍      | 511/1488 [09:59<19:18,  1.19s/it]\u001b[A"
     ]
    },
    {
     "name": "stdout",
     "output_type": "stream",
     "text": [
      "[99/100][510/1488]                          LossD: 0.0703 (real: 0.0004, fake: 0.1402)                          LossG: 15.1840 (pred: 3.6069, L1: 11.5771)                          D(x): 0.9996                          D(G(z)): 0.1211 -> 0.0468\n"
     ]
    },
    {
     "name": "stderr",
     "output_type": "stream",
     "text": [
      "\n",
      "Batches:  34%|███▍      | 512/1488 [10:00<22:09,  1.36s/it]\u001b[A\n",
      "Batches:  34%|███▍      | 513/1488 [10:02<23:01,  1.42s/it]\u001b[A\n",
      "Batches:  35%|███▍      | 514/1488 [10:03<22:59,  1.42s/it]\u001b[A\n",
      "                                                             A\n",
      "Epochs:  99%|█████████▉| 99/100 [92:44:39<31:13, 1873.66s/it]\n",
      "Batches:  35%|███▍      | 515/1488 [10:06<22:25,  1.38s/it]\u001b[A\n",
      "Batches:  35%|███▍      | 516/1488 [10:06<21:53,  1.35s/it]\u001b[A"
     ]
    },
    {
     "name": "stdout",
     "output_type": "stream",
     "text": [
      "[99/100][515/1488]                          LossD: 0.0900 (real: 0.0200, fake: 0.1599)                          LossG: 12.1362 (pred: 2.9427, L1: 9.1935)                          D(x): 0.9811                          D(G(z)): 0.1402 -> 0.0754\n"
     ]
    },
    {
     "name": "stderr",
     "output_type": "stream",
     "text": [
      "\n",
      "Batches:  35%|███▍      | 517/1488 [10:07<21:01,  1.30s/it]\u001b[A\n",
      "Batches:  35%|███▍      | 518/1488 [10:08<21:16,  1.32s/it]\u001b[A\n",
      "Batches:  35%|███▍      | 519/1488 [10:10<20:53,  1.29s/it]\u001b[A\n",
      "                                                             A\n",
      "Epochs:  99%|█████████▉| 99/100 [92:44:46<31:13, 1873.66s/it]\n",
      "Batches:  35%|███▍      | 520/1488 [10:12<20:37,  1.28s/it]\u001b[A\n",
      "Batches:  35%|███▌      | 521/1488 [10:12<20:41,  1.28s/it]\u001b[A"
     ]
    },
    {
     "name": "stdout",
     "output_type": "stream",
     "text": [
      "[99/100][520/1488]                          LossD: 0.0187 (real: 0.0298, fake: 0.0077)                          LossG: 14.2642 (pred: 5.4337, L1: 8.8306)                          D(x): 0.9712                          D(G(z)): 0.0075 -> 0.0074\n"
     ]
    },
    {
     "name": "stderr",
     "output_type": "stream",
     "text": [
      "\n",
      "Batches:  35%|███▌      | 522/1488 [10:14<20:35,  1.28s/it]\u001b[A\n",
      "Batches:  35%|███▌      | 523/1488 [10:15<20:13,  1.26s/it]\u001b[A\n",
      "Batches:  35%|███▌      | 524/1488 [10:16<19:46,  1.23s/it]\u001b[A\n",
      "                                                             A\n",
      "Epochs:  99%|█████████▉| 99/100 [92:44:52<31:13, 1873.66s/it]\n",
      "Batches:  35%|███▌      | 525/1488 [10:18<19:44,  1.23s/it]\u001b[A\n",
      "Batches:  35%|███▌      | 526/1488 [10:18<20:02,  1.25s/it]\u001b[A"
     ]
    },
    {
     "name": "stdout",
     "output_type": "stream",
     "text": [
      "[99/100][525/1488]                          LossD: 0.0114 (real: 0.0212, fake: 0.0017)                          LossG: 15.8221 (pred: 7.0666, L1: 8.7554)                          D(x): 0.9795                          D(G(z)): 0.0017 -> 0.0018\n"
     ]
    },
    {
     "name": "stderr",
     "output_type": "stream",
     "text": [
      "\n",
      "Batches:  35%|███▌      | 527/1488 [10:20<19:46,  1.23s/it]\u001b[A\n",
      "Batches:  35%|███▌      | 528/1488 [10:21<19:35,  1.22s/it]\u001b[A\n",
      "Batches:  36%|███▌      | 529/1488 [10:22<19:38,  1.23s/it]\u001b[A\n",
      "                                                             A\n",
      "Epochs:  99%|█████████▉| 99/100 [92:44:58<31:13, 1873.66s/it]\n",
      "Batches:  36%|███▌      | 530/1488 [10:24<19:25,  1.22s/it]\u001b[A\n",
      "Batches:  36%|███▌      | 531/1488 [10:24<19:11,  1.20s/it]\u001b[A"
     ]
    },
    {
     "name": "stdout",
     "output_type": "stream",
     "text": [
      "[99/100][530/1488]                          LossD: 0.0564 (real: 0.0906, fake: 0.0221)                          LossG: 21.9135 (pred: 4.6142, L1: 17.2993)                          D(x): 0.9188                          D(G(z)): 0.0209 -> 0.0196\n"
     ]
    },
    {
     "name": "stderr",
     "output_type": "stream",
     "text": [
      "\n",
      "Batches:  36%|███▌      | 532/1488 [10:26<19:05,  1.20s/it]\u001b[A\n",
      "Batches:  36%|███▌      | 533/1488 [10:27<18:39,  1.17s/it]\u001b[A\n",
      "Batches:  36%|███▌      | 534/1488 [10:28<18:39,  1.17s/it]\u001b[A\n",
      "                                                             A\n",
      "Epochs:  99%|█████████▉| 99/100 [92:45:04<31:13, 1873.66s/it]\n",
      "Batches:  36%|███▌      | 535/1488 [10:30<18:23,  1.16s/it]\u001b[A\n",
      "Batches:  36%|███▌      | 536/1488 [10:30<18:31,  1.17s/it]\u001b[A"
     ]
    },
    {
     "name": "stdout",
     "output_type": "stream",
     "text": [
      "[99/100][535/1488]                          LossD: 0.3117 (real: 0.6040, fake: 0.0194)                          LossG: 9.7823 (pred: 2.4724, L1: 7.3099)                          D(x): 0.5968                          D(G(z)): 0.0187 -> 0.1461\n"
     ]
    },
    {
     "name": "stderr",
     "output_type": "stream",
     "text": [
      "\n",
      "Batches:  36%|███▌      | 537/1488 [10:31<18:35,  1.17s/it]\u001b[A\n",
      "Batches:  36%|███▌      | 538/1488 [10:33<18:18,  1.16s/it]\u001b[A\n",
      "Batches:  36%|███▌      | 539/1488 [10:34<18:30,  1.17s/it]\u001b[A\n",
      "                                                             A\n",
      "Epochs:  99%|█████████▉| 99/100 [92:45:10<31:13, 1873.66s/it]\n",
      "Batches:  36%|███▋      | 540/1488 [10:36<18:59,  1.20s/it]\u001b[A\n",
      "Batches:  36%|███▋      | 541/1488 [10:36<19:34,  1.24s/it]\u001b[A"
     ]
    },
    {
     "name": "stdout",
     "output_type": "stream",
     "text": [
      "[99/100][540/1488]                          LossD: 0.0367 (real: 0.0370, fake: 0.0364)                          LossG: 13.5663 (pred: 4.8890, L1: 8.6773)                          D(x): 0.9651                          D(G(z)): 0.0292 -> 0.0139\n"
     ]
    },
    {
     "name": "stderr",
     "output_type": "stream",
     "text": [
      "\n",
      "Batches:  36%|███▋      | 542/1488 [10:38<20:06,  1.28s/it]\u001b[A\n",
      "Batches:  36%|███▋      | 543/1488 [10:39<19:56,  1.27s/it]\u001b[A\n",
      "Batches:  37%|███▋      | 544/1488 [10:40<20:25,  1.30s/it]\u001b[A\n",
      "                                                             A\n",
      "Epochs:  99%|█████████▉| 99/100 [92:45:16<31:13, 1873.66s/it]\n",
      "Batches:  37%|███▋      | 545/1488 [10:43<20:24,  1.30s/it]\u001b[A\n",
      "Batches:  37%|███▋      | 546/1488 [10:43<20:00,  1.27s/it]\u001b[A"
     ]
    },
    {
     "name": "stdout",
     "output_type": "stream",
     "text": [
      "[99/100][545/1488]                          LossD: 0.0948 (real: 0.0692, fake: 0.1203)                          LossG: 10.5913 (pred: 3.3071, L1: 7.2842)                          D(x): 0.9389                          D(G(z)): 0.1072 -> 0.0516\n"
     ]
    },
    {
     "name": "stderr",
     "output_type": "stream",
     "text": [
      "\n",
      "Batches:  37%|███▋      | 547/1488 [10:44<19:44,  1.26s/it]\u001b[A\n",
      "Batches:  37%|███▋      | 548/1488 [10:45<19:37,  1.25s/it]\u001b[A\n",
      "Batches:  37%|███▋      | 549/1488 [10:47<19:51,  1.27s/it]\u001b[A\n",
      "                                                             A\n",
      "Epochs:  99%|█████████▉| 99/100 [92:45:23<31:13, 1873.66s/it]\n",
      "Batches:  37%|███▋      | 550/1488 [10:49<20:18,  1.30s/it]\u001b[A\n",
      "Batches:  37%|███▋      | 551/1488 [10:49<20:27,  1.31s/it]\u001b[A"
     ]
    },
    {
     "name": "stdout",
     "output_type": "stream",
     "text": [
      "[99/100][550/1488]                          LossD: 0.1704 (real: 0.0000, fake: 0.3408)                          LossG: 10.1035 (pred: 3.0252, L1: 7.0783)                          D(x): 1.0000                          D(G(z)): 0.2657 -> 0.0661\n"
     ]
    },
    {
     "name": "stderr",
     "output_type": "stream",
     "text": [
      "\n",
      "Batches:  37%|███▋      | 552/1488 [10:51<20:08,  1.29s/it]\u001b[A\n",
      "Batches:  37%|███▋      | 553/1488 [10:52<19:59,  1.28s/it]\u001b[A\n",
      "Batches:  37%|███▋      | 554/1488 [10:53<19:42,  1.27s/it]\u001b[A\n",
      "                                                             A\n",
      "Epochs:  99%|█████████▉| 99/100 [92:45:29<31:13, 1873.66s/it]\n",
      "Batches:  37%|███▋      | 555/1488 [10:56<19:45,  1.27s/it]\u001b[A\n",
      "Batches:  37%|███▋      | 556/1488 [10:56<19:52,  1.28s/it]\u001b[A"
     ]
    },
    {
     "name": "stdout",
     "output_type": "stream",
     "text": [
      "[99/100][555/1488]                          LossD: 0.0260 (real: 0.0002, fake: 0.0518)                          LossG: 12.1271 (pred: 3.4192, L1: 8.7079)                          D(x): 0.9998                          D(G(z)): 0.0496 -> 0.0451\n"
     ]
    },
    {
     "name": "stderr",
     "output_type": "stream",
     "text": [
      "\n",
      "Batches:  37%|███▋      | 557/1488 [10:57<19:52,  1.28s/it]\u001b[A\n",
      "Batches:  38%|███▊      | 558/1488 [10:58<19:43,  1.27s/it]\u001b[A\n",
      "Batches:  38%|███▊      | 559/1488 [10:59<19:01,  1.23s/it]\u001b[A\n",
      "                                                             A\n",
      "Epochs:  99%|█████████▉| 99/100 [92:45:35<31:13, 1873.66s/it]\n",
      "Batches:  38%|███▊      | 560/1488 [11:02<18:33,  1.20s/it]\u001b[A\n",
      "Batches:  38%|███▊      | 561/1488 [11:02<18:11,  1.18s/it]\u001b[A"
     ]
    },
    {
     "name": "stdout",
     "output_type": "stream",
     "text": [
      "[99/100][560/1488]                          LossD: 0.0297 (real: 0.0001, fake: 0.0593)                          LossG: 9.5903 (pred: 3.9981, L1: 5.5922)                          D(x): 0.9999                          D(G(z)): 0.0564 -> 0.0275\n"
     ]
    },
    {
     "name": "stderr",
     "output_type": "stream",
     "text": [
      "\n",
      "Batches:  38%|███▊      | 562/1488 [11:03<17:54,  1.16s/it]\u001b[A\n",
      "Batches:  38%|███▊      | 563/1488 [11:04<17:31,  1.14s/it]\u001b[A\n",
      "Batches:  38%|███▊      | 564/1488 [11:05<17:32,  1.14s/it]\u001b[A\n",
      "                                                             A\n",
      "Epochs:  99%|█████████▉| 99/100 [92:45:41<31:13, 1873.66s/it]\n",
      "Batches:  38%|███▊      | 565/1488 [11:07<17:28,  1.14s/it]\u001b[A\n",
      "Batches:  38%|███▊      | 566/1488 [11:07<17:56,  1.17s/it]\u001b[A"
     ]
    },
    {
     "name": "stdout",
     "output_type": "stream",
     "text": [
      "[99/100][565/1488]                          LossD: 0.0120 (real: 0.0000, fake: 0.0240)                          LossG: 10.3659 (pred: 3.6708, L1: 6.6951)                          D(x): 1.0000                          D(G(z)): 0.0233 -> 0.0371\n"
     ]
    },
    {
     "name": "stderr",
     "output_type": "stream",
     "text": [
      "\n",
      "Batches:  38%|███▊      | 567/1488 [11:08<17:36,  1.15s/it]\u001b[A\n",
      "Batches:  38%|███▊      | 568/1488 [11:10<17:46,  1.16s/it]\u001b[A\n",
      "Batches:  38%|███▊      | 569/1488 [11:11<17:53,  1.17s/it]\u001b[A\n",
      "                                                             A\n",
      "Epochs:  99%|█████████▉| 99/100 [92:45:46<31:13, 1873.66s/it]\n",
      "Batches:  38%|███▊      | 570/1488 [11:13<17:32,  1.15s/it]\u001b[A\n",
      "Batches:  38%|███▊      | 571/1488 [11:13<17:12,  1.13s/it]\u001b[A"
     ]
    },
    {
     "name": "stdout",
     "output_type": "stream",
     "text": [
      "[99/100][570/1488]                          LossD: 0.1061 (real: 0.1197, fake: 0.0925)                          LossG: 12.6341 (pred: 2.9661, L1: 9.6680)                          D(x): 0.8955                          D(G(z)): 0.0851 -> 0.0728\n"
     ]
    },
    {
     "name": "stderr",
     "output_type": "stream",
     "text": [
      "\n",
      "Batches:  38%|███▊      | 572/1488 [11:14<17:37,  1.15s/it]\u001b[A\n",
      "Batches:  39%|███▊      | 573/1488 [11:15<17:54,  1.17s/it]\u001b[A\n",
      "Batches:  39%|███▊      | 574/1488 [11:17<18:00,  1.18s/it]\u001b[A\n",
      "                                                             A\n",
      "Epochs:  99%|█████████▉| 99/100 [92:45:52<31:13, 1873.66s/it]\n",
      "Batches:  39%|███▊      | 575/1488 [11:19<17:52,  1.17s/it]\u001b[A\n",
      "Batches:  39%|███▊      | 576/1488 [11:19<17:56,  1.18s/it]\u001b[A"
     ]
    },
    {
     "name": "stdout",
     "output_type": "stream",
     "text": [
      "[99/100][575/1488]                          LossD: 0.0299 (real: 0.0451, fake: 0.0147)                          LossG: 13.8308 (pred: 5.0484, L1: 8.7824)                          D(x): 0.9571                          D(G(z)): 0.0143 -> 0.0135\n"
     ]
    },
    {
     "name": "stderr",
     "output_type": "stream",
     "text": [
      "\n",
      "Batches:  39%|███▉      | 577/1488 [11:20<18:22,  1.21s/it]\u001b[A\n",
      "Batches:  39%|███▉      | 578/1488 [11:21<18:35,  1.23s/it]\u001b[A\n",
      "Batches:  39%|███▉      | 579/1488 [11:23<17:53,  1.18s/it]\u001b[A\n",
      "                                                             A\n",
      "Epochs:  99%|█████████▉| 99/100 [92:45:58<31:13, 1873.66s/it]\n",
      "Batches:  39%|███▉      | 580/1488 [11:25<17:42,  1.17s/it]\u001b[A\n",
      "Batches:  39%|███▉      | 581/1488 [11:25<17:48,  1.18s/it]\u001b[A"
     ]
    },
    {
     "name": "stdout",
     "output_type": "stream",
     "text": [
      "[99/100][580/1488]                          LossD: 0.0457 (real: 0.0667, fake: 0.0247)                          LossG: 11.9913 (pred: 4.6901, L1: 7.3012)                          D(x): 0.9372                          D(G(z)): 0.0225 -> 0.0200\n"
     ]
    },
    {
     "name": "stderr",
     "output_type": "stream",
     "text": [
      "\n",
      "Batches:  39%|███▉      | 582/1488 [11:26<18:11,  1.20s/it]\u001b[A\n",
      "Batches:  39%|███▉      | 583/1488 [11:27<17:53,  1.19s/it]\u001b[A\n",
      "Batches:  39%|███▉      | 584/1488 [11:28<17:25,  1.16s/it]\u001b[A\n",
      "                                                             A\n",
      "Epochs:  99%|█████████▉| 99/100 [92:46:04<31:13, 1873.66s/it]\n",
      "Batches:  39%|███▉      | 585/1488 [11:31<17:51,  1.19s/it]\u001b[A\n",
      "Batches:  39%|███▉      | 586/1488 [11:31<17:38,  1.17s/it]\u001b[A"
     ]
    },
    {
     "name": "stdout",
     "output_type": "stream",
     "text": [
      "[99/100][585/1488]                          LossD: 0.0488 (real: 0.0306, fake: 0.0670)                          LossG: 14.4457 (pred: 3.5673, L1: 10.8784)                          D(x): 0.9719                          D(G(z)): 0.0613 -> 0.0468\n"
     ]
    },
    {
     "name": "stderr",
     "output_type": "stream",
     "text": [
      "\n",
      "Batches:  39%|███▉      | 587/1488 [11:32<17:18,  1.15s/it]\u001b[A\n",
      "Batches:  40%|███▉      | 588/1488 [11:33<17:18,  1.15s/it]\u001b[A\n",
      "Batches:  40%|███▉      | 589/1488 [11:37<28:37,  1.91s/it]\u001b[A\n",
      "                                                             A\n",
      "Epochs:  99%|█████████▉| 99/100 [92:46:12<31:13, 1873.66s/it]\n",
      "Batches:  40%|███▉      | 590/1488 [11:39<24:39,  1.65s/it]\u001b[A\n",
      "Batches:  40%|███▉      | 591/1488 [11:39<22:54,  1.53s/it]\u001b[A"
     ]
    },
    {
     "name": "stdout",
     "output_type": "stream",
     "text": [
      "[99/100][590/1488]                          LossD: 0.0356 (real: 0.0316, fake: 0.0396)                          LossG: 10.4818 (pred: 4.0464, L1: 6.4354)                          D(x): 0.9721                          D(G(z)): 0.0383 -> 0.0274\n"
     ]
    },
    {
     "name": "stderr",
     "output_type": "stream",
     "text": [
      "\n",
      "Batches:  40%|███▉      | 592/1488 [11:40<21:51,  1.46s/it]\u001b[A\n",
      "Batches:  40%|███▉      | 593/1488 [11:42<20:59,  1.41s/it]\u001b[A\n",
      "Batches:  40%|███▉      | 594/1488 [11:43<20:36,  1.38s/it]\u001b[A\n",
      "                                                             A\n",
      "Epochs:  99%|█████████▉| 99/100 [92:46:19<31:13, 1873.66s/it]\n",
      "Batches:  40%|███▉      | 595/1488 [11:46<20:26,  1.37s/it]\u001b[A\n",
      "Batches:  40%|████      | 596/1488 [11:46<20:16,  1.36s/it]\u001b[A"
     ]
    },
    {
     "name": "stdout",
     "output_type": "stream",
     "text": [
      "[99/100][595/1488]                          LossD: 0.2122 (real: 0.0001, fake: 0.4243)                          LossG: 12.0675 (pred: 3.4498, L1: 8.6177)                          D(x): 0.9999                          D(G(z)): 0.3044 -> 0.0521\n"
     ]
    },
    {
     "name": "stderr",
     "output_type": "stream",
     "text": [
      "\n",
      "Batches:  40%|████      | 597/1488 [11:47<19:39,  1.32s/it]\u001b[A\n",
      "Batches:  40%|████      | 598/1488 [11:48<19:44,  1.33s/it]\u001b[A\n",
      "Batches:  40%|████      | 599/1488 [11:49<19:41,  1.33s/it]\u001b[A\n",
      "                                                             A\n",
      "Epochs:  99%|█████████▉| 99/100 [92:46:26<31:13, 1873.66s/it]\n",
      "Batches:  40%|████      | 600/1488 [11:52<19:48,  1.34s/it]\u001b[A\n",
      "Batches:  40%|████      | 601/1488 [11:52<19:33,  1.32s/it]\u001b[A"
     ]
    },
    {
     "name": "stdout",
     "output_type": "stream",
     "text": [
      "[99/100][600/1488]                          LossD: 0.7342 (real: 1.4633, fake: 0.0050)                          LossG: 14.0671 (pred: 2.2814, L1: 11.7857)                          D(x): 0.2761                          D(G(z)): 0.0050 -> 0.1597\n"
     ]
    },
    {
     "name": "stderr",
     "output_type": "stream",
     "text": [
      "\n",
      "Batches:  40%|████      | 602/1488 [11:53<19:12,  1.30s/it]\u001b[A\n",
      "Batches:  41%|████      | 603/1488 [11:55<19:02,  1.29s/it]\u001b[A\n",
      "Batches:  41%|████      | 604/1488 [11:56<18:48,  1.28s/it]\u001b[A\n",
      "                                                             A\n",
      "Epochs:  99%|█████████▉| 99/100 [92:46:32<31:13, 1873.66s/it]\n",
      "Batches:  41%|████      | 605/1488 [11:58<18:25,  1.25s/it]\u001b[A\n",
      "Batches:  41%|████      | 606/1488 [11:58<17:55,  1.22s/it]\u001b[A"
     ]
    },
    {
     "name": "stdout",
     "output_type": "stream",
     "text": [
      "[99/100][605/1488]                          LossD: 0.0051 (real: 0.0064, fake: 0.0037)                          LossG: 13.9457 (pred: 6.5893, L1: 7.3563)                          D(x): 0.9937                          D(G(z)): 0.0037 -> 0.0029\n"
     ]
    },
    {
     "name": "stderr",
     "output_type": "stream",
     "text": [
      "\n",
      "Batches:  41%|████      | 607/1488 [11:59<17:31,  1.19s/it]\u001b[A\n",
      "Batches:  41%|████      | 608/1488 [12:00<17:02,  1.16s/it]\u001b[A\n",
      "Batches:  41%|████      | 609/1488 [12:02<17:24,  1.19s/it]\u001b[A\n",
      "                                                             A\n",
      "Epochs:  99%|█████████▉| 99/100 [92:46:38<31:13, 1873.66s/it]\n",
      "Batches:  41%|████      | 610/1488 [12:04<17:28,  1.19s/it]\u001b[A\n",
      "Batches:  41%|████      | 611/1488 [12:04<17:57,  1.23s/it]\u001b[A"
     ]
    },
    {
     "name": "stdout",
     "output_type": "stream",
     "text": [
      "[99/100][610/1488]                          LossD: 0.2327 (real: 0.0532, fake: 0.4121)                          LossG: 10.2491 (pred: 2.4381, L1: 7.8110)                          D(x): 0.9713                          D(G(z)): 0.2951 -> 0.1443\n"
     ]
    },
    {
     "name": "stderr",
     "output_type": "stream",
     "text": [
      "\n",
      "Batches:  41%|████      | 612/1488 [12:06<18:46,  1.29s/it]\u001b[A\n",
      "Batches:  41%|████      | 613/1488 [12:07<19:37,  1.35s/it]\u001b[A\n",
      "Batches:  41%|████▏     | 614/1488 [12:08<19:16,  1.32s/it]\u001b[A\n",
      "                                                             A\n",
      "Epochs:  99%|█████████▉| 99/100 [92:46:44<31:13, 1873.66s/it]\n",
      "Batches:  41%|████▏     | 615/1488 [12:11<18:47,  1.29s/it]\u001b[A\n",
      "Batches:  41%|████▏     | 616/1488 [12:11<18:57,  1.30s/it]\u001b[A"
     ]
    },
    {
     "name": "stdout",
     "output_type": "stream",
     "text": [
      "[99/100][615/1488]                          LossD: 0.0961 (real: 0.0066, fake: 0.1856)                          LossG: 10.5423 (pred: 3.0449, L1: 7.4974)                          D(x): 0.9939                          D(G(z)): 0.1553 -> 0.0636\n"
     ]
    },
    {
     "name": "stderr",
     "output_type": "stream",
     "text": [
      "\n",
      "Batches:  41%|████▏     | 617/1488 [12:12<18:30,  1.28s/it]\u001b[A\n",
      "Batches:  42%|████▏     | 618/1488 [12:13<18:28,  1.27s/it]\u001b[A\n",
      "Batches:  42%|████▏     | 619/1488 [12:15<18:25,  1.27s/it]\u001b[A\n",
      "                                                             A\n",
      "Epochs:  99%|█████████▉| 99/100 [92:46:51<31:13, 1873.66s/it]\n",
      "Batches:  42%|████▏     | 620/1488 [12:17<18:08,  1.25s/it]\u001b[A\n",
      "Batches:  42%|████▏     | 621/1488 [12:17<18:39,  1.29s/it]\u001b[A"
     ]
    },
    {
     "name": "stdout",
     "output_type": "stream",
     "text": [
      "[99/100][620/1488]                          LossD: 0.0329 (real: 0.0040, fake: 0.0618)                          LossG: 13.1613 (pred: 4.2007, L1: 8.9606)                          D(x): 0.9960                          D(G(z)): 0.0558 -> 0.0247\n"
     ]
    },
    {
     "name": "stderr",
     "output_type": "stream",
     "text": [
      "\n",
      "Batches:  42%|████▏     | 622/1488 [12:18<18:08,  1.26s/it]\u001b[A\n",
      "Batches:  42%|████▏     | 623/1488 [12:20<18:19,  1.27s/it]\u001b[A\n",
      "Batches:  42%|████▏     | 624/1488 [12:21<18:01,  1.25s/it]\u001b[A\n",
      "                                                             A\n",
      "Epochs:  99%|█████████▉| 99/100 [92:46:57<31:13, 1873.66s/it]\n",
      "Batches:  42%|████▏     | 625/1488 [12:23<17:33,  1.22s/it]\u001b[A\n",
      "Batches:  42%|████▏     | 626/1488 [12:23<17:31,  1.22s/it]\u001b[A"
     ]
    },
    {
     "name": "stdout",
     "output_type": "stream",
     "text": [
      "[99/100][625/1488]                          LossD: 0.0435 (real: 0.0001, fake: 0.0870)                          LossG: 15.5673 (pred: 3.7765, L1: 11.7908)                          D(x): 0.9999                          D(G(z)): 0.0781 -> 0.0355\n"
     ]
    },
    {
     "name": "stderr",
     "output_type": "stream",
     "text": [
      "\n",
      "Batches:  42%|████▏     | 627/1488 [12:25<17:37,  1.23s/it]\u001b[A\n",
      "Batches:  42%|████▏     | 628/1488 [12:26<17:42,  1.24s/it]\u001b[A\n",
      "Batches:  42%|████▏     | 629/1488 [12:27<17:28,  1.22s/it]\u001b[A\n",
      "                                                             A\n",
      "Epochs:  99%|█████████▉| 99/100 [92:47:03<31:13, 1873.66s/it]\n",
      "Batches:  42%|████▏     | 630/1488 [12:29<17:11,  1.20s/it]\u001b[A\n",
      "Batches:  42%|████▏     | 631/1488 [12:29<16:31,  1.16s/it]\u001b[A"
     ]
    },
    {
     "name": "stdout",
     "output_type": "stream",
     "text": [
      "[99/100][630/1488]                          LossD: 0.1040 (real: 0.2018, fake: 0.0062)                          LossG: 13.2686 (pred: 5.0754, L1: 8.1932)                          D(x): 0.8333                          D(G(z)): 0.0062 -> 0.0110\n"
     ]
    },
    {
     "name": "stderr",
     "output_type": "stream",
     "text": [
      "\n",
      "Batches:  42%|████▏     | 632/1488 [12:30<16:17,  1.14s/it]\u001b[A\n",
      "Batches:  43%|████▎     | 633/1488 [12:31<16:08,  1.13s/it]\u001b[A\n",
      "Batches:  43%|████▎     | 634/1488 [12:33<16:09,  1.14s/it]\u001b[A\n",
      "                                                             A\n",
      "Epochs:  99%|█████████▉| 99/100 [92:47:08<31:13, 1873.66s/it]\n",
      "Batches:  43%|████▎     | 635/1488 [12:35<16:02,  1.13s/it]\u001b[A\n",
      "Batches:  43%|████▎     | 636/1488 [12:35<16:04,  1.13s/it]\u001b[A"
     ]
    },
    {
     "name": "stdout",
     "output_type": "stream",
     "text": [
      "[99/100][635/1488]                          LossD: 0.0664 (real: 0.1041, fake: 0.0288)                          LossG: 15.6893 (pred: 3.5610, L1: 12.1282)                          D(x): 0.9084                          D(G(z)): 0.0270 -> 0.0486\n"
     ]
    },
    {
     "name": "stderr",
     "output_type": "stream",
     "text": [
      "\n",
      "Batches:  43%|████▎     | 637/1488 [12:36<15:53,  1.12s/it]\u001b[A\n",
      "Batches:  43%|████▎     | 638/1488 [12:37<16:11,  1.14s/it]\u001b[A\n",
      "Batches:  43%|████▎     | 639/1488 [12:38<16:01,  1.13s/it]\u001b[A\n",
      "                                                             A\n",
      "Epochs:  99%|█████████▉| 99/100 [92:47:14<31:13, 1873.66s/it]\n",
      "Batches:  43%|████▎     | 640/1488 [12:40<15:54,  1.13s/it]\u001b[A\n",
      "Batches:  43%|████▎     | 641/1488 [12:40<15:48,  1.12s/it]\u001b[A"
     ]
    },
    {
     "name": "stdout",
     "output_type": "stream",
     "text": [
      "[99/100][640/1488]                          LossD: 0.0249 (real: 0.0002, fake: 0.0496)                          LossG: 11.9045 (pred: 3.6679, L1: 8.2366)                          D(x): 0.9998                          D(G(z)): 0.0468 -> 0.0407\n"
     ]
    },
    {
     "name": "stderr",
     "output_type": "stream",
     "text": [
      "\n",
      "Batches:  43%|████▎     | 642/1488 [12:42<15:43,  1.11s/it]\u001b[A\n",
      "Batches:  43%|████▎     | 643/1488 [12:43<15:42,  1.11s/it]\u001b[A\n",
      "Batches:  43%|████▎     | 644/1488 [12:44<15:48,  1.12s/it]\u001b[A\n",
      "                                                             A\n",
      "Epochs:  99%|█████████▉| 99/100 [92:47:19<31:13, 1873.66s/it]\n",
      "Batches:  43%|████▎     | 645/1488 [12:46<15:56,  1.13s/it]\u001b[A\n",
      "Batches:  43%|████▎     | 646/1488 [12:46<15:56,  1.14s/it]\u001b[A"
     ]
    },
    {
     "name": "stdout",
     "output_type": "stream",
     "text": [
      "[99/100][645/1488]                          LossD: 0.0066 (real: 0.0057, fake: 0.0075)                          LossG: 13.2659 (pred: 5.6253, L1: 7.6406)                          D(x): 0.9949                          D(G(z)): 0.0075 -> 0.0061\n"
     ]
    },
    {
     "name": "stderr",
     "output_type": "stream",
     "text": [
      "\n",
      "Batches:  43%|████▎     | 647/1488 [12:47<16:20,  1.17s/it]\u001b[A\n",
      "Batches:  44%|████▎     | 648/1488 [12:49<16:21,  1.17s/it]\u001b[A\n",
      "Batches:  44%|████▎     | 649/1488 [12:50<17:03,  1.22s/it]\u001b[A\n",
      "                                                             A\n",
      "Epochs:  99%|█████████▉| 99/100 [92:47:26<31:13, 1873.66s/it]\n",
      "Batches:  44%|████▎     | 650/1488 [12:53<17:38,  1.26s/it]\u001b[A\n",
      "Batches:  44%|████▍     | 651/1488 [12:53<17:52,  1.28s/it]\u001b[A"
     ]
    },
    {
     "name": "stdout",
     "output_type": "stream",
     "text": [
      "[99/100][650/1488]                          LossD: 0.2993 (real: 0.4890, fake: 0.1095)                          LossG: 9.6449 (pred: 1.8204, L1: 7.8246)                          D(x): 0.6672                          D(G(z)): 0.0987 -> 0.1949\n"
     ]
    },
    {
     "name": "stderr",
     "output_type": "stream",
     "text": [
      "\n",
      "Batches:  44%|████▍     | 652/1488 [12:54<18:06,  1.30s/it]\u001b[A\n",
      "Batches:  44%|████▍     | 653/1488 [12:55<18:03,  1.30s/it]\u001b[A\n",
      "Batches:  44%|████▍     | 654/1488 [12:57<18:18,  1.32s/it]\u001b[A\n",
      "                                                             A\n",
      "Epochs:  99%|█████████▉| 99/100 [92:47:32<31:13, 1873.66s/it]\n",
      "Batches:  44%|████▍     | 655/1488 [12:59<18:25,  1.33s/it]\u001b[A\n",
      "Batches:  44%|████▍     | 656/1488 [12:59<17:50,  1.29s/it]\u001b[A"
     ]
    },
    {
     "name": "stdout",
     "output_type": "stream",
     "text": [
      "[99/100][655/1488]                          LossD: 0.0803 (real: 0.0014, fake: 0.1591)                          LossG: 15.2226 (pred: 3.3958, L1: 11.8268)                          D(x): 0.9986                          D(G(z)): 0.1377 -> 0.0461\n"
     ]
    },
    {
     "name": "stderr",
     "output_type": "stream",
     "text": [
      "\n",
      "Batches:  44%|████▍     | 657/1488 [13:00<16:54,  1.22s/it]\u001b[A\n",
      "Batches:  44%|████▍     | 658/1488 [13:01<16:54,  1.22s/it]\u001b[A\n",
      "Batches:  44%|████▍     | 659/1488 [13:03<17:17,  1.25s/it]\u001b[A\n",
      "                                                             A\n",
      "Epochs:  99%|█████████▉| 99/100 [92:47:38<31:13, 1873.66s/it]\n",
      "Batches:  44%|████▍     | 660/1488 [13:05<16:06,  1.17s/it]\u001b[A\n",
      "Batches:  44%|████▍     | 661/1488 [13:05<15:46,  1.14s/it]\u001b[A"
     ]
    },
    {
     "name": "stdout",
     "output_type": "stream",
     "text": [
      "[99/100][660/1488]                          LossD: 0.0076 (real: 0.0034, fake: 0.0119)                          LossG: 15.5230 (pred: 5.0773, L1: 10.4457)                          D(x): 0.9966                          D(G(z)): 0.0117 -> 0.0104\n"
     ]
    },
    {
     "name": "stderr",
     "output_type": "stream",
     "text": [
      "\n",
      "Batches:  44%|████▍     | 662/1488 [13:06<16:29,  1.20s/it]\u001b[A\n",
      "Batches:  45%|████▍     | 663/1488 [13:07<17:15,  1.26s/it]\u001b[A\n",
      "Batches:  45%|████▍     | 664/1488 [13:09<17:43,  1.29s/it]\u001b[A\n",
      "                                                             A\n",
      "Epochs:  99%|█████████▉| 99/100 [92:47:45<31:13, 1873.66s/it]\n",
      "Batches:  45%|████▍     | 665/1488 [13:11<17:35,  1.28s/it]\u001b[A\n",
      "Batches:  45%|████▍     | 666/1488 [13:11<17:16,  1.26s/it]\u001b[A"
     ]
    },
    {
     "name": "stdout",
     "output_type": "stream",
     "text": [
      "[99/100][665/1488]                          LossD: 0.0496 (real: 0.0240, fake: 0.0751)                          LossG: 14.6753 (pred: 3.5536, L1: 11.1217)                          D(x): 0.9766                          D(G(z)): 0.0666 -> 0.0422\n"
     ]
    },
    {
     "name": "stderr",
     "output_type": "stream",
     "text": [
      "\n",
      "Batches:  45%|████▍     | 667/1488 [13:13<16:58,  1.24s/it]\u001b[A\n",
      "Batches:  45%|████▍     | 668/1488 [13:14<16:55,  1.24s/it]\u001b[A\n",
      "Batches:  45%|████▍     | 669/1488 [13:15<16:59,  1.24s/it]\u001b[A\n",
      "                                                             A\n",
      "Epochs:  99%|█████████▉| 99/100 [92:47:51<31:13, 1873.66s/it]\n",
      "Batches:  45%|████▌     | 670/1488 [13:17<16:52,  1.24s/it]\u001b[A\n",
      "Batches:  45%|████▌     | 671/1488 [13:17<16:52,  1.24s/it]\u001b[A"
     ]
    },
    {
     "name": "stdout",
     "output_type": "stream",
     "text": [
      "[99/100][670/1488]                          LossD: 0.6545 (real: 0.0000, fake: 1.3090)                          LossG: 14.7468 (pred: 4.6933, L1: 10.0535)                          D(x): 1.0000                          D(G(z)): 0.6520 -> 0.0157\n"
     ]
    },
    {
     "name": "stderr",
     "output_type": "stream",
     "text": [
      "\n",
      "Batches:  45%|████▌     | 672/1488 [13:19<16:50,  1.24s/it]\u001b[A\n",
      "Batches:  45%|████▌     | 673/1488 [13:20<16:43,  1.23s/it]\u001b[A\n",
      "Batches:  45%|████▌     | 674/1488 [13:21<17:02,  1.26s/it]\u001b[A\n",
      "                                                             A\n",
      "Epochs:  99%|█████████▉| 99/100 [92:47:57<31:13, 1873.66s/it]\n",
      "Batches:  45%|████▌     | 675/1488 [13:24<17:24,  1.29s/it]\u001b[A\n",
      "Batches:  45%|████▌     | 676/1488 [13:24<17:09,  1.27s/it]\u001b[A"
     ]
    },
    {
     "name": "stdout",
     "output_type": "stream",
     "text": [
      "[99/100][675/1488]                          LossD: 0.0034 (real: 0.0006, fake: 0.0062)                          LossG: 15.8242 (pred: 5.7242, L1: 10.1000)                          D(x): 0.9994                          D(G(z)): 0.0062 -> 0.0061\n"
     ]
    },
    {
     "name": "stderr",
     "output_type": "stream",
     "text": [
      "\n",
      "Batches:  45%|████▌     | 677/1488 [13:25<16:52,  1.25s/it]\u001b[A\n",
      "Batches:  46%|████▌     | 678/1488 [13:26<17:33,  1.30s/it]\u001b[A\n",
      "Batches:  46%|████▌     | 679/1488 [13:28<17:22,  1.29s/it]\u001b[A\n",
      "                                                             A\n",
      "Epochs:  99%|█████████▉| 99/100 [92:48:04<31:13, 1873.66s/it]\n",
      "Batches:  46%|████▌     | 680/1488 [13:30<17:24,  1.29s/it]\u001b[A\n",
      "Batches:  46%|████▌     | 681/1488 [13:30<17:22,  1.29s/it]\u001b[A"
     ]
    },
    {
     "name": "stdout",
     "output_type": "stream",
     "text": [
      "[99/100][680/1488]                          LossD: 0.0223 (real: 0.0002, fake: 0.0444)                          LossG: 16.2635 (pred: 3.8542, L1: 12.4093)                          D(x): 0.9998                          D(G(z)): 0.0400 -> 0.0355\n"
     ]
    },
    {
     "name": "stderr",
     "output_type": "stream",
     "text": [
      "\n",
      "Batches:  46%|████▌     | 682/1488 [13:32<17:07,  1.27s/it]\u001b[A\n",
      "Batches:  46%|████▌     | 683/1488 [13:33<16:42,  1.25s/it]\u001b[A\n",
      "Batches:  46%|████▌     | 684/1488 [13:34<16:51,  1.26s/it]\u001b[A\n",
      "                                                             A\n",
      "Epochs:  99%|█████████▉| 99/100 [92:48:10<31:13, 1873.66s/it]\n",
      "Batches:  46%|████▌     | 685/1488 [13:37<16:33,  1.24s/it]\u001b[A\n",
      "Batches:  46%|████▌     | 686/1488 [13:37<16:52,  1.26s/it]\u001b[A"
     ]
    },
    {
     "name": "stdout",
     "output_type": "stream",
     "text": [
      "[99/100][685/1488]                          LossD: 0.0632 (real: 0.0413, fake: 0.0851)                          LossG: 13.5902 (pred: 3.3752, L1: 10.2150)                          D(x): 0.9610                          D(G(z)): 0.0786 -> 0.0456\n"
     ]
    },
    {
     "name": "stderr",
     "output_type": "stream",
     "text": [
      "\n",
      "Batches:  46%|████▌     | 687/1488 [13:38<16:42,  1.25s/it]\u001b[A\n",
      "Batches:  46%|████▌     | 688/1488 [13:39<16:26,  1.23s/it]\u001b[A\n",
      "Batches:  46%|████▋     | 689/1488 [13:43<25:52,  1.94s/it]\u001b[A\n",
      "                                                             A\n",
      "Epochs:  99%|█████████▉| 99/100 [92:48:18<31:13, 1873.66s/it]\n",
      "Batches:  46%|████▋     | 690/1488 [13:45<22:37,  1.70s/it]\u001b[A\n",
      "Batches:  46%|████▋     | 691/1488 [13:45<21:18,  1.60s/it]\u001b[A"
     ]
    },
    {
     "name": "stdout",
     "output_type": "stream",
     "text": [
      "[99/100][690/1488]                          LossD: 0.0133 (real: 0.0002, fake: 0.0264)                          LossG: 12.6571 (pred: 4.2776, L1: 8.3796)                          D(x): 0.9998                          D(G(z)): 0.0257 -> 0.0215\n"
     ]
    },
    {
     "name": "stderr",
     "output_type": "stream",
     "text": [
      "\n",
      "Batches:  47%|████▋     | 692/1488 [13:46<20:03,  1.51s/it]\u001b[A\n",
      "Batches:  47%|████▋     | 693/1488 [13:48<19:18,  1.46s/it]\u001b[A\n",
      "Batches:  47%|████▋     | 694/1488 [13:49<18:28,  1.40s/it]\u001b[A\n",
      "                                                             A\n",
      "Epochs:  99%|█████████▉| 99/100 [92:48:25<31:13, 1873.66s/it]\n",
      "Batches:  47%|████▋     | 695/1488 [13:51<17:23,  1.32s/it]\u001b[A\n",
      "Batches:  47%|████▋     | 696/1488 [13:51<16:29,  1.25s/it]\u001b[A"
     ]
    },
    {
     "name": "stdout",
     "output_type": "stream",
     "text": [
      "[99/100][695/1488]                          LossD: 0.0141 (real: 0.0001, fake: 0.0281)                          LossG: 15.1991 (pred: 4.8925, L1: 10.3066)                          D(x): 0.9999                          D(G(z)): 0.0268 -> 0.0157\n"
     ]
    },
    {
     "name": "stderr",
     "output_type": "stream",
     "text": [
      "\n",
      "Batches:  47%|████▋     | 697/1488 [13:52<15:29,  1.17s/it]\u001b[A\n",
      "Batches:  47%|████▋     | 698/1488 [13:53<15:24,  1.17s/it]\u001b[A\n",
      "Batches:  47%|████▋     | 699/1488 [13:54<15:10,  1.15s/it]\u001b[A\n",
      "                                                             A\n",
      "Epochs:  99%|█████████▉| 99/100 [92:48:30<31:13, 1873.66s/it]\n",
      "Batches:  47%|████▋     | 700/1488 [13:57<14:44,  1.12s/it]\u001b[A\n",
      "Batches:  47%|████▋     | 701/1488 [13:57<15:01,  1.15s/it]\u001b[A"
     ]
    },
    {
     "name": "stdout",
     "output_type": "stream",
     "text": [
      "[99/100][700/1488]                          LossD: 0.0031 (real: 0.0002, fake: 0.0060)                          LossG: 17.9062 (pred: 5.6470, L1: 12.2591)                          D(x): 0.9998                          D(G(z)): 0.0057 -> 0.0076\n"
     ]
    },
    {
     "name": "stderr",
     "output_type": "stream",
     "text": [
      "\n",
      "Batches:  47%|████▋     | 702/1488 [13:58<14:44,  1.13s/it]\u001b[A\n",
      "Batches:  47%|████▋     | 703/1488 [13:59<15:57,  1.22s/it]\u001b[A\n",
      "Batches:  47%|████▋     | 704/1488 [14:01<16:38,  1.27s/it]\u001b[A\n",
      "                                                             A\n",
      "Epochs:  99%|█████████▉| 99/100 [92:48:37<31:13, 1873.66s/it]\n",
      "Batches:  47%|████▋     | 705/1488 [14:03<16:47,  1.29s/it]\u001b[A\n",
      "Batches:  47%|████▋     | 706/1488 [14:03<17:03,  1.31s/it]\u001b[A"
     ]
    },
    {
     "name": "stdout",
     "output_type": "stream",
     "text": [
      "[99/100][705/1488]                          LossD: 0.0543 (real: 0.0056, fake: 0.1030)                          LossG: 10.8944 (pred: 3.4380, L1: 7.4564)                          D(x): 0.9945                          D(G(z)): 0.0945 -> 0.0446\n"
     ]
    },
    {
     "name": "stderr",
     "output_type": "stream",
     "text": [
      "\n",
      "Batches:  48%|████▊     | 707/1488 [14:05<16:57,  1.30s/it]\u001b[A\n",
      "Batches:  48%|████▊     | 708/1488 [14:06<17:03,  1.31s/it]\u001b[A\n",
      "Batches:  48%|████▊     | 709/1488 [14:07<17:07,  1.32s/it]\u001b[A\n",
      "                                                             A\n",
      "Epochs:  99%|█████████▉| 99/100 [92:48:43<31:13, 1873.66s/it]\n",
      "Batches:  48%|████▊     | 710/1488 [14:09<16:19,  1.26s/it]\u001b[A\n",
      "Batches:  48%|████▊     | 711/1488 [14:09<15:23,  1.19s/it]\u001b[A"
     ]
    },
    {
     "name": "stdout",
     "output_type": "stream",
     "text": [
      "[99/100][710/1488]                          LossD: 0.1085 (real: 0.0076, fake: 0.2093)                          LossG: 12.6685 (pred: 3.1370, L1: 9.5315)                          D(x): 0.9925                          D(G(z)): 0.1758 -> 0.0636\n"
     ]
    },
    {
     "name": "stderr",
     "output_type": "stream",
     "text": [
      "\n",
      "Batches:  48%|████▊     | 712/1488 [14:10<14:40,  1.13s/it]\u001b[A\n",
      "Batches:  48%|████▊     | 713/1488 [14:11<14:17,  1.11s/it]\u001b[A\n",
      "Batches:  48%|████▊     | 714/1488 [14:12<13:49,  1.07s/it]\u001b[A\n",
      "                                                             A\n",
      "Epochs:  99%|█████████▉| 99/100 [92:48:48<31:13, 1873.66s/it]\n",
      "Batches:  48%|████▊     | 715/1488 [14:14<13:38,  1.06s/it]\u001b[A\n",
      "Batches:  48%|████▊     | 716/1488 [14:14<13:36,  1.06s/it]\u001b[A"
     ]
    },
    {
     "name": "stdout",
     "output_type": "stream",
     "text": [
      "[99/100][715/1488]                          LossD: 0.0555 (real: 0.0120, fake: 0.0989)                          LossG: 10.7225 (pred: 4.0480, L1: 6.6744)                          D(x): 0.9883                          D(G(z)): 0.0852 -> 0.0270\n"
     ]
    },
    {
     "name": "stderr",
     "output_type": "stream",
     "text": [
      "\n",
      "Batches:  48%|████▊     | 717/1488 [14:16<13:29,  1.05s/it]\u001b[A\n",
      "Batches:  48%|████▊     | 718/1488 [14:17<13:20,  1.04s/it]\u001b[A\n",
      "Batches:  48%|████▊     | 719/1488 [14:18<13:19,  1.04s/it]\u001b[A\n",
      "                                                             A\n",
      "Epochs:  99%|█████████▉| 99/100 [92:48:53<31:13, 1873.66s/it]\n",
      "Batches:  48%|████▊     | 720/1488 [14:20<13:23,  1.05s/it]\u001b[A\n",
      "Batches:  48%|████▊     | 721/1488 [14:20<13:53,  1.09s/it]\u001b[A"
     ]
    },
    {
     "name": "stdout",
     "output_type": "stream",
     "text": [
      "[99/100][720/1488]                          LossD: 0.0018 (real: 0.0022, fake: 0.0014)                          LossG: 21.1650 (pred: 8.2377, L1: 12.9274)                          D(x): 0.9979                          D(G(z)): 0.0014 -> 0.0012\n"
     ]
    },
    {
     "name": "stderr",
     "output_type": "stream",
     "text": [
      "\n",
      "Batches:  49%|████▊     | 722/1488 [14:21<13:59,  1.10s/it]\u001b[A\n",
      "Batches:  49%|████▊     | 723/1488 [14:22<13:48,  1.08s/it]\u001b[A\n",
      "Batches:  49%|████▊     | 724/1488 [14:23<13:40,  1.07s/it]\u001b[A\n",
      "                                                             A\n",
      "Epochs:  99%|█████████▉| 99/100 [92:48:58<31:13, 1873.66s/it]\n",
      "Batches:  49%|████▊     | 725/1488 [14:25<13:27,  1.06s/it]\u001b[A\n",
      "Batches:  49%|████▉     | 726/1488 [14:25<13:25,  1.06s/it]\u001b[A"
     ]
    },
    {
     "name": "stdout",
     "output_type": "stream",
     "text": [
      "[99/100][725/1488]                          LossD: 0.3650 (real: 0.0060, fake: 0.7240)                          LossG: 13.2767 (pred: 4.1387, L1: 9.1380)                          D(x): 0.9941                          D(G(z)): 0.3028 -> 0.1715\n"
     ]
    },
    {
     "name": "stderr",
     "output_type": "stream",
     "text": [
      "\n",
      "Batches:  49%|████▉     | 727/1488 [14:26<13:14,  1.04s/it]\u001b[A\n",
      "Batches:  49%|████▉     | 728/1488 [14:27<13:11,  1.04s/it]\u001b[A\n",
      "Batches:  49%|████▉     | 729/1488 [14:28<13:02,  1.03s/it]\u001b[A\n",
      "                                                             A\n",
      "Epochs:  99%|█████████▉| 99/100 [92:49:04<31:13, 1873.66s/it]\n",
      "Batches:  49%|████▉     | 730/1488 [14:30<13:05,  1.04s/it]\u001b[A\n",
      "Batches:  49%|████▉     | 731/1488 [14:30<13:10,  1.04s/it]\u001b[A"
     ]
    },
    {
     "name": "stdout",
     "output_type": "stream",
     "text": [
      "[99/100][730/1488]                          LossD: 0.1678 (real: 0.1471, fake: 0.1884)                          LossG: 14.9381 (pred: 3.8424, L1: 11.0957)                          D(x): 0.9223                          D(G(z)): 0.1382 -> 0.0495\n"
     ]
    },
    {
     "name": "stderr",
     "output_type": "stream",
     "text": [
      "\n",
      "Batches:  49%|████▉     | 732/1488 [14:31<13:06,  1.04s/it]\u001b[A\n",
      "Batches:  49%|████▉     | 733/1488 [14:32<13:07,  1.04s/it]\u001b[A\n",
      "Batches:  49%|████▉     | 734/1488 [14:33<12:58,  1.03s/it]\u001b[A\n",
      "                                                             A\n",
      "Epochs:  99%|█████████▉| 99/100 [92:49:09<31:13, 1873.66s/it]\n",
      "Batches:  49%|████▉     | 735/1488 [14:35<12:52,  1.03s/it]\u001b[A\n",
      "Batches:  49%|████▉     | 736/1488 [14:35<12:55,  1.03s/it]\u001b[A"
     ]
    },
    {
     "name": "stdout",
     "output_type": "stream",
     "text": [
      "[99/100][735/1488]                          LossD: 0.5555 (real: 0.0543, fake: 1.0567)                          LossG: 11.5179 (pred: 2.3670, L1: 9.1509)                          D(x): 0.9644                          D(G(z)): 0.5553 -> 0.1456\n"
     ]
    },
    {
     "name": "stderr",
     "output_type": "stream",
     "text": [
      "\n",
      "Batches:  50%|████▉     | 737/1488 [14:36<12:56,  1.03s/it]\u001b[A\n",
      "Batches:  50%|████▉     | 738/1488 [14:37<12:52,  1.03s/it]\u001b[A\n",
      "Batches:  50%|████▉     | 739/1488 [14:39<12:54,  1.03s/it]\u001b[A\n",
      "                                                             A\n",
      "Epochs:  99%|█████████▉| 99/100 [92:49:14<31:13, 1873.66s/it]\n",
      "Batches:  50%|████▉     | 740/1488 [14:41<12:54,  1.04s/it]\u001b[A\n",
      "Batches:  50%|████▉     | 741/1488 [14:41<12:57,  1.04s/it]\u001b[A"
     ]
    },
    {
     "name": "stdout",
     "output_type": "stream",
     "text": [
      "[99/100][740/1488]                          LossD: 0.3659 (real: 0.7165, fake: 0.0152)                          LossG: 12.9638 (pred: 3.7069, L1: 9.2569)                          D(x): 0.5715                          D(G(z)): 0.0129 -> 0.0422\n"
     ]
    },
    {
     "name": "stderr",
     "output_type": "stream",
     "text": [
      "\n",
      "Batches:  50%|████▉     | 742/1488 [14:42<12:53,  1.04s/it]\u001b[A\n",
      "Batches:  50%|████▉     | 743/1488 [14:43<13:04,  1.05s/it]\u001b[A\n",
      "Batches:  50%|█████     | 744/1488 [14:44<13:09,  1.06s/it]\u001b[A\n",
      "                                                             A\n",
      "Epochs:  99%|█████████▉| 99/100 [92:49:19<31:13, 1873.66s/it]\n",
      "Batches:  50%|█████     | 745/1488 [14:46<13:12,  1.07s/it]\u001b[A\n",
      "Batches:  50%|█████     | 746/1488 [14:46<13:20,  1.08s/it]\u001b[A"
     ]
    },
    {
     "name": "stdout",
     "output_type": "stream",
     "text": [
      "[99/100][745/1488]                          LossD: 0.1079 (real: 0.0048, fake: 0.2110)                          LossG: 13.2940 (pred: 3.6376, L1: 9.6564)                          D(x): 0.9955                          D(G(z)): 0.1722 -> 0.0438\n"
     ]
    },
    {
     "name": "stderr",
     "output_type": "stream",
     "text": [
      "\n",
      "Batches:  50%|█████     | 747/1488 [14:47<13:31,  1.09s/it]\u001b[A\n",
      "Batches:  50%|█████     | 748/1488 [14:48<13:56,  1.13s/it]\u001b[A\n",
      "Batches:  50%|█████     | 749/1488 [14:49<13:47,  1.12s/it]\u001b[A\n",
      "                                                             A\n",
      "Epochs:  99%|█████████▉| 99/100 [92:49:25<31:13, 1873.66s/it]\n",
      "Batches:  50%|█████     | 750/1488 [14:52<14:06,  1.15s/it]\u001b[A\n",
      "Batches:  50%|█████     | 751/1488 [14:52<14:18,  1.16s/it]\u001b[A"
     ]
    },
    {
     "name": "stdout",
     "output_type": "stream",
     "text": [
      "[99/100][750/1488]                          LossD: 0.1731 (real: 0.2700, fake: 0.0761)                          LossG: 7.2371 (pred: 2.4992, L1: 4.7379)                          D(x): 0.7942                          D(G(z)): 0.0658 -> 0.1271\n"
     ]
    },
    {
     "name": "stderr",
     "output_type": "stream",
     "text": [
      "\n",
      "Batches:  51%|█████     | 752/1488 [14:53<14:27,  1.18s/it]\u001b[A\n",
      "Batches:  51%|█████     | 753/1488 [14:54<14:33,  1.19s/it]\u001b[A\n",
      "Batches:  51%|█████     | 754/1488 [14:55<14:14,  1.16s/it]\u001b[A\n",
      "                                                             A\n",
      "Epochs:  99%|█████████▉| 99/100 [92:49:31<31:13, 1873.66s/it]\n",
      "Batches:  51%|█████     | 755/1488 [14:58<14:16,  1.17s/it]\u001b[A\n",
      "Batches:  51%|█████     | 756/1488 [14:58<14:55,  1.22s/it]\u001b[A"
     ]
    },
    {
     "name": "stdout",
     "output_type": "stream",
     "text": [
      "[99/100][755/1488]                          LossD: 0.0043 (real: 0.0017, fake: 0.0069)                          LossG: 16.7800 (pred: 6.2826, L1: 10.4973)                          D(x): 0.9983                          D(G(z)): 0.0068 -> 0.0049\n"
     ]
    },
    {
     "name": "stderr",
     "output_type": "stream",
     "text": [
      "\n",
      "Batches:  51%|█████     | 757/1488 [14:59<14:50,  1.22s/it]\u001b[A\n",
      "Batches:  51%|█████     | 758/1488 [15:00<14:48,  1.22s/it]\u001b[A\n",
      "Batches:  51%|█████     | 759/1488 [15:02<14:44,  1.21s/it]\u001b[A\n",
      "                                                             A\n",
      "Epochs:  99%|█████████▉| 99/100 [92:49:37<31:13, 1873.66s/it]\n",
      "Batches:  51%|█████     | 760/1488 [15:04<14:58,  1.23s/it]\u001b[A\n",
      "Batches:  51%|█████     | 761/1488 [15:04<14:58,  1.24s/it]\u001b[A"
     ]
    },
    {
     "name": "stdout",
     "output_type": "stream",
     "text": [
      "[99/100][760/1488]                          LossD: 0.5692 (real: 0.0011, fake: 1.1373)                          LossG: 13.4605 (pred: 3.6923, L1: 9.7682)                          D(x): 0.9989                          D(G(z)): 0.6185 -> 0.0474\n"
     ]
    },
    {
     "name": "stderr",
     "output_type": "stream",
     "text": [
      "\n",
      "Batches:  51%|█████     | 762/1488 [15:05<15:14,  1.26s/it]\u001b[A\n",
      "Batches:  51%|█████▏    | 763/1488 [15:07<15:31,  1.28s/it]\u001b[A\n",
      "Batches:  51%|█████▏    | 764/1488 [15:08<15:39,  1.30s/it]\u001b[A\n",
      "                                                             A\n",
      "Epochs:  99%|█████████▉| 99/100 [92:49:44<31:13, 1873.66s/it]\n",
      "Batches:  51%|█████▏    | 765/1488 [15:11<15:38,  1.30s/it]\u001b[A\n",
      "Batches:  51%|█████▏    | 766/1488 [15:11<15:16,  1.27s/it]\u001b[A"
     ]
    },
    {
     "name": "stdout",
     "output_type": "stream",
     "text": [
      "[99/100][765/1488]                          LossD: 0.0037 (real: 0.0024, fake: 0.0050)                          LossG: 16.7839 (pred: 5.6700, L1: 11.1139)                          D(x): 0.9976                          D(G(z)): 0.0049 -> 0.0095\n"
     ]
    },
    {
     "name": "stderr",
     "output_type": "stream",
     "text": [
      "\n",
      "Batches:  52%|█████▏    | 767/1488 [15:12<15:19,  1.28s/it]\u001b[A\n",
      "Batches:  52%|█████▏    | 768/1488 [15:13<14:55,  1.24s/it]\u001b[A\n",
      "Batches:  52%|█████▏    | 769/1488 [15:14<15:01,  1.25s/it]\u001b[A\n",
      "                                                             A\n",
      "Epochs:  99%|█████████▉| 99/100 [92:49:50<31:13, 1873.66s/it]\n",
      "Batches:  52%|█████▏    | 770/1488 [15:17<14:53,  1.24s/it]\u001b[A\n",
      "Batches:  52%|█████▏    | 771/1488 [15:17<14:46,  1.24s/it]\u001b[A"
     ]
    },
    {
     "name": "stdout",
     "output_type": "stream",
     "text": [
      "[99/100][770/1488]                          LossD: 0.2488 (real: 0.4552, fake: 0.0423)                          LossG: 9.6426 (pred: 3.1811, L1: 6.4615)                          D(x): 0.6852                          D(G(z)): 0.0334 -> 0.0811\n"
     ]
    },
    {
     "name": "stderr",
     "output_type": "stream",
     "text": [
      "\n",
      "Batches:  52%|█████▏    | 772/1488 [15:18<14:09,  1.19s/it]\u001b[A\n",
      "Batches:  52%|█████▏    | 773/1488 [15:19<13:41,  1.15s/it]\u001b[A\n",
      "Batches:  52%|█████▏    | 774/1488 [15:20<13:21,  1.12s/it]\u001b[A\n",
      "                                                             A\n",
      "Epochs:  99%|█████████▉| 99/100 [92:49:55<31:13, 1873.66s/it]\n",
      "Batches:  52%|█████▏    | 775/1488 [15:22<13:08,  1.11s/it]\u001b[A\n",
      "Batches:  52%|█████▏    | 776/1488 [15:22<13:09,  1.11s/it]\u001b[A"
     ]
    },
    {
     "name": "stdout",
     "output_type": "stream",
     "text": [
      "[99/100][775/1488]                          LossD: 0.0376 (real: 0.0633, fake: 0.0119)                          LossG: 17.1158 (pred: 5.9734, L1: 11.1424)                          D(x): 0.9407                          D(G(z)): 0.0109 -> 0.0069\n"
     ]
    },
    {
     "name": "stderr",
     "output_type": "stream",
     "text": [
      "\n",
      "Batches:  52%|█████▏    | 777/1488 [15:23<13:04,  1.10s/it]\u001b[A\n",
      "Batches:  52%|█████▏    | 778/1488 [15:24<13:04,  1.10s/it]\u001b[A\n",
      "Batches:  52%|█████▏    | 779/1488 [15:25<12:51,  1.09s/it]\u001b[A\n",
      "                                                             A\n",
      "Epochs:  99%|█████████▉| 99/100 [92:50:01<31:13, 1873.66s/it]\n",
      "Batches:  52%|█████▏    | 780/1488 [15:28<13:12,  1.12s/it]\u001b[A\n",
      "Batches:  52%|█████▏    | 781/1488 [15:28<13:18,  1.13s/it]\u001b[A"
     ]
    },
    {
     "name": "stdout",
     "output_type": "stream",
     "text": [
      "[99/100][780/1488]                          LossD: 0.0924 (real: 0.0055, fake: 0.1794)                          LossG: 11.3950 (pred: 3.0542, L1: 8.3407)                          D(x): 0.9946                          D(G(z)): 0.1502 -> 0.0688\n"
     ]
    },
    {
     "name": "stderr",
     "output_type": "stream",
     "text": [
      "\n",
      "Batches:  53%|█████▎    | 782/1488 [15:29<13:05,  1.11s/it]\u001b[A\n",
      "Batches:  53%|█████▎    | 783/1488 [15:30<13:04,  1.11s/it]\u001b[A\n",
      "Batches:  53%|█████▎    | 784/1488 [15:31<12:59,  1.11s/it]\u001b[A\n",
      "                                                             A\n",
      "Epochs:  99%|█████████▉| 99/100 [92:50:07<31:13, 1873.66s/it]\n",
      "Batches:  53%|█████▎    | 785/1488 [15:33<13:25,  1.15s/it]\u001b[A\n",
      "Batches:  53%|█████▎    | 786/1488 [15:33<13:15,  1.13s/it]\u001b[A"
     ]
    },
    {
     "name": "stdout",
     "output_type": "stream",
     "text": [
      "[99/100][785/1488]                          LossD: 0.0660 (real: 0.0007, fake: 0.1314)                          LossG: 13.4488 (pred: 3.5322, L1: 9.9166)                          D(x): 0.9993                          D(G(z)): 0.1156 -> 0.0448\n"
     ]
    },
    {
     "name": "stderr",
     "output_type": "stream",
     "text": [
      "\n",
      "Batches:  53%|█████▎    | 787/1488 [15:34<13:17,  1.14s/it]\u001b[A\n",
      "Batches:  53%|█████▎    | 788/1488 [15:36<13:06,  1.12s/it]\u001b[A\n",
      "Batches:  53%|█████▎    | 789/1488 [15:39<20:17,  1.74s/it]\u001b[A\n",
      "                                                             A\n",
      "Epochs:  99%|█████████▉| 99/100 [92:50:14<31:13, 1873.66s/it]\n",
      "Batches:  53%|█████▎    | 790/1488 [15:40<16:56,  1.46s/it]\u001b[A\n",
      "Batches:  53%|█████▎    | 791/1488 [15:40<14:51,  1.28s/it]\u001b[A"
     ]
    },
    {
     "name": "stdout",
     "output_type": "stream",
     "text": [
      "[99/100][790/1488]                          LossD: 0.5041 (real: 0.2840, fake: 0.7241)                          LossG: 11.4122 (pred: 3.6558, L1: 7.7565)                          D(x): 0.7916                          D(G(z)): 0.4713 -> 0.0656\n"
     ]
    },
    {
     "name": "stderr",
     "output_type": "stream",
     "text": [
      "\n",
      "Batches:  53%|█████▎    | 792/1488 [15:42<16:08,  1.39s/it]\u001b[A\n",
      "Batches:  53%|█████▎    | 793/1488 [15:43<14:30,  1.25s/it]\u001b[A\n",
      "Batches:  53%|█████▎    | 794/1488 [15:44<13:21,  1.15s/it]\u001b[A\n",
      "                                                             A\n",
      "Epochs:  99%|█████████▉| 99/100 [92:50:19<31:13, 1873.66s/it]\n",
      "Batches:  53%|█████▎    | 795/1488 [15:46<12:20,  1.07s/it]\u001b[A\n",
      "Batches:  53%|█████▎    | 796/1488 [15:46<12:07,  1.05s/it]\u001b[A"
     ]
    },
    {
     "name": "stdout",
     "output_type": "stream",
     "text": [
      "[99/100][795/1488]                          LossD: 0.1143 (real: 0.2162, fake: 0.0124)                          LossG: 12.7552 (pred: 4.7806, L1: 7.9745)                          D(x): 0.8653                          D(G(z)): 0.0121 -> 0.0153\n"
     ]
    },
    {
     "name": "stderr",
     "output_type": "stream",
     "text": [
      "\n",
      "Batches:  54%|█████▎    | 797/1488 [15:47<12:18,  1.07s/it]\u001b[A\n",
      "Batches:  54%|█████▎    | 798/1488 [15:48<12:25,  1.08s/it]\u001b[A\n",
      "Batches:  54%|█████▎    | 799/1488 [15:49<12:35,  1.10s/it]\u001b[A\n",
      "                                                             A\n",
      "Epochs:  99%|█████████▉| 99/100 [92:50:25<31:13, 1873.66s/it]\n",
      "Batches:  54%|█████▍    | 800/1488 [15:51<12:42,  1.11s/it]\u001b[A\n",
      "Batches:  54%|█████▍    | 801/1488 [15:51<12:48,  1.12s/it]\u001b[A"
     ]
    },
    {
     "name": "stdout",
     "output_type": "stream",
     "text": [
      "[99/100][800/1488]                          LossD: 0.0596 (real: 0.0011, fake: 0.1182)                          LossG: 17.1940 (pred: 4.5795, L1: 12.6145)                          D(x): 0.9989                          D(G(z)): 0.1049 -> 0.0188\n"
     ]
    },
    {
     "name": "stderr",
     "output_type": "stream",
     "text": [
      "\n",
      "Batches:  54%|█████▍    | 802/1488 [15:53<12:50,  1.12s/it]\u001b[A\n",
      "Batches:  54%|█████▍    | 803/1488 [15:54<12:45,  1.12s/it]\u001b[A\n",
      "Batches:  54%|█████▍    | 804/1488 [15:55<12:37,  1.11s/it]\u001b[A\n",
      "                                                             A\n",
      "Epochs:  99%|█████████▉| 99/100 [92:50:30<31:13, 1873.66s/it]\n",
      "Batches:  54%|█████▍    | 805/1488 [15:57<12:40,  1.11s/it]\u001b[A\n",
      "Batches:  54%|█████▍    | 806/1488 [15:57<13:00,  1.14s/it]\u001b[A"
     ]
    },
    {
     "name": "stdout",
     "output_type": "stream",
     "text": [
      "[99/100][805/1488]                          LossD: 0.0856 (real: 0.0001, fake: 0.1711)                          LossG: 12.7244 (pred: 4.1115, L1: 8.6129)                          D(x): 0.9999                          D(G(z)): 0.1200 -> 0.0313\n"
     ]
    },
    {
     "name": "stderr",
     "output_type": "stream",
     "text": [
      "\n",
      "Batches:  54%|█████▍    | 807/1488 [15:58<12:49,  1.13s/it]\u001b[A\n",
      "Batches:  54%|█████▍    | 808/1488 [15:59<12:49,  1.13s/it]\u001b[A\n",
      "Batches:  54%|█████▍    | 809/1488 [16:00<12:46,  1.13s/it]\u001b[A\n",
      "                                                             A\n",
      "Epochs:  99%|█████████▉| 99/100 [92:50:36<31:13, 1873.66s/it]\n",
      "Batches:  54%|█████▍    | 810/1488 [16:03<12:48,  1.13s/it]\u001b[A\n",
      "Batches:  55%|█████▍    | 811/1488 [16:03<12:49,  1.14s/it]\u001b[A"
     ]
    },
    {
     "name": "stdout",
     "output_type": "stream",
     "text": [
      "[99/100][810/1488]                          LossD: 0.0729 (real: 0.0283, fake: 0.1175)                          LossG: 11.6992 (pred: 2.6407, L1: 9.0586)                          D(x): 0.9747                          D(G(z)): 0.1049 -> 0.0927\n"
     ]
    },
    {
     "name": "stderr",
     "output_type": "stream",
     "text": [
      "\n",
      "Batches:  55%|█████▍    | 812/1488 [16:04<12:40,  1.12s/it]\u001b[A\n",
      "Batches:  55%|█████▍    | 813/1488 [16:05<13:03,  1.16s/it]\u001b[A\n",
      "Batches:  55%|█████▍    | 814/1488 [16:06<13:20,  1.19s/it]\u001b[A\n",
      "                                                             A\n",
      "Epochs:  99%|█████████▉| 99/100 [92:50:42<31:13, 1873.66s/it]\n",
      "Batches:  55%|█████▍    | 815/1488 [16:09<13:00,  1.16s/it]\u001b[A\n",
      "Batches:  55%|█████▍    | 816/1488 [16:09<12:50,  1.15s/it]\u001b[A"
     ]
    },
    {
     "name": "stdout",
     "output_type": "stream",
     "text": [
      "[99/100][815/1488]                          LossD: 0.0148 (real: 0.0125, fake: 0.0172)                          LossG: 16.2607 (pred: 5.1382, L1: 11.1225)                          D(x): 0.9879                          D(G(z)): 0.0165 -> 0.0117\n"
     ]
    },
    {
     "name": "stderr",
     "output_type": "stream",
     "text": [
      "\n",
      "Batches:  55%|█████▍    | 817/1488 [16:10<12:38,  1.13s/it]\u001b[A\n",
      "Batches:  55%|█████▍    | 818/1488 [16:11<12:39,  1.13s/it]\u001b[A\n",
      "Batches:  55%|█████▌    | 819/1488 [16:12<12:31,  1.12s/it]\u001b[A\n",
      "                                                             A\n",
      "Epochs:  99%|█████████▉| 99/100 [92:50:48<31:13, 1873.66s/it]\n",
      "Batches:  55%|█████▌    | 820/1488 [16:14<12:32,  1.13s/it]\u001b[A\n",
      "Batches:  55%|█████▌    | 821/1488 [16:14<12:38,  1.14s/it]\u001b[A"
     ]
    },
    {
     "name": "stdout",
     "output_type": "stream",
     "text": [
      "[99/100][820/1488]                          LossD: 0.0057 (real: 0.0002, fake: 0.0113)                          LossG: 16.8853 (pred: 5.0260, L1: 11.8594)                          D(x): 0.9998                          D(G(z)): 0.0110 -> 0.0105\n"
     ]
    },
    {
     "name": "stderr",
     "output_type": "stream",
     "text": [
      "\n",
      "Batches:  55%|█████▌    | 822/1488 [16:15<12:33,  1.13s/it]\u001b[A\n",
      "Batches:  55%|█████▌    | 823/1488 [16:16<12:28,  1.13s/it]\u001b[A\n",
      "Batches:  55%|█████▌    | 824/1488 [16:18<12:22,  1.12s/it]\u001b[A\n",
      "                                                             A\n",
      "Epochs:  99%|█████████▉| 99/100 [92:50:53<31:13, 1873.66s/it]\n",
      "Batches:  55%|█████▌    | 825/1488 [16:20<12:16,  1.11s/it]\u001b[A\n",
      "Batches:  56%|█████▌    | 826/1488 [16:20<12:22,  1.12s/it]\u001b[A"
     ]
    },
    {
     "name": "stdout",
     "output_type": "stream",
     "text": [
      "[99/100][825/1488]                          LossD: 0.0497 (real: 0.0220, fake: 0.0773)                          LossG: 13.6236 (pred: 3.4398, L1: 10.1838)                          D(x): 0.9790                          D(G(z)): 0.0685 -> 0.0548\n"
     ]
    },
    {
     "name": "stderr",
     "output_type": "stream",
     "text": [
      "\n",
      "Batches:  56%|█████▌    | 827/1488 [16:21<12:16,  1.11s/it]\u001b[A\n",
      "Batches:  56%|█████▌    | 828/1488 [16:22<12:07,  1.10s/it]\u001b[A\n",
      "Batches:  56%|█████▌    | 829/1488 [16:23<12:17,  1.12s/it]\u001b[A\n",
      "                                                             A\n",
      "Epochs:  99%|█████████▉| 99/100 [92:50:59<31:13, 1873.66s/it]\n",
      "Batches:  56%|█████▌    | 830/1488 [16:25<12:13,  1.11s/it]\u001b[A\n",
      "Batches:  56%|█████▌    | 831/1488 [16:25<12:15,  1.12s/it]\u001b[A"
     ]
    },
    {
     "name": "stdout",
     "output_type": "stream",
     "text": [
      "[99/100][830/1488]                          LossD: 1.3544 (real: 2.6793, fake: 0.0296)                          LossG: 7.2289 (pred: 1.1146, L1: 6.1143)                          D(x): 0.1133                          D(G(z)): 0.0286 -> 0.3798\n"
     ]
    },
    {
     "name": "stderr",
     "output_type": "stream",
     "text": [
      "\n",
      "Batches:  56%|█████▌    | 832/1488 [16:26<12:13,  1.12s/it]\u001b[A\n",
      "Batches:  56%|█████▌    | 833/1488 [16:28<12:31,  1.15s/it]\u001b[A\n",
      "Batches:  56%|█████▌    | 834/1488 [16:29<12:23,  1.14s/it]\u001b[A\n",
      "                                                             A\n",
      "Epochs:  99%|█████████▉| 99/100 [92:51:04<31:13, 1873.66s/it]\n",
      "Batches:  56%|█████▌    | 835/1488 [16:31<12:11,  1.12s/it]\u001b[A\n",
      "Batches:  56%|█████▌    | 836/1488 [16:31<12:13,  1.12s/it]\u001b[A"
     ]
    },
    {
     "name": "stdout",
     "output_type": "stream",
     "text": [
      "[99/100][835/1488]                          LossD: 0.0621 (real: 0.0011, fake: 0.1230)                          LossG: 21.5049 (pred: 2.7961, L1: 18.7089)                          D(x): 0.9989                          D(G(z)): 0.1077 -> 0.0896\n"
     ]
    },
    {
     "name": "stderr",
     "output_type": "stream",
     "text": [
      "\n",
      "Batches:  56%|█████▋    | 837/1488 [16:32<12:08,  1.12s/it]\u001b[A\n",
      "Batches:  56%|█████▋    | 838/1488 [16:33<12:09,  1.12s/it]\u001b[A\n",
      "Batches:  56%|█████▋    | 839/1488 [16:34<12:08,  1.12s/it]\u001b[A\n",
      "                                                             A\n",
      "Epochs:  99%|█████████▉| 99/100 [92:51:10<31:13, 1873.66s/it]\n",
      "Batches:  56%|█████▋    | 840/1488 [16:37<12:07,  1.12s/it]\u001b[A\n",
      "Batches:  57%|█████▋    | 841/1488 [16:37<12:09,  1.13s/it]\u001b[A"
     ]
    },
    {
     "name": "stdout",
     "output_type": "stream",
     "text": [
      "[99/100][840/1488]                          LossD: 0.0107 (real: 0.0005, fake: 0.0209)                          LossG: 19.6873 (pred: 4.9668, L1: 14.7205)                          D(x): 0.9995                          D(G(z)): 0.0196 -> 0.0163\n"
     ]
    },
    {
     "name": "stderr",
     "output_type": "stream",
     "text": [
      "\n",
      "Batches:  57%|█████▋    | 842/1488 [16:38<11:58,  1.11s/it]\u001b[A\n",
      "Batches:  57%|█████▋    | 843/1488 [16:39<11:51,  1.10s/it]\u001b[A\n",
      "Batches:  57%|█████▋    | 844/1488 [16:40<11:51,  1.10s/it]\u001b[A\n",
      "                                                             A\n",
      "Epochs:  99%|█████████▉| 99/100 [92:51:16<31:13, 1873.66s/it]\n",
      "Batches:  57%|█████▋    | 845/1488 [16:42<11:52,  1.11s/it]\u001b[A\n",
      "Batches:  57%|█████▋    | 846/1488 [16:42<12:06,  1.13s/it]\u001b[A"
     ]
    },
    {
     "name": "stdout",
     "output_type": "stream",
     "text": [
      "[99/100][845/1488]                          LossD: 0.0074 (real: 0.0114, fake: 0.0035)                          LossG: 17.2380 (pred: 6.8165, L1: 10.4216)                          D(x): 0.9889                          D(G(z)): 0.0034 -> 0.0032\n"
     ]
    },
    {
     "name": "stderr",
     "output_type": "stream",
     "text": [
      "\n",
      "Batches:  57%|█████▋    | 847/1488 [16:43<12:00,  1.12s/it]\u001b[A\n",
      "Batches:  57%|█████▋    | 848/1488 [16:44<11:59,  1.12s/it]\u001b[A\n",
      "Batches:  57%|█████▋    | 849/1488 [16:45<11:49,  1.11s/it]\u001b[A\n",
      "                                                             A\n",
      "Epochs:  99%|█████████▉| 99/100 [92:51:21<31:13, 1873.66s/it]\n",
      "Batches:  57%|█████▋    | 850/1488 [16:48<11:53,  1.12s/it]\u001b[A\n",
      "Batches:  57%|█████▋    | 851/1488 [16:48<11:54,  1.12s/it]\u001b[A"
     ]
    },
    {
     "name": "stdout",
     "output_type": "stream",
     "text": [
      "[99/100][850/1488]                          LossD: 0.0069 (real: 0.0108, fake: 0.0031)                          LossG: 12.8260 (pred: 6.6610, L1: 6.1650)                          D(x): 0.9901                          D(G(z)): 0.0030 -> 0.0028\n"
     ]
    },
    {
     "name": "stderr",
     "output_type": "stream",
     "text": [
      "\n",
      "Batches:  57%|█████▋    | 852/1488 [16:49<11:51,  1.12s/it]\u001b[A\n",
      "Batches:  57%|█████▋    | 853/1488 [16:50<11:29,  1.09s/it]\u001b[A\n",
      "Batches:  57%|█████▋    | 854/1488 [16:51<11:39,  1.10s/it]\u001b[A\n",
      "                                                             A\n",
      "Epochs:  99%|█████████▉| 99/100 [92:51:26<31:13, 1873.66s/it]\n",
      "Batches:  57%|█████▋    | 855/1488 [16:53<11:18,  1.07s/it]\u001b[A\n",
      "Batches:  58%|█████▊    | 856/1488 [16:53<10:57,  1.04s/it]\u001b[A"
     ]
    },
    {
     "name": "stdout",
     "output_type": "stream",
     "text": [
      "[99/100][855/1488]                          LossD: 0.0187 (real: 0.0275, fake: 0.0100)                          LossG: 13.7210 (pred: 5.0499, L1: 8.6711)                          D(x): 0.9735                          D(G(z)): 0.0098 -> 0.0106\n"
     ]
    },
    {
     "name": "stderr",
     "output_type": "stream",
     "text": [
      "\n",
      "Batches:  58%|█████▊    | 857/1488 [16:54<10:50,  1.03s/it]\u001b[A\n",
      "Batches:  58%|█████▊    | 858/1488 [16:55<10:53,  1.04s/it]\u001b[A\n",
      "Batches:  58%|█████▊    | 859/1488 [16:56<10:30,  1.00s/it]\u001b[A\n",
      "                                                             A\n",
      "Epochs:  99%|█████████▉| 99/100 [92:51:31<31:13, 1873.66s/it]\n",
      "Batches:  58%|█████▊    | 860/1488 [16:58<10:13,  1.02it/s]\u001b[A\n",
      "Batches:  58%|█████▊    | 861/1488 [16:58<10:00,  1.04it/s]\u001b[A"
     ]
    },
    {
     "name": "stdout",
     "output_type": "stream",
     "text": [
      "[99/100][860/1488]                          LossD: 0.1854 (real: 0.0237, fake: 0.3470)                          LossG: 11.7975 (pred: 3.7152, L1: 8.0823)                          D(x): 0.9778                          D(G(z)): 0.2604 -> 0.0476\n"
     ]
    },
    {
     "name": "stderr",
     "output_type": "stream",
     "text": [
      "\n",
      "Batches:  58%|█████▊    | 862/1488 [16:59<10:05,  1.03it/s]\u001b[A\n",
      "Batches:  58%|█████▊    | 863/1488 [17:00<10:14,  1.02it/s]\u001b[A\n",
      "Batches:  58%|█████▊    | 864/1488 [17:01<10:21,  1.00it/s]\u001b[A\n",
      "                                                             A\n",
      "Epochs:  99%|█████████▉| 99/100 [92:51:36<31:13, 1873.66s/it]\n",
      "Batches:  58%|█████▊    | 865/1488 [17:03<10:32,  1.02s/it]\u001b[A\n",
      "Batches:  58%|█████▊    | 866/1488 [17:03<10:42,  1.03s/it]\u001b[A"
     ]
    },
    {
     "name": "stdout",
     "output_type": "stream",
     "text": [
      "[99/100][865/1488]                          LossD: 0.1636 (real: 0.3156, fake: 0.0116)                          LossG: 13.7126 (pred: 4.4606, L1: 9.2520)                          D(x): 0.7651                          D(G(z)): 0.0114 -> 0.0181\n"
     ]
    },
    {
     "name": "stderr",
     "output_type": "stream",
     "text": [
      "\n",
      "Batches:  58%|█████▊    | 867/1488 [17:04<10:41,  1.03s/it]\u001b[A\n",
      "Batches:  58%|█████▊    | 868/1488 [17:05<10:40,  1.03s/it]\u001b[A\n",
      "Batches:  58%|█████▊    | 869/1488 [17:06<10:51,  1.05s/it]\u001b[A\n",
      "                                                             A\n",
      "Epochs:  99%|█████████▉| 99/100 [92:51:42<31:13, 1873.66s/it]\n",
      "Batches:  58%|█████▊    | 870/1488 [17:08<10:44,  1.04s/it]\u001b[A\n",
      "Batches:  59%|█████▊    | 871/1488 [17:08<10:57,  1.07s/it]\u001b[A"
     ]
    },
    {
     "name": "stdout",
     "output_type": "stream",
     "text": [
      "[99/100][870/1488]                          LossD: 0.0416 (real: 0.0624, fake: 0.0208)                          LossG: 11.6043 (pred: 4.2924, L1: 7.3119)                          D(x): 0.9452                          D(G(z)): 0.0202 -> 0.0228\n"
     ]
    },
    {
     "name": "stderr",
     "output_type": "stream",
     "text": [
      "\n",
      "Batches:  59%|█████▊    | 872/1488 [17:09<10:58,  1.07s/it]\u001b[A\n",
      "Batches:  59%|█████▊    | 873/1488 [17:10<11:15,  1.10s/it]\u001b[A\n",
      "Batches:  59%|█████▊    | 874/1488 [17:12<11:06,  1.09s/it]\u001b[A\n",
      "                                                             A\n",
      "Epochs:  99%|█████████▉| 99/100 [92:51:47<31:13, 1873.66s/it]\n",
      "Batches:  59%|█████▉    | 875/1488 [17:14<11:04,  1.08s/it]\u001b[A\n",
      "Batches:  59%|█████▉    | 876/1488 [17:14<10:59,  1.08s/it]\u001b[A"
     ]
    },
    {
     "name": "stdout",
     "output_type": "stream",
     "text": [
      "[99/100][875/1488]                          LossD: 0.0275 (real: 0.0098, fake: 0.0451)                          LossG: 12.3693 (pred: 4.1554, L1: 8.2139)                          D(x): 0.9904                          D(G(z)): 0.0415 -> 0.0253\n"
     ]
    },
    {
     "name": "stderr",
     "output_type": "stream",
     "text": [
      "\n",
      "Batches:  59%|█████▉    | 877/1488 [17:15<11:05,  1.09s/it]\u001b[A\n",
      "Batches:  59%|█████▉    | 878/1488 [17:16<11:16,  1.11s/it]\u001b[A\n",
      "Batches:  59%|█████▉    | 879/1488 [17:17<10:54,  1.07s/it]\u001b[A\n",
      "                                                             A\n",
      "Epochs:  99%|█████████▉| 99/100 [92:51:52<31:13, 1873.66s/it]\n",
      "Batches:  59%|█████▉    | 880/1488 [17:19<10:45,  1.06s/it]\u001b[A\n",
      "Batches:  59%|█████▉    | 881/1488 [17:19<10:44,  1.06s/it]\u001b[A"
     ]
    },
    {
     "name": "stdout",
     "output_type": "stream",
     "text": [
      "[99/100][880/1488]                          LossD: 0.0127 (real: 0.0095, fake: 0.0159)                          LossG: 10.8701 (pred: 3.3410, L1: 7.5291)                          D(x): 0.9907                          D(G(z)): 0.0156 -> 0.0566\n"
     ]
    },
    {
     "name": "stderr",
     "output_type": "stream",
     "text": [
      "\n",
      "Batches:  59%|█████▉    | 882/1488 [17:20<10:40,  1.06s/it]\u001b[A\n",
      "Batches:  59%|█████▉    | 883/1488 [17:21<10:41,  1.06s/it]\u001b[A\n",
      "Batches:  59%|█████▉    | 884/1488 [17:22<10:50,  1.08s/it]\u001b[A\n",
      "                                                             A\n",
      "Epochs:  99%|█████████▉| 99/100 [92:51:58<31:13, 1873.66s/it]\n",
      "Batches:  59%|█████▉    | 885/1488 [17:24<10:50,  1.08s/it]\u001b[A\n",
      "Batches:  60%|█████▉    | 886/1488 [17:24<10:54,  1.09s/it]\u001b[A"
     ]
    },
    {
     "name": "stdout",
     "output_type": "stream",
     "text": [
      "[99/100][885/1488]                          LossD: 0.0207 (real: 0.0003, fake: 0.0410)                          LossG: 17.9816 (pred: 4.1338, L1: 13.8477)                          D(x): 0.9997                          D(G(z)): 0.0390 -> 0.0301\n"
     ]
    },
    {
     "name": "stderr",
     "output_type": "stream",
     "text": [
      "\n",
      "Batches:  60%|█████▉    | 887/1488 [17:25<10:28,  1.05s/it]\u001b[A\n",
      "Batches:  60%|█████▉    | 888/1488 [17:27<12:42,  1.27s/it]\u001b[A\n",
      "Batches:  60%|█████▉    | 889/1488 [17:30<18:04,  1.81s/it]\u001b[A\n",
      "                                                             A\n",
      "Epochs:  99%|█████████▉| 99/100 [92:52:06<31:13, 1873.66s/it]\n",
      "Batches:  60%|█████▉    | 890/1488 [17:33<16:36,  1.67s/it]\u001b[A\n",
      "Batches:  60%|█████▉    | 891/1488 [17:33<15:04,  1.51s/it]\u001b[A"
     ]
    },
    {
     "name": "stdout",
     "output_type": "stream",
     "text": [
      "[99/100][890/1488]                          LossD: 0.0856 (real: 0.0000, fake: 0.1712)                          LossG: 12.4598 (pred: 2.9622, L1: 9.4976)                          D(x): 1.0000                          D(G(z)): 0.1474 -> 0.0720\n"
     ]
    },
    {
     "name": "stderr",
     "output_type": "stream",
     "text": [
      "\n",
      "Batches:  60%|█████▉    | 892/1488 [17:34<13:48,  1.39s/it]\u001b[A\n",
      "Batches:  60%|██████    | 893/1488 [17:35<13:01,  1.31s/it]\u001b[A\n",
      "Batches:  60%|██████    | 894/1488 [17:36<12:20,  1.25s/it]\u001b[A\n",
      "                                                             A\n",
      "Epochs:  99%|█████████▉| 99/100 [92:52:12<31:13, 1873.66s/it]\n",
      "Batches:  60%|██████    | 895/1488 [17:38<11:59,  1.21s/it]\u001b[A\n",
      "Batches:  60%|██████    | 896/1488 [17:38<11:45,  1.19s/it]\u001b[A"
     ]
    },
    {
     "name": "stdout",
     "output_type": "stream",
     "text": [
      "[99/100][895/1488]                          LossD: 0.0574 (real: 0.0758, fake: 0.0389)                          LossG: 15.5712 (pred: 4.1659, L1: 11.4052)                          D(x): 0.9401                          D(G(z)): 0.0367 -> 0.0350\n"
     ]
    },
    {
     "name": "stderr",
     "output_type": "stream",
     "text": [
      "\n",
      "Batches:  60%|██████    | 897/1488 [17:39<11:21,  1.15s/it]\u001b[A\n",
      "Batches:  60%|██████    | 898/1488 [17:41<11:04,  1.13s/it]\u001b[A\n",
      "Batches:  60%|██████    | 899/1488 [17:42<10:52,  1.11s/it]\u001b[A\n",
      "                                                             A\n",
      "Epochs:  99%|█████████▉| 99/100 [92:52:17<31:13, 1873.66s/it]\n",
      "Batches:  60%|██████    | 900/1488 [17:44<11:00,  1.12s/it]\u001b[A\n",
      "Batches:  61%|██████    | 901/1488 [17:44<11:10,  1.14s/it]\u001b[A"
     ]
    },
    {
     "name": "stdout",
     "output_type": "stream",
     "text": [
      "[99/100][900/1488]                          LossD: 0.0109 (real: 0.0048, fake: 0.0169)                          LossG: 13.6429 (pred: 4.7321, L1: 8.9109)                          D(x): 0.9954                          D(G(z)): 0.0166 -> 0.0156\n"
     ]
    },
    {
     "name": "stderr",
     "output_type": "stream",
     "text": [
      "\n",
      "Batches:  61%|██████    | 902/1488 [17:45<10:59,  1.13s/it]\u001b[A\n",
      "Batches:  61%|██████    | 903/1488 [17:46<11:15,  1.15s/it]\u001b[A\n",
      "Batches:  61%|██████    | 904/1488 [17:48<11:35,  1.19s/it]\u001b[A\n",
      "                                                             A\n",
      "Epochs:  99%|█████████▉| 99/100 [92:52:23<31:13, 1873.66s/it]\n",
      "Batches:  61%|██████    | 905/1488 [17:50<11:33,  1.19s/it]\u001b[A\n",
      "Batches:  61%|██████    | 906/1488 [17:50<11:43,  1.21s/it]\u001b[A"
     ]
    },
    {
     "name": "stdout",
     "output_type": "stream",
     "text": [
      "[99/100][905/1488]                          LossD: 0.0030 (real: 0.0001, fake: 0.0060)                          LossG: 15.3376 (pred: 5.9765, L1: 9.3611)                          D(x): 0.9999                          D(G(z)): 0.0059 -> 0.0051\n"
     ]
    },
    {
     "name": "stderr",
     "output_type": "stream",
     "text": [
      "\n",
      "Batches:  61%|██████    | 907/1488 [17:51<11:33,  1.19s/it]\u001b[A\n",
      "Batches:  61%|██████    | 908/1488 [17:52<10:50,  1.12s/it]\u001b[A\n",
      "Batches:  61%|██████    | 909/1488 [17:53<10:29,  1.09s/it]\u001b[A\n",
      "                                                             A\n",
      "Epochs:  99%|█████████▉| 99/100 [92:52:29<31:13, 1873.66s/it]\n",
      "Batches:  61%|██████    | 910/1488 [17:55<10:34,  1.10s/it]\u001b[A\n",
      "Batches:  61%|██████    | 911/1488 [17:55<10:46,  1.12s/it]\u001b[A"
     ]
    },
    {
     "name": "stdout",
     "output_type": "stream",
     "text": [
      "[99/100][910/1488]                          LossD: 0.0793 (real: 0.0121, fake: 0.1464)                          LossG: 9.0080 (pred: 2.3535, L1: 6.6545)                          D(x): 0.9882                          D(G(z)): 0.1285 -> 0.1324\n"
     ]
    },
    {
     "name": "stderr",
     "output_type": "stream",
     "text": [
      "\n",
      "Batches:  61%|██████▏   | 912/1488 [17:56<10:47,  1.12s/it]\u001b[A\n",
      "Batches:  61%|██████▏   | 913/1488 [17:57<10:17,  1.07s/it]\u001b[A\n",
      "Batches:  61%|██████▏   | 914/1488 [17:59<10:23,  1.09s/it]\u001b[A\n",
      "                                                             A\n",
      "Epochs:  99%|█████████▉| 99/100 [92:52:34<31:13, 1873.66s/it]\n",
      "Batches:  61%|██████▏   | 915/1488 [18:01<10:19,  1.08s/it]\u001b[A\n",
      "Batches:  62%|██████▏   | 916/1488 [18:01<10:12,  1.07s/it]\u001b[A"
     ]
    },
    {
     "name": "stdout",
     "output_type": "stream",
     "text": [
      "[99/100][915/1488]                          LossD: 0.0517 (real: 0.0602, fake: 0.0431)                          LossG: 12.6441 (pred: 4.1530, L1: 8.4911)                          D(x): 0.9470                          D(G(z)): 0.0398 -> 0.0267\n"
     ]
    },
    {
     "name": "stderr",
     "output_type": "stream",
     "text": [
      "\n",
      "Batches:  62%|██████▏   | 917/1488 [18:02<10:00,  1.05s/it]\u001b[A\n",
      "Batches:  62%|██████▏   | 918/1488 [18:03<09:56,  1.05s/it]\u001b[A\n",
      "Batches:  62%|██████▏   | 919/1488 [18:04<09:54,  1.04s/it]\u001b[A\n",
      "                                                             A\n",
      "Epochs:  99%|█████████▉| 99/100 [92:52:39<31:13, 1873.66s/it]\n",
      "Batches:  62%|██████▏   | 920/1488 [18:06<09:53,  1.05s/it]\u001b[A\n",
      "Batches:  62%|██████▏   | 921/1488 [18:06<09:49,  1.04s/it]\u001b[A"
     ]
    },
    {
     "name": "stdout",
     "output_type": "stream",
     "text": [
      "[99/100][920/1488]                          LossD: 0.3561 (real: 0.0195, fake: 0.6928)                          LossG: 9.2129 (pred: 3.0792, L1: 6.1336)                          D(x): 0.9812                          D(G(z)): 0.4379 -> 0.0805\n"
     ]
    },
    {
     "name": "stderr",
     "output_type": "stream",
     "text": [
      "\n",
      "Batches:  62%|██████▏   | 922/1488 [18:07<09:44,  1.03s/it]\u001b[A\n",
      "Batches:  62%|██████▏   | 923/1488 [18:08<09:45,  1.04s/it]\u001b[A\n",
      "Batches:  62%|██████▏   | 924/1488 [18:09<09:40,  1.03s/it]\u001b[A\n",
      "                                                             A\n",
      "Epochs:  99%|█████████▉| 99/100 [92:52:44<31:13, 1873.66s/it]\n",
      "Batches:  62%|██████▏   | 925/1488 [18:11<09:45,  1.04s/it]\u001b[A\n",
      "Batches:  62%|██████▏   | 926/1488 [18:11<09:54,  1.06s/it]\u001b[A"
     ]
    },
    {
     "name": "stdout",
     "output_type": "stream",
     "text": [
      "[99/100][925/1488]                          LossD: 0.2267 (real: 0.2858, fake: 0.1677)                          LossG: 11.0467 (pred: 2.2287, L1: 8.8180)                          D(x): 0.7772                          D(G(z)): 0.1366 -> 0.1650\n"
     ]
    },
    {
     "name": "stderr",
     "output_type": "stream",
     "text": [
      "\n",
      "Batches:  62%|██████▏   | 927/1488 [18:12<09:49,  1.05s/it]\u001b[A\n",
      "Batches:  62%|██████▏   | 928/1488 [18:14<11:23,  1.22s/it]\u001b[A\n",
      "Batches:  62%|██████▏   | 929/1488 [18:15<11:35,  1.24s/it]\u001b[A\n",
      "                                                             A\n",
      "Epochs:  99%|█████████▉| 99/100 [92:52:50<31:13, 1873.66s/it]\n",
      "Batches:  62%|██████▎   | 930/1488 [18:17<10:50,  1.17s/it]\u001b[A\n",
      "Batches:  63%|██████▎   | 931/1488 [18:17<10:32,  1.14s/it]\u001b[A"
     ]
    },
    {
     "name": "stdout",
     "output_type": "stream",
     "text": [
      "[99/100][930/1488]                          LossD: 0.0764 (real: 0.0202, fake: 0.1326)                          LossG: 9.7655 (pred: 3.0492, L1: 6.7163)                          D(x): 0.9810                          D(G(z)): 0.1138 -> 0.0705\n"
     ]
    },
    {
     "name": "stderr",
     "output_type": "stream",
     "text": [
      "\n",
      "Batches:  63%|██████▎   | 932/1488 [18:18<09:57,  1.07s/it]\u001b[A\n",
      "Batches:  63%|██████▎   | 933/1488 [18:20<12:23,  1.34s/it]\u001b[A\n",
      "Batches:  63%|██████▎   | 934/1488 [18:21<11:31,  1.25s/it]\u001b[A\n",
      "                                                             A\n",
      "Epochs:  99%|█████████▉| 99/100 [92:52:56<31:13, 1873.66s/it]\n",
      "Batches:  63%|██████▎   | 935/1488 [18:23<10:37,  1.15s/it]\u001b[A\n",
      "Batches:  63%|██████▎   | 936/1488 [18:23<10:33,  1.15s/it]\u001b[A"
     ]
    },
    {
     "name": "stdout",
     "output_type": "stream",
     "text": [
      "[99/100][935/1488]                          LossD: 0.0452 (real: 0.0733, fake: 0.0172)                          LossG: 15.2629 (pred: 4.6436, L1: 10.6193)                          D(x): 0.9339                          D(G(z)): 0.0164 -> 0.0161\n"
     ]
    },
    {
     "name": "stderr",
     "output_type": "stream",
     "text": [
      "\n",
      "Batches:  63%|██████▎   | 937/1488 [18:24<10:34,  1.15s/it]\u001b[A\n",
      "Batches:  63%|██████▎   | 938/1488 [18:25<10:45,  1.17s/it]\u001b[A\n",
      "Batches:  63%|██████▎   | 939/1488 [18:27<10:53,  1.19s/it]\u001b[A\n",
      "                                                             A\n",
      "Epochs:  99%|█████████▉| 99/100 [92:53:02<31:13, 1873.66s/it]\n",
      "Batches:  63%|██████▎   | 940/1488 [18:29<10:56,  1.20s/it]\u001b[A\n",
      "Batches:  63%|██████▎   | 941/1488 [18:29<10:55,  1.20s/it]\u001b[A"
     ]
    },
    {
     "name": "stdout",
     "output_type": "stream",
     "text": [
      "[99/100][940/1488]                          LossD: 0.1955 (real: 0.0000, fake: 0.3909)                          LossG: 11.0870 (pred: 2.0675, L1: 9.0195)                          D(x): 1.0000                          D(G(z)): 0.2978 -> 0.1621\n"
     ]
    },
    {
     "name": "stderr",
     "output_type": "stream",
     "text": [
      "\n",
      "Batches:  63%|██████▎   | 942/1488 [18:30<10:49,  1.19s/it]\u001b[A\n",
      "Batches:  63%|██████▎   | 943/1488 [18:31<10:56,  1.20s/it]\u001b[A\n",
      "Batches:  63%|██████▎   | 944/1488 [18:33<10:58,  1.21s/it]\u001b[A\n",
      "                                                             A\n",
      "Epochs:  99%|█████████▉| 99/100 [92:53:08<31:13, 1873.66s/it]\n",
      "Batches:  64%|██████▎   | 945/1488 [18:35<10:24,  1.15s/it]\u001b[A\n",
      "Batches:  64%|██████▎   | 946/1488 [18:35<09:54,  1.10s/it]\u001b[A"
     ]
    },
    {
     "name": "stdout",
     "output_type": "stream",
     "text": [
      "[99/100][945/1488]                          LossD: 0.3334 (real: 0.3455, fake: 0.3214)                          LossG: 14.5594 (pred: 2.8093, L1: 11.7501)                          D(x): 0.7293                          D(G(z)): 0.2449 -> 0.0834\n"
     ]
    },
    {
     "name": "stderr",
     "output_type": "stream",
     "text": [
      "\n",
      "Batches:  64%|██████▎   | 947/1488 [18:36<10:01,  1.11s/it]\u001b[A\n",
      "Batches:  64%|██████▎   | 948/1488 [18:37<09:45,  1.08s/it]\u001b[A\n",
      "Batches:  64%|██████▍   | 949/1488 [18:38<09:21,  1.04s/it]\u001b[A\n",
      "                                                             A\n",
      "Epochs:  99%|█████████▉| 99/100 [92:53:13<31:13, 1873.66s/it]\n",
      "Batches:  64%|██████▍   | 950/1488 [18:40<09:08,  1.02s/it]\u001b[A\n",
      "Batches:  64%|██████▍   | 951/1488 [18:40<09:06,  1.02s/it]\u001b[A"
     ]
    },
    {
     "name": "stdout",
     "output_type": "stream",
     "text": [
      "[99/100][950/1488]                          LossD: 0.0173 (real: 0.0058, fake: 0.0288)                          LossG: 11.1821 (pred: 4.0444, L1: 7.1377)                          D(x): 0.9943                          D(G(z)): 0.0279 -> 0.0261\n"
     ]
    },
    {
     "name": "stderr",
     "output_type": "stream",
     "text": [
      "\n",
      "Batches:  64%|██████▍   | 952/1488 [18:41<09:10,  1.03s/it]\u001b[A\n",
      "Batches:  64%|██████▍   | 953/1488 [18:42<09:01,  1.01s/it]\u001b[A\n",
      "Batches:  64%|██████▍   | 954/1488 [18:43<08:54,  1.00s/it]\u001b[A\n",
      "                                                             A\n",
      "Epochs:  99%|█████████▉| 99/100 [92:53:19<31:13, 1873.66s/it]\n",
      "Batches:  64%|██████▍   | 955/1488 [18:45<08:48,  1.01it/s]\u001b[A\n",
      "Batches:  64%|██████▍   | 956/1488 [18:45<10:14,  1.15s/it]\u001b[A"
     ]
    },
    {
     "name": "stdout",
     "output_type": "stream",
     "text": [
      "[99/100][955/1488]                          LossD: 0.1381 (real: 0.2451, fake: 0.0312)                          LossG: 11.9238 (pred: 3.4337, L1: 8.4901)                          D(x): 0.8008                          D(G(z)): 0.0298 -> 0.0483\n"
     ]
    },
    {
     "name": "stderr",
     "output_type": "stream",
     "text": [
      "\n",
      "Batches:  64%|██████▍   | 957/1488 [18:46<10:04,  1.14s/it]\u001b[A\n",
      "Batches:  64%|██████▍   | 958/1488 [18:47<09:56,  1.13s/it]\u001b[A\n",
      "Batches:  64%|██████▍   | 959/1488 [18:49<09:50,  1.12s/it]\u001b[A\n",
      "                                                             A\n",
      "Epochs:  99%|█████████▉| 99/100 [92:53:24<31:13, 1873.66s/it]\n",
      "Batches:  65%|██████▍   | 960/1488 [18:51<09:50,  1.12s/it]\u001b[A\n",
      "Batches:  65%|██████▍   | 961/1488 [18:51<10:23,  1.18s/it]\u001b[A"
     ]
    },
    {
     "name": "stdout",
     "output_type": "stream",
     "text": [
      "[99/100][960/1488]                          LossD: 0.0252 (real: 0.0140, fake: 0.0364)                          LossG: 18.6975 (pred: 3.9191, L1: 14.7784)                          D(x): 0.9864                          D(G(z)): 0.0345 -> 0.0296\n"
     ]
    },
    {
     "name": "stderr",
     "output_type": "stream",
     "text": [
      "\n",
      "Batches:  65%|██████▍   | 962/1488 [18:52<10:16,  1.17s/it]\u001b[A\n",
      "Batches:  65%|██████▍   | 963/1488 [18:53<10:15,  1.17s/it]\u001b[A\n",
      "Batches:  65%|██████▍   | 964/1488 [18:54<10:06,  1.16s/it]\u001b[A\n",
      "                                                             A\n",
      "Epochs:  99%|█████████▉| 99/100 [92:53:30<31:13, 1873.66s/it]\n",
      "Batches:  65%|██████▍   | 965/1488 [18:57<09:57,  1.14s/it]\u001b[A\n",
      "Batches:  65%|██████▍   | 966/1488 [18:57<10:12,  1.17s/it]\u001b[A"
     ]
    },
    {
     "name": "stdout",
     "output_type": "stream",
     "text": [
      "[99/100][965/1488]                          LossD: 0.0267 (real: 0.0211, fake: 0.0322)                          LossG: 11.1070 (pred: 3.7587, L1: 7.3483)                          D(x): 0.9832                          D(G(z)): 0.0311 -> 0.0614\n"
     ]
    },
    {
     "name": "stderr",
     "output_type": "stream",
     "text": [
      "\n",
      "Batches:  65%|██████▍   | 967/1488 [18:58<10:17,  1.19s/it]\u001b[A\n",
      "Batches:  65%|██████▌   | 968/1488 [18:59<10:04,  1.16s/it]\u001b[A\n",
      "Batches:  65%|██████▌   | 969/1488 [19:00<10:01,  1.16s/it]\u001b[A\n",
      "                                                             A\n",
      "Epochs:  99%|█████████▉| 99/100 [92:53:36<31:13, 1873.66s/it]\n",
      "Batches:  65%|██████▌   | 970/1488 [19:02<09:50,  1.14s/it]\u001b[A\n",
      "Batches:  65%|██████▌   | 971/1488 [19:03<09:42,  1.13s/it]\u001b[A"
     ]
    },
    {
     "name": "stdout",
     "output_type": "stream",
     "text": [
      "[99/100][970/1488]                          LossD: 0.0111 (real: 0.0138, fake: 0.0085)                          LossG: 13.1579 (pred: 5.8710, L1: 7.2868)                          D(x): 0.9874                          D(G(z)): 0.0084 -> 0.0065\n"
     ]
    },
    {
     "name": "stderr",
     "output_type": "stream",
     "text": [
      "\n",
      "Batches:  65%|██████▌   | 972/1488 [19:04<09:36,  1.12s/it]\u001b[A\n",
      "Batches:  65%|██████▌   | 973/1488 [19:05<09:31,  1.11s/it]\u001b[A\n",
      "Batches:  65%|██████▌   | 974/1488 [19:06<09:29,  1.11s/it]\u001b[A\n",
      "                                                             A\n",
      "Epochs:  99%|█████████▉| 99/100 [92:53:41<31:13, 1873.66s/it]\n",
      "Batches:  66%|██████▌   | 975/1488 [19:08<09:27,  1.11s/it]\u001b[A\n",
      "Batches:  66%|██████▌   | 976/1488 [19:08<09:29,  1.11s/it]\u001b[A"
     ]
    },
    {
     "name": "stdout",
     "output_type": "stream",
     "text": [
      "[99/100][975/1488]                          LossD: 0.0548 (real: 0.0034, fake: 0.1062)                          LossG: 9.1666 (pred: 3.2082, L1: 5.9584)                          D(x): 0.9967                          D(G(z)): 0.0954 -> 0.0546\n"
     ]
    },
    {
     "name": "stderr",
     "output_type": "stream",
     "text": [
      "\n",
      "Batches:  66%|██████▌   | 977/1488 [19:09<09:32,  1.12s/it]\u001b[A\n",
      "Batches:  66%|██████▌   | 978/1488 [19:10<09:28,  1.12s/it]\u001b[A\n",
      "Batches:  66%|██████▌   | 979/1488 [19:11<09:25,  1.11s/it]\u001b[A\n",
      "                                                             A\n",
      "Epochs:  99%|█████████▉| 99/100 [92:53:47<31:13, 1873.66s/it]\n",
      "Batches:  66%|██████▌   | 980/1488 [19:14<09:19,  1.10s/it]\u001b[A\n",
      "Batches:  66%|██████▌   | 981/1488 [19:14<09:22,  1.11s/it]\u001b[A"
     ]
    },
    {
     "name": "stdout",
     "output_type": "stream",
     "text": [
      "[99/100][980/1488]                          LossD: 0.0144 (real: 0.0037, fake: 0.0252)                          LossG: 14.3615 (pred: 4.3802, L1: 9.9813)                          D(x): 0.9963                          D(G(z)): 0.0239 -> 0.0185\n"
     ]
    },
    {
     "name": "stderr",
     "output_type": "stream",
     "text": [
      "\n",
      "Batches:  66%|██████▌   | 982/1488 [19:15<09:43,  1.15s/it]\u001b[A\n",
      "Batches:  66%|██████▌   | 983/1488 [19:16<09:32,  1.13s/it]\u001b[A\n",
      "Batches:  66%|██████▌   | 984/1488 [19:17<09:20,  1.11s/it]\u001b[A\n",
      "                                                             A\n",
      "Epochs:  99%|█████████▉| 99/100 [92:53:53<31:13, 1873.66s/it]\n",
      "Batches:  66%|██████▌   | 985/1488 [19:19<09:39,  1.15s/it]\u001b[A\n",
      "Batches:  66%|██████▋   | 986/1488 [19:19<09:38,  1.15s/it]\u001b[A"
     ]
    },
    {
     "name": "stdout",
     "output_type": "stream",
     "text": [
      "[99/100][985/1488]                          LossD: 0.0558 (real: 0.0049, fake: 0.1067)                          LossG: 13.5552 (pred: 3.4274, L1: 10.1279)                          D(x): 0.9952                          D(G(z)): 0.0968 -> 0.0431\n"
     ]
    },
    {
     "name": "stderr",
     "output_type": "stream",
     "text": [
      "\n",
      "Batches:  66%|██████▋   | 987/1488 [19:20<09:28,  1.13s/it]\u001b[A\n",
      "Batches:  66%|██████▋   | 988/1488 [19:22<09:26,  1.13s/it]\u001b[A\n",
      "Batches:  66%|██████▋   | 989/1488 [19:25<14:18,  1.72s/it]\u001b[A\n",
      "                                                             A\n",
      "Epochs:  99%|█████████▉| 99/100 [92:54:00<31:13, 1873.66s/it]\n",
      "Batches:  67%|██████▋   | 990/1488 [19:27<12:06,  1.46s/it]\u001b[A\n",
      "Batches:  67%|██████▋   | 991/1488 [19:27<11:29,  1.39s/it]\u001b[A"
     ]
    },
    {
     "name": "stdout",
     "output_type": "stream",
     "text": [
      "[99/100][990/1488]                          LossD: 0.0062 (real: 0.0050, fake: 0.0073)                          LossG: 11.0306 (pred: 5.5827, L1: 5.4478)                          D(x): 0.9950                          D(G(z)): 0.0071 -> 0.0060\n"
     ]
    },
    {
     "name": "stderr",
     "output_type": "stream",
     "text": [
      "\n",
      "Batches:  67%|██████▋   | 992/1488 [19:28<11:06,  1.34s/it]\u001b[A\n",
      "Batches:  67%|██████▋   | 993/1488 [19:29<10:45,  1.30s/it]\u001b[A\n",
      "Batches:  67%|██████▋   | 994/1488 [19:30<09:53,  1.20s/it]\u001b[A\n",
      "                                                             A\n",
      "Epochs:  99%|█████████▉| 99/100 [92:54:06<31:13, 1873.66s/it]\n",
      "Batches:  67%|██████▋   | 995/1488 [19:32<09:20,  1.14s/it]\u001b[A\n",
      "Batches:  67%|██████▋   | 996/1488 [19:32<09:01,  1.10s/it]\u001b[A"
     ]
    },
    {
     "name": "stdout",
     "output_type": "stream",
     "text": [
      "[99/100][995/1488]                          LossD: 0.6956 (real: 0.0000, fake: 1.3912)                          LossG: 10.3934 (pred: 2.7206, L1: 7.6729)                          D(x): 1.0000                          D(G(z)): 0.6947 -> 0.0994\n"
     ]
    },
    {
     "name": "stderr",
     "output_type": "stream",
     "text": [
      "\n",
      "Batches:  67%|██████▋   | 997/1488 [19:33<08:47,  1.07s/it]\u001b[A\n",
      "Batches:  67%|██████▋   | 998/1488 [19:34<08:33,  1.05s/it]\u001b[A\n",
      "Batches:  67%|██████▋   | 999/1488 [19:35<08:20,  1.02s/it]\u001b[A\n",
      "                                                             [A\n",
      "Epochs:  99%|█████████▉| 99/100 [92:54:10<31:13, 1873.66s/it]\n",
      "Batches:  67%|██████▋   | 1000/1488 [19:37<08:13,  1.01s/it]\u001b[A\n",
      "Batches:  67%|██████▋   | 1001/1488 [19:37<08:09,  1.01s/it]\u001b[A"
     ]
    },
    {
     "name": "stdout",
     "output_type": "stream",
     "text": [
      "[99/100][1000/1488]                          LossD: 0.0363 (real: 0.0049, fake: 0.0677)                          LossG: 13.8615 (pred: 3.7089, L1: 10.1526)                          D(x): 0.9953                          D(G(z)): 0.0609 -> 0.0418\n"
     ]
    },
    {
     "name": "stderr",
     "output_type": "stream",
     "text": [
      "\n",
      "Batches:  67%|██████▋   | 1002/1488 [19:38<08:03,  1.00it/s]\u001b[A\n",
      "Batches:  67%|██████▋   | 1003/1488 [19:39<07:58,  1.01it/s]\u001b[A\n",
      "Batches:  67%|██████▋   | 1004/1488 [19:40<08:00,  1.01it/s]\u001b[A\n",
      "                                                             [A\n",
      "Epochs:  99%|█████████▉| 99/100 [92:54:15<31:13, 1873.66s/it]\n",
      "Batches:  68%|██████▊   | 1005/1488 [19:42<08:01,  1.00it/s]\u001b[A\n",
      "Batches:  68%|██████▊   | 1006/1488 [19:42<08:09,  1.02s/it]\u001b[A"
     ]
    },
    {
     "name": "stdout",
     "output_type": "stream",
     "text": [
      "[99/100][1005/1488]                          LossD: 0.1313 (real: 0.0003, fake: 0.2623)                          LossG: 9.8254 (pred: 2.4596, L1: 7.3659)                          D(x): 0.9998                          D(G(z)): 0.1928 -> 0.1169\n"
     ]
    },
    {
     "name": "stderr",
     "output_type": "stream",
     "text": [
      "\n",
      "Batches:  68%|██████▊   | 1007/1488 [19:43<08:00,  1.00it/s]\u001b[A\n",
      "Batches:  68%|██████▊   | 1008/1488 [19:44<07:54,  1.01it/s]\u001b[A\n",
      "Batches:  68%|██████▊   | 1009/1488 [19:45<08:56,  1.12s/it]\u001b[A\n",
      "                                                             [A\n",
      "Epochs:  99%|█████████▉| 99/100 [92:54:22<31:13, 1873.66s/it]\n",
      "Batches:  68%|██████▊   | 1010/1488 [19:48<09:25,  1.18s/it]\u001b[A\n",
      "Batches:  68%|██████▊   | 1011/1488 [19:48<09:54,  1.25s/it]\u001b[A"
     ]
    },
    {
     "name": "stdout",
     "output_type": "stream",
     "text": [
      "[99/100][1010/1488]                          LossD: 0.0932 (real: 0.0029, fake: 0.1836)                          LossG: 8.7831 (pred: 3.1602, L1: 5.6228)                          D(x): 0.9972                          D(G(z)): 0.1608 -> 0.0546\n"
     ]
    },
    {
     "name": "stderr",
     "output_type": "stream",
     "text": [
      "\n",
      "Batches:  68%|██████▊   | 1012/1488 [19:50<10:03,  1.27s/it]\u001b[A\n",
      "Batches:  68%|██████▊   | 1013/1488 [19:51<09:33,  1.21s/it]\u001b[A\n",
      "Batches:  68%|██████▊   | 1014/1488 [19:52<09:19,  1.18s/it]\u001b[A\n",
      "                                                             [A\n",
      "Epochs:  99%|█████████▉| 99/100 [92:54:27<31:13, 1873.66s/it]\n",
      "Batches:  68%|██████▊   | 1015/1488 [19:54<09:05,  1.15s/it]\u001b[A\n",
      "Batches:  68%|██████▊   | 1016/1488 [19:54<08:52,  1.13s/it]\u001b[A"
     ]
    },
    {
     "name": "stdout",
     "output_type": "stream",
     "text": [
      "[99/100][1015/1488]                          LossD: 0.1145 (real: 0.0920, fake: 0.1370)                          LossG: 9.1672 (pred: 3.2710, L1: 5.8962)                          D(x): 0.9164                          D(G(z)): 0.1115 -> 0.0551\n"
     ]
    },
    {
     "name": "stderr",
     "output_type": "stream",
     "text": [
      "\n",
      "Batches:  68%|██████▊   | 1017/1488 [19:55<08:36,  1.10s/it]\u001b[A\n",
      "Batches:  68%|██████▊   | 1018/1488 [19:56<08:32,  1.09s/it]\u001b[A\n",
      "Batches:  68%|██████▊   | 1019/1488 [19:57<08:24,  1.08s/it]\u001b[A\n",
      "                                                             [A\n",
      "Epochs:  99%|█████████▉| 99/100 [92:54:32<31:13, 1873.66s/it]\n",
      "Batches:  69%|██████▊   | 1020/1488 [19:59<08:15,  1.06s/it]\u001b[A\n",
      "Batches:  69%|██████▊   | 1021/1488 [19:59<08:18,  1.07s/it]\u001b[A"
     ]
    },
    {
     "name": "stdout",
     "output_type": "stream",
     "text": [
      "[99/100][1020/1488]                          LossD: 0.0512 (real: 0.0000, fake: 0.1025)                          LossG: 11.5772 (pred: 3.4450, L1: 8.1322)                          D(x): 1.0000                          D(G(z)): 0.0900 -> 0.0471\n"
     ]
    },
    {
     "name": "stderr",
     "output_type": "stream",
     "text": [
      "\n",
      "Batches:  69%|██████▊   | 1022/1488 [20:00<08:16,  1.07s/it]\u001b[A\n",
      "Batches:  69%|██████▉   | 1023/1488 [20:01<08:09,  1.05s/it]\u001b[A\n",
      "Batches:  69%|██████▉   | 1024/1488 [20:02<08:05,  1.05s/it]\u001b[A\n",
      "                                                             [A\n",
      "Epochs:  99%|█████████▉| 99/100 [92:54:38<31:13, 1873.66s/it]\n",
      "Batches:  69%|██████▉   | 1025/1488 [20:04<08:04,  1.05s/it]\u001b[A\n",
      "Batches:  69%|██████▉   | 1026/1488 [20:04<08:24,  1.09s/it]\u001b[A"
     ]
    },
    {
     "name": "stdout",
     "output_type": "stream",
     "text": [
      "[99/100][1025/1488]                          LossD: 0.0354 (real: 0.0241, fake: 0.0467)                          LossG: 10.3302 (pred: 3.7850, L1: 6.5452)                          D(x): 0.9768                          D(G(z)): 0.0416 -> 0.0338\n"
     ]
    },
    {
     "name": "stderr",
     "output_type": "stream",
     "text": [
      "\n",
      "Batches:  69%|██████▉   | 1027/1488 [20:06<08:18,  1.08s/it]\u001b[A\n",
      "Batches:  69%|██████▉   | 1028/1488 [20:07<08:12,  1.07s/it]\u001b[A\n",
      "Batches:  69%|██████▉   | 1029/1488 [20:08<08:02,  1.05s/it]\u001b[A\n",
      "                                                             [A\n",
      "Epochs:  99%|█████████▉| 99/100 [92:54:43<31:13, 1873.66s/it]\n",
      "Batches:  69%|██████▉   | 1030/1488 [20:10<08:04,  1.06s/it]\u001b[A\n",
      "Batches:  69%|██████▉   | 1031/1488 [20:10<08:16,  1.09s/it]\u001b[A"
     ]
    },
    {
     "name": "stdout",
     "output_type": "stream",
     "text": [
      "[99/100][1030/1488]                          LossD: 0.0853 (real: 0.0173, fake: 0.1534)                          LossG: 11.8318 (pred: 2.9642, L1: 8.8676)                          D(x): 0.9831                          D(G(z)): 0.1301 -> 0.0732\n"
     ]
    },
    {
     "name": "stderr",
     "output_type": "stream",
     "text": [
      "\n",
      "Batches:  69%|██████▉   | 1032/1488 [20:11<08:19,  1.10s/it]\u001b[A\n",
      "Batches:  69%|██████▉   | 1033/1488 [20:12<08:19,  1.10s/it]\u001b[A\n",
      "Batches:  69%|██████▉   | 1034/1488 [20:13<08:18,  1.10s/it]\u001b[A\n",
      "                                                             [A\n",
      "Epochs:  99%|█████████▉| 99/100 [92:54:49<31:13, 1873.66s/it]\n",
      "Batches:  70%|██████▉   | 1035/1488 [20:15<08:22,  1.11s/it]\u001b[A\n",
      "Batches:  70%|██████▉   | 1036/1488 [20:15<08:15,  1.10s/it]\u001b[A"
     ]
    },
    {
     "name": "stdout",
     "output_type": "stream",
     "text": [
      "[99/100][1035/1488]                          LossD: 0.0873 (real: 0.0915, fake: 0.0830)                          LossG: 14.6614 (pred: 3.0690, L1: 11.5924)                          D(x): 0.9186                          D(G(z)): 0.0753 -> 0.0665\n"
     ]
    },
    {
     "name": "stderr",
     "output_type": "stream",
     "text": [
      "\n",
      "Batches:  70%|██████▉   | 1037/1488 [20:16<08:13,  1.09s/it]\u001b[A\n",
      "Batches:  70%|██████▉   | 1038/1488 [20:18<08:16,  1.10s/it]\u001b[A\n",
      "Batches:  70%|██████▉   | 1039/1488 [20:19<08:30,  1.14s/it]\u001b[A\n",
      "                                                             [A\n",
      "Epochs:  99%|█████████▉| 99/100 [92:54:54<31:13, 1873.66s/it]\n",
      "Batches:  70%|██████▉   | 1040/1488 [20:21<08:20,  1.12s/it]\u001b[A\n",
      "Batches:  70%|██████▉   | 1041/1488 [20:21<08:39,  1.16s/it]\u001b[A"
     ]
    },
    {
     "name": "stdout",
     "output_type": "stream",
     "text": [
      "[99/100][1040/1488]                          LossD: 0.1803 (real: 0.0288, fake: 0.3318)                          LossG: 8.3888 (pred: 3.3701, L1: 5.0187)                          D(x): 0.9726                          D(G(z)): 0.2352 -> 0.0484\n"
     ]
    },
    {
     "name": "stderr",
     "output_type": "stream",
     "text": [
      "\n",
      "Batches:  70%|███████   | 1042/1488 [20:22<08:41,  1.17s/it]\u001b[A\n",
      "Batches:  70%|███████   | 1043/1488 [20:23<08:30,  1.15s/it]\u001b[A\n",
      "Batches:  70%|███████   | 1044/1488 [20:25<08:38,  1.17s/it]\u001b[A\n",
      "                                                             [A\n",
      "Epochs:  99%|█████████▉| 99/100 [92:55:00<31:13, 1873.66s/it]\n",
      "Batches:  70%|███████   | 1045/1488 [20:27<08:50,  1.20s/it]\u001b[A\n",
      "Batches:  70%|███████   | 1046/1488 [20:27<08:42,  1.18s/it]\u001b[A"
     ]
    },
    {
     "name": "stdout",
     "output_type": "stream",
     "text": [
      "[99/100][1045/1488]                          LossD: 0.2558 (real: 0.0000, fake: 0.5117)                          LossG: 10.4480 (pred: 2.5104, L1: 7.9376)                          D(x): 1.0000                          D(G(z)): 0.3580 -> 0.1137\n"
     ]
    },
    {
     "name": "stderr",
     "output_type": "stream",
     "text": [
      "\n",
      "Batches:  70%|███████   | 1047/1488 [20:28<08:29,  1.16s/it]\u001b[A\n",
      "Batches:  70%|███████   | 1048/1488 [20:29<08:26,  1.15s/it]\u001b[A\n",
      "Batches:  70%|███████   | 1049/1488 [20:30<08:27,  1.16s/it]\u001b[A\n",
      "                                                             [A\n",
      "Epochs:  99%|█████████▉| 99/100 [92:55:06<31:13, 1873.66s/it]\n",
      "Batches:  71%|███████   | 1050/1488 [20:33<08:23,  1.15s/it]\u001b[A\n",
      "Batches:  71%|███████   | 1051/1488 [20:33<08:24,  1.15s/it]\u001b[A"
     ]
    },
    {
     "name": "stdout",
     "output_type": "stream",
     "text": [
      "[99/100][1050/1488]                          LossD: 0.5378 (real: 1.0714, fake: 0.0041)                          LossG: 9.3275 (pred: 3.4093, L1: 5.9182)                          D(x): 0.4187                          D(G(z)): 0.0040 -> 0.0483\n"
     ]
    },
    {
     "name": "stderr",
     "output_type": "stream",
     "text": [
      "\n",
      "Batches:  71%|███████   | 1052/1488 [20:34<08:15,  1.14s/it]\u001b[A\n",
      "Batches:  71%|███████   | 1053/1488 [20:35<08:10,  1.13s/it]\u001b[A\n",
      "Batches:  71%|███████   | 1054/1488 [20:36<08:20,  1.15s/it]\u001b[A\n",
      "                                                             [A\n",
      "Epochs:  99%|█████████▉| 99/100 [92:55:12<31:13, 1873.66s/it]\n",
      "Batches:  71%|███████   | 1055/1488 [20:38<08:25,  1.17s/it]\u001b[A\n",
      "Batches:  71%|███████   | 1056/1488 [20:38<08:20,  1.16s/it]\u001b[A"
     ]
    },
    {
     "name": "stdout",
     "output_type": "stream",
     "text": [
      "[99/100][1055/1488]                          LossD: 0.1080 (real: 0.0001, fake: 0.2159)                          LossG: 14.6599 (pred: 3.1611, L1: 11.4988)                          D(x): 0.9999                          D(G(z)): 0.1806 -> 0.0575\n"
     ]
    },
    {
     "name": "stderr",
     "output_type": "stream",
     "text": [
      "\n",
      "Batches:  71%|███████   | 1057/1488 [20:40<08:09,  1.14s/it]\u001b[A\n",
      "Batches:  71%|███████   | 1058/1488 [20:41<08:24,  1.17s/it]\u001b[A\n",
      "Batches:  71%|███████   | 1059/1488 [20:42<08:18,  1.16s/it]\u001b[A\n",
      "                                                             [A\n",
      "Epochs:  99%|█████████▉| 99/100 [92:55:17<31:13, 1873.66s/it]\n",
      "Batches:  71%|███████   | 1060/1488 [20:44<08:08,  1.14s/it]\u001b[A\n",
      "Batches:  71%|███████▏  | 1061/1488 [20:44<07:55,  1.11s/it]\u001b[A"
     ]
    },
    {
     "name": "stdout",
     "output_type": "stream",
     "text": [
      "[99/100][1060/1488]                          LossD: 0.1225 (real: 0.0353, fake: 0.2096)                          LossG: 9.6217 (pred: 2.4652, L1: 7.1566)                          D(x): 0.9684                          D(G(z)): 0.1751 -> 0.1091\n"
     ]
    },
    {
     "name": "stderr",
     "output_type": "stream",
     "text": [
      "\n",
      "Batches:  71%|███████▏  | 1062/1488 [20:45<07:44,  1.09s/it]\u001b[A\n",
      "Batches:  71%|███████▏  | 1063/1488 [20:46<07:35,  1.07s/it]\u001b[A\n",
      "Batches:  72%|███████▏  | 1064/1488 [20:47<07:28,  1.06s/it]\u001b[A\n",
      "                                                             [A\n",
      "Epochs:  99%|█████████▉| 99/100 [92:55:23<31:13, 1873.66s/it]\n",
      "Batches:  72%|███████▏  | 1065/1488 [20:49<07:27,  1.06s/it]\u001b[A\n",
      "Batches:  72%|███████▏  | 1066/1488 [20:49<07:29,  1.06s/it]\u001b[A"
     ]
    },
    {
     "name": "stdout",
     "output_type": "stream",
     "text": [
      "[99/100][1065/1488]                          LossD: 0.3691 (real: 0.6028, fake: 0.1354)                          LossG: 7.6622 (pred: 0.4599, L1: 7.2023)                          D(x): 0.5968                          D(G(z)): 0.1203 -> 0.6646\n"
     ]
    },
    {
     "name": "stderr",
     "output_type": "stream",
     "text": [
      "\n",
      "Batches:  72%|███████▏  | 1067/1488 [20:50<07:39,  1.09s/it]\u001b[A\n",
      "Batches:  72%|███████▏  | 1068/1488 [20:52<07:36,  1.09s/it]\u001b[A\n",
      "Batches:  72%|███████▏  | 1069/1488 [20:53<07:39,  1.10s/it]\u001b[A\n",
      "                                                             [A\n",
      "Epochs:  99%|█████████▉| 99/100 [92:55:28<31:13, 1873.66s/it]\n",
      "Batches:  72%|███████▏  | 1070/1488 [20:55<07:32,  1.08s/it]\u001b[A\n",
      "Batches:  72%|███████▏  | 1071/1488 [20:55<07:28,  1.07s/it]\u001b[A"
     ]
    },
    {
     "name": "stdout",
     "output_type": "stream",
     "text": [
      "[99/100][1070/1488]                          LossD: 0.0377 (real: 0.0317, fake: 0.0437)                          LossG: 12.5598 (pred: 4.0464, L1: 8.5134)                          D(x): 0.9696                          D(G(z)): 0.0414 -> 0.0273\n"
     ]
    },
    {
     "name": "stderr",
     "output_type": "stream",
     "text": [
      "\n",
      "Batches:  72%|███████▏  | 1072/1488 [20:56<07:29,  1.08s/it]\u001b[A\n",
      "Batches:  72%|███████▏  | 1073/1488 [20:57<07:23,  1.07s/it]\u001b[A\n",
      "Batches:  72%|███████▏  | 1074/1488 [20:58<07:31,  1.09s/it]\u001b[A\n",
      "                                                             [A\n",
      "Epochs:  99%|█████████▉| 99/100 [92:55:34<31:13, 1873.66s/it]\n",
      "Batches:  72%|███████▏  | 1075/1488 [21:00<07:43,  1.12s/it]\u001b[A\n",
      "Batches:  72%|███████▏  | 1076/1488 [21:00<07:50,  1.14s/it]\u001b[A"
     ]
    },
    {
     "name": "stdout",
     "output_type": "stream",
     "text": [
      "[99/100][1075/1488]                          LossD: 0.0096 (real: 0.0000, fake: 0.0191)                          LossG: 11.2517 (pred: 4.2686, L1: 6.9831)                          D(x): 1.0000                          D(G(z)): 0.0188 -> 0.0199\n"
     ]
    },
    {
     "name": "stderr",
     "output_type": "stream",
     "text": [
      "\n",
      "Batches:  72%|███████▏  | 1077/1488 [21:02<07:52,  1.15s/it]\u001b[A\n",
      "Batches:  72%|███████▏  | 1078/1488 [21:03<07:40,  1.12s/it]\u001b[A\n",
      "Batches:  73%|███████▎  | 1079/1488 [21:04<07:42,  1.13s/it]\u001b[A\n",
      "                                                             [A\n",
      "Epochs:  99%|█████████▉| 99/100 [92:55:39<31:13, 1873.66s/it]\n",
      "Batches:  73%|███████▎  | 1080/1488 [21:06<07:39,  1.13s/it]\u001b[A\n",
      "Batches:  73%|███████▎  | 1081/1488 [21:06<07:29,  1.10s/it]\u001b[A"
     ]
    },
    {
     "name": "stdout",
     "output_type": "stream",
     "text": [
      "[99/100][1080/1488]                          LossD: 0.5058 (real: 0.0003, fake: 1.0113)                          LossG: 10.4912 (pred: 3.4129, L1: 7.0783)                          D(x): 0.9997                          D(G(z)): 0.5808 -> 0.0498\n"
     ]
    },
    {
     "name": "stderr",
     "output_type": "stream",
     "text": [
      "\n",
      "Batches:  73%|███████▎  | 1082/1488 [21:07<07:23,  1.09s/it]\u001b[A\n",
      "Batches:  73%|███████▎  | 1083/1488 [21:08<07:21,  1.09s/it]\u001b[A\n",
      "Batches:  73%|███████▎  | 1084/1488 [21:09<07:18,  1.08s/it]\u001b[A\n",
      "                                                             [A\n",
      "Epochs:  99%|█████████▉| 99/100 [92:55:45<31:13, 1873.66s/it]\n",
      "Batches:  73%|███████▎  | 1085/1488 [21:11<07:15,  1.08s/it]\u001b[A\n",
      "Batches:  73%|███████▎  | 1086/1488 [21:11<07:13,  1.08s/it]\u001b[A"
     ]
    },
    {
     "name": "stdout",
     "output_type": "stream",
     "text": [
      "[99/100][1085/1488]                          LossD: 0.1483 (real: 0.2529, fake: 0.0436)                          LossG: 10.0581 (pred: 3.4386, L1: 6.6195)                          D(x): 0.8079                          D(G(z)): 0.0408 -> 0.0501\n"
     ]
    },
    {
     "name": "stderr",
     "output_type": "stream",
     "text": [
      "\n",
      "Batches:  73%|███████▎  | 1087/1488 [21:12<07:10,  1.07s/it]\u001b[A\n",
      "Batches:  73%|███████▎  | 1088/1488 [21:14<07:24,  1.11s/it]\u001b[A\n",
      "Batches:  73%|███████▎  | 1089/1488 [21:17<11:59,  1.80s/it]\u001b[A\n",
      "                                                             [A\n",
      "Epochs:  99%|█████████▉| 99/100 [92:55:53<31:13, 1873.66s/it]\n",
      "Batches:  73%|███████▎  | 1090/1488 [21:20<11:55,  1.80s/it]\u001b[A\n",
      "Batches:  73%|███████▎  | 1091/1488 [21:20<10:36,  1.60s/it]\u001b[A"
     ]
    },
    {
     "name": "stdout",
     "output_type": "stream",
     "text": [
      "[99/100][1090/1488]                          LossD: 0.0330 (real: 0.0214, fake: 0.0446)                          LossG: 10.5869 (pred: 4.1504, L1: 6.4364)                          D(x): 0.9799                          D(G(z)): 0.0421 -> 0.0301\n"
     ]
    },
    {
     "name": "stderr",
     "output_type": "stream",
     "text": [
      "\n",
      "Batches:  73%|███████▎  | 1092/1488 [21:21<09:47,  1.48s/it]\u001b[A\n",
      "Batches:  73%|███████▎  | 1093/1488 [21:22<09:07,  1.39s/it]\u001b[A\n",
      "Batches:  74%|███████▎  | 1094/1488 [21:23<08:35,  1.31s/it]\u001b[A\n",
      "                                                             [A\n",
      "Epochs:  99%|█████████▉| 99/100 [92:56:00<31:13, 1873.66s/it]\n",
      "Batches:  74%|███████▎  | 1095/1488 [21:26<09:03,  1.38s/it]\u001b[A\n",
      "Batches:  74%|███████▎  | 1096/1488 [21:26<08:37,  1.32s/it]\u001b[A"
     ]
    },
    {
     "name": "stdout",
     "output_type": "stream",
     "text": [
      "[99/100][1095/1488]                          LossD: 0.2383 (real: 0.4731, fake: 0.0036)                          LossG: 10.7657 (pred: 5.2509, L1: 5.5148)                          D(x): 0.6529                          D(G(z)): 0.0036 -> 0.0090\n"
     ]
    },
    {
     "name": "stderr",
     "output_type": "stream",
     "text": [
      "\n",
      "Batches:  74%|███████▎  | 1097/1488 [21:27<08:19,  1.28s/it]\u001b[A\n",
      "Batches:  74%|███████▍  | 1098/1488 [21:29<08:11,  1.26s/it]\u001b[A\n",
      "Batches:  74%|███████▍  | 1099/1488 [21:30<08:07,  1.25s/it]\u001b[A\n",
      "                                                             [A\n",
      "Epochs:  99%|█████████▉| 99/100 [92:56:06<31:13, 1873.66s/it]\n",
      "Batches:  74%|███████▍  | 1100/1488 [21:32<08:11,  1.27s/it]\u001b[A\n",
      "Batches:  74%|███████▍  | 1101/1488 [21:32<08:08,  1.26s/it]\u001b[A"
     ]
    },
    {
     "name": "stdout",
     "output_type": "stream",
     "text": [
      "[99/100][1100/1488]                          LossD: 0.0657 (real: 0.0022, fake: 0.1292)                          LossG: 14.5571 (pred: 3.1778, L1: 11.3792)                          D(x): 0.9978                          D(G(z)): 0.1112 -> 0.0591\n"
     ]
    },
    {
     "name": "stderr",
     "output_type": "stream",
     "text": [
      "\n",
      "Batches:  74%|███████▍  | 1102/1488 [21:34<08:07,  1.26s/it]\u001b[A\n",
      "Batches:  74%|███████▍  | 1103/1488 [21:35<07:58,  1.24s/it]\u001b[A\n",
      "Batches:  74%|███████▍  | 1104/1488 [21:36<08:09,  1.28s/it]\u001b[A\n",
      "                                                             [A\n",
      "Epochs:  99%|█████████▉| 99/100 [92:56:12<31:13, 1873.66s/it]\n",
      "Batches:  74%|███████▍  | 1105/1488 [21:39<07:52,  1.23s/it]\u001b[A\n",
      "Batches:  74%|███████▍  | 1106/1488 [21:39<08:02,  1.26s/it]\u001b[A"
     ]
    },
    {
     "name": "stdout",
     "output_type": "stream",
     "text": [
      "[99/100][1105/1488]                          LossD: 0.0900 (real: 0.1605, fake: 0.0196)                          LossG: 9.3727 (pred: 3.9845, L1: 5.3882)                          D(x): 0.8622                          D(G(z)): 0.0189 -> 0.0269\n"
     ]
    },
    {
     "name": "stderr",
     "output_type": "stream",
     "text": [
      "\n",
      "Batches:  74%|███████▍  | 1107/1488 [21:40<07:53,  1.24s/it]\u001b[A\n",
      "Batches:  74%|███████▍  | 1108/1488 [21:41<07:51,  1.24s/it]\u001b[A\n",
      "Batches:  75%|███████▍  | 1109/1488 [21:42<07:53,  1.25s/it]\u001b[A\n",
      "                                                             [A\n",
      "Epochs:  99%|█████████▉| 99/100 [92:56:18<31:13, 1873.66s/it]\n",
      "Batches:  75%|███████▍  | 1110/1488 [21:45<07:52,  1.25s/it]\u001b[A\n",
      "Batches:  75%|███████▍  | 1111/1488 [21:45<08:03,  1.28s/it]\u001b[A"
     ]
    },
    {
     "name": "stdout",
     "output_type": "stream",
     "text": [
      "[99/100][1110/1488]                          LossD: 0.0310 (real: 0.0000, fake: 0.0620)                          LossG: 13.1385 (pred: 3.3941, L1: 9.7444)                          D(x): 1.0000                          D(G(z)): 0.0581 -> 0.0491\n"
     ]
    },
    {
     "name": "stderr",
     "output_type": "stream",
     "text": [
      "\n",
      "Batches:  75%|███████▍  | 1112/1488 [21:46<08:06,  1.29s/it]\u001b[A\n",
      "Batches:  75%|███████▍  | 1113/1488 [21:48<08:03,  1.29s/it]\u001b[A\n",
      "Batches:  75%|███████▍  | 1114/1488 [21:49<07:38,  1.22s/it]\u001b[A\n",
      "                                                             [A\n",
      "Epochs:  99%|█████████▉| 99/100 [92:56:24<31:13, 1873.66s/it]\n",
      "Batches:  75%|███████▍  | 1115/1488 [21:51<07:15,  1.17s/it]\u001b[A\n",
      "Batches:  75%|███████▌  | 1116/1488 [21:51<07:01,  1.13s/it]\u001b[A"
     ]
    },
    {
     "name": "stdout",
     "output_type": "stream",
     "text": [
      "[99/100][1115/1488]                          LossD: 0.0489 (real: 0.0043, fake: 0.0936)                          LossG: 14.2337 (pred: 2.7936, L1: 11.4400)                          D(x): 0.9958                          D(G(z)): 0.0856 -> 0.0868\n"
     ]
    },
    {
     "name": "stderr",
     "output_type": "stream",
     "text": [
      "\n",
      "Batches:  75%|███████▌  | 1117/1488 [21:52<06:51,  1.11s/it]\u001b[A\n",
      "Batches:  75%|███████▌  | 1118/1488 [21:53<06:43,  1.09s/it]\u001b[A\n",
      "Batches:  75%|███████▌  | 1119/1488 [21:54<06:35,  1.07s/it]\u001b[A\n",
      "                                                             [A\n",
      "Epochs:  99%|█████████▉| 99/100 [92:56:29<31:13, 1873.66s/it]\n",
      "Batches:  75%|███████▌  | 1120/1488 [21:56<06:28,  1.06s/it]\u001b[A\n",
      "Batches:  75%|███████▌  | 1121/1488 [21:56<06:23,  1.04s/it]\u001b[A"
     ]
    },
    {
     "name": "stdout",
     "output_type": "stream",
     "text": [
      "[99/100][1120/1488]                          LossD: 0.0933 (real: 0.1121, fake: 0.0744)                          LossG: 10.1174 (pred: 2.8480, L1: 7.2694)                          D(x): 0.9006                          D(G(z)): 0.0679 -> 0.0839\n"
     ]
    },
    {
     "name": "stderr",
     "output_type": "stream",
     "text": [
      "\n",
      "Batches:  75%|███████▌  | 1122/1488 [21:57<06:25,  1.05s/it]\u001b[A\n",
      "Batches:  75%|███████▌  | 1123/1488 [21:58<06:21,  1.05s/it]\u001b[A\n",
      "Batches:  76%|███████▌  | 1124/1488 [21:59<06:20,  1.04s/it]\u001b[A\n",
      "                                                             [A\n",
      "Epochs:  99%|█████████▉| 99/100 [92:56:34<31:13, 1873.66s/it]\n",
      "Batches:  76%|███████▌  | 1125/1488 [22:01<06:18,  1.04s/it]\u001b[A\n",
      "Batches:  76%|███████▌  | 1126/1488 [22:01<06:20,  1.05s/it]\u001b[A"
     ]
    },
    {
     "name": "stdout",
     "output_type": "stream",
     "text": [
      "[99/100][1125/1488]                          LossD: 0.4734 (real: 0.1014, fake: 0.8455)                          LossG: 10.1239 (pred: 3.3247, L1: 6.7991)                          D(x): 0.9110                          D(G(z)): 0.5212 -> 0.0638\n"
     ]
    },
    {
     "name": "stderr",
     "output_type": "stream",
     "text": [
      "\n",
      "Batches:  76%|███████▌  | 1127/1488 [22:02<06:17,  1.05s/it]\u001b[A\n",
      "Batches:  76%|███████▌  | 1128/1488 [22:03<06:16,  1.05s/it]\u001b[A\n",
      "Batches:  76%|███████▌  | 1129/1488 [22:04<06:20,  1.06s/it]\u001b[A\n",
      "                                                             [A\n",
      "Epochs:  99%|█████████▉| 99/100 [92:56:40<31:13, 1873.66s/it]\n",
      "Batches:  76%|███████▌  | 1130/1488 [22:06<06:16,  1.05s/it]\u001b[A\n",
      "Batches:  76%|███████▌  | 1131/1488 [22:06<06:13,  1.05s/it]\u001b[A"
     ]
    },
    {
     "name": "stdout",
     "output_type": "stream",
     "text": [
      "[99/100][1130/1488]                          LossD: 0.0753 (real: 0.0220, fake: 0.1285)                          LossG: 11.1386 (pred: 2.7623, L1: 8.3763)                          D(x): 0.9789                          D(G(z)): 0.1137 -> 0.0889\n"
     ]
    },
    {
     "name": "stderr",
     "output_type": "stream",
     "text": [
      "\n",
      "Batches:  76%|███████▌  | 1132/1488 [22:07<06:09,  1.04s/it]\u001b[A\n",
      "Batches:  76%|███████▌  | 1133/1488 [22:09<06:20,  1.07s/it]\u001b[A\n",
      "Batches:  76%|███████▌  | 1134/1488 [22:10<07:06,  1.20s/it]\u001b[A\n",
      "                                                             [A\n",
      "Epochs:  99%|█████████▉| 99/100 [92:56:46<31:13, 1873.66s/it]\n",
      "Batches:  76%|███████▋  | 1135/1488 [22:12<07:01,  1.19s/it]\u001b[A\n",
      "Batches:  76%|███████▋  | 1136/1488 [22:12<07:02,  1.20s/it]\u001b[A"
     ]
    },
    {
     "name": "stdout",
     "output_type": "stream",
     "text": [
      "[99/100][1135/1488]                          LossD: 1.3097 (real: 2.6108, fake: 0.0086)                          LossG: 10.7597 (pred: 3.0815, L1: 7.6783)                          D(x): 0.1149                          D(G(z)): 0.0085 -> 0.0730\n"
     ]
    },
    {
     "name": "stderr",
     "output_type": "stream",
     "text": [
      "\n",
      "Batches:  76%|███████▋  | 1137/1488 [22:14<07:09,  1.22s/it]\u001b[A\n",
      "Batches:  76%|███████▋  | 1138/1488 [22:15<07:13,  1.24s/it]\u001b[A\n",
      "Batches:  77%|███████▋  | 1139/1488 [22:16<07:10,  1.23s/it]\u001b[A\n",
      "                                                             [A\n",
      "Epochs:  99%|█████████▉| 99/100 [92:56:52<31:13, 1873.66s/it]\n",
      "Batches:  77%|███████▋  | 1140/1488 [22:19<07:03,  1.22s/it]\u001b[A\n",
      "Batches:  77%|███████▋  | 1141/1488 [22:19<07:01,  1.22s/it]\u001b[A"
     ]
    },
    {
     "name": "stdout",
     "output_type": "stream",
     "text": [
      "[99/100][1140/1488]                          LossD: 0.0536 (real: 0.0143, fake: 0.0929)                          LossG: 14.5551 (pred: 3.4547, L1: 11.1004)                          D(x): 0.9863                          D(G(z)): 0.0861 -> 0.0483\n"
     ]
    },
    {
     "name": "stderr",
     "output_type": "stream",
     "text": [
      "\n",
      "Batches:  77%|███████▋  | 1142/1488 [22:20<06:57,  1.21s/it]\u001b[A\n",
      "Batches:  77%|███████▋  | 1143/1488 [22:21<06:38,  1.15s/it]\u001b[A\n",
      "Batches:  77%|███████▋  | 1144/1488 [22:22<06:20,  1.11s/it]\u001b[A\n",
      "                                                             [A\n",
      "Epochs:  99%|█████████▉| 99/100 [92:56:57<31:13, 1873.66s/it]\n",
      "Batches:  77%|███████▋  | 1145/1488 [22:24<06:03,  1.06s/it]\u001b[A\n",
      "Batches:  77%|███████▋  | 1146/1488 [22:24<05:56,  1.04s/it]\u001b[A"
     ]
    },
    {
     "name": "stdout",
     "output_type": "stream",
     "text": [
      "[99/100][1145/1488]                          LossD: 0.2890 (real: 0.5676, fake: 0.0104)                          LossG: 13.3005 (pred: 3.5757, L1: 9.7248)                          D(x): 0.6185                          D(G(z)): 0.0101 -> 0.0458\n"
     ]
    },
    {
     "name": "stderr",
     "output_type": "stream",
     "text": [
      "\n",
      "Batches:  77%|███████▋  | 1147/1488 [22:25<05:45,  1.01s/it]\u001b[A\n",
      "Batches:  77%|███████▋  | 1148/1488 [22:26<05:57,  1.05s/it]\u001b[A\n",
      "Batches:  77%|███████▋  | 1149/1488 [22:27<06:18,  1.12s/it]\u001b[A\n",
      "                                                             [A\n",
      "Epochs:  99%|█████████▉| 99/100 [92:57:03<31:13, 1873.66s/it]\n",
      "Batches:  77%|███████▋  | 1150/1488 [22:30<06:30,  1.16s/it]\u001b[A\n",
      "Batches:  77%|███████▋  | 1151/1488 [22:30<06:36,  1.18s/it]\u001b[A"
     ]
    },
    {
     "name": "stdout",
     "output_type": "stream",
     "text": [
      "[99/100][1150/1488]                          LossD: 0.1073 (real: 0.0063, fake: 0.2083)                          LossG: 11.9834 (pred: 3.2961, L1: 8.6873)                          D(x): 0.9937                          D(G(z)): 0.1754 -> 0.0529\n"
     ]
    },
    {
     "name": "stderr",
     "output_type": "stream",
     "text": [
      "\n",
      "Batches:  77%|███████▋  | 1152/1488 [22:31<06:32,  1.17s/it]\u001b[A\n",
      "Batches:  77%|███████▋  | 1153/1488 [22:32<06:42,  1.20s/it]\u001b[A\n",
      "Batches:  78%|███████▊  | 1154/1488 [22:33<06:41,  1.20s/it]\u001b[A\n",
      "                                                             [A\n",
      "Epochs:  99%|█████████▉| 99/100 [92:57:09<31:13, 1873.66s/it]\n",
      "Batches:  78%|███████▊  | 1155/1488 [22:36<06:33,  1.18s/it]\u001b[A\n",
      "Batches:  78%|███████▊  | 1156/1488 [22:36<06:32,  1.18s/it]\u001b[A"
     ]
    },
    {
     "name": "stdout",
     "output_type": "stream",
     "text": [
      "[99/100][1155/1488]                          LossD: 0.6336 (real: 1.2427, fake: 0.0246)                          LossG: 8.3408 (pred: 1.8584, L1: 6.4824)                          D(x): 0.3595                          D(G(z)): 0.0236 -> 0.2032\n"
     ]
    },
    {
     "name": "stderr",
     "output_type": "stream",
     "text": [
      "\n",
      "Batches:  78%|███████▊  | 1157/1488 [22:37<06:22,  1.16s/it]\u001b[A\n",
      "Batches:  78%|███████▊  | 1158/1488 [22:38<06:11,  1.13s/it]\u001b[A\n",
      "Batches:  78%|███████▊  | 1159/1488 [22:39<05:54,  1.08s/it]\u001b[A\n",
      "                                                             [A\n",
      "Epochs:  99%|█████████▉| 99/100 [92:57:14<31:13, 1873.66s/it]\n",
      "Batches:  78%|███████▊  | 1160/1488 [22:41<05:38,  1.03s/it]\u001b[A\n",
      "Batches:  78%|███████▊  | 1161/1488 [22:41<05:38,  1.04s/it]\u001b[A"
     ]
    },
    {
     "name": "stdout",
     "output_type": "stream",
     "text": [
      "[99/100][1160/1488]                          LossD: 0.0402 (real: 0.0780, fake: 0.0024)                          LossG: 16.7239 (pred: 7.3646, L1: 9.3593)                          D(x): 0.9310                          D(G(z)): 0.0023 -> 0.0014\n"
     ]
    },
    {
     "name": "stderr",
     "output_type": "stream",
     "text": [
      "\n",
      "Batches:  78%|███████▊  | 1162/1488 [22:42<05:31,  1.02s/it]\u001b[A\n",
      "Batches:  78%|███████▊  | 1163/1488 [22:43<06:24,  1.18s/it]\u001b[A\n",
      "Batches:  78%|███████▊  | 1164/1488 [22:44<05:58,  1.11s/it]\u001b[A\n",
      "                                                             [A\n",
      "Epochs:  99%|█████████▉| 99/100 [92:57:20<31:13, 1873.66s/it]\n",
      "Batches:  78%|███████▊  | 1165/1488 [22:46<05:46,  1.07s/it]\u001b[A\n",
      "Batches:  78%|███████▊  | 1166/1488 [22:46<05:49,  1.09s/it]\u001b[A"
     ]
    },
    {
     "name": "stdout",
     "output_type": "stream",
     "text": [
      "[99/100][1165/1488]                          LossD: 0.0088 (real: 0.0118, fake: 0.0059)                          LossG: 13.7280 (pred: 5.7666, L1: 7.9614)                          D(x): 0.9884                          D(G(z)): 0.0057 -> 0.0057\n"
     ]
    },
    {
     "name": "stderr",
     "output_type": "stream",
     "text": [
      "\n",
      "Batches:  78%|███████▊  | 1167/1488 [22:47<05:44,  1.07s/it]\u001b[A\n",
      "Batches:  78%|███████▊  | 1168/1488 [22:48<05:43,  1.07s/it]\u001b[A\n",
      "Batches:  79%|███████▊  | 1169/1488 [22:49<05:40,  1.07s/it]\u001b[A\n",
      "                                                             [A\n",
      "Epochs:  99%|█████████▉| 99/100 [92:57:25<31:13, 1873.66s/it]\n",
      "Batches:  79%|███████▊  | 1170/1488 [22:51<05:36,  1.06s/it]\u001b[A\n",
      "Batches:  79%|███████▊  | 1171/1488 [22:51<05:35,  1.06s/it]\u001b[A"
     ]
    },
    {
     "name": "stdout",
     "output_type": "stream",
     "text": [
      "[99/100][1170/1488]                          LossD: 0.0910 (real: 0.1290, fake: 0.0530)                          LossG: 9.0915 (pred: 3.1731, L1: 5.9184)                          D(x): 0.8877                          D(G(z)): 0.0497 -> 0.0584\n"
     ]
    },
    {
     "name": "stderr",
     "output_type": "stream",
     "text": [
      "\n",
      "Batches:  79%|███████▉  | 1172/1488 [22:52<05:29,  1.04s/it]\u001b[A\n",
      "Batches:  79%|███████▉  | 1173/1488 [22:54<06:21,  1.21s/it]\u001b[A\n",
      "Batches:  79%|███████▉  | 1174/1488 [22:55<05:58,  1.14s/it]\u001b[A\n",
      "                                                             [A\n",
      "Epochs:  99%|█████████▉| 99/100 [92:57:30<31:13, 1873.66s/it]\n",
      "Batches:  79%|███████▉  | 1175/1488 [22:57<05:45,  1.11s/it]\u001b[A\n",
      "Batches:  79%|███████▉  | 1176/1488 [22:57<05:34,  1.07s/it]\u001b[A"
     ]
    },
    {
     "name": "stdout",
     "output_type": "stream",
     "text": [
      "[99/100][1175/1488]                          LossD: 0.0684 (real: 0.0641, fake: 0.0727)                          LossG: 10.6154 (pred: 3.1511, L1: 7.4643)                          D(x): 0.9451                          D(G(z)): 0.0680 -> 0.0598\n"
     ]
    },
    {
     "name": "stderr",
     "output_type": "stream",
     "text": [
      "\n",
      "Batches:  79%|███████▉  | 1177/1488 [22:58<05:39,  1.09s/it]\u001b[A\n",
      "Batches:  79%|███████▉  | 1178/1488 [23:00<06:05,  1.18s/it]\u001b[A\n",
      "Batches:  79%|███████▉  | 1179/1488 [23:01<06:22,  1.24s/it]\u001b[A\n",
      "                                                             [A\n",
      "Epochs:  99%|█████████▉| 99/100 [92:57:37<31:13, 1873.66s/it]\n",
      "Batches:  79%|███████▉  | 1180/1488 [23:04<06:28,  1.26s/it]\u001b[A\n",
      "Batches:  79%|███████▉  | 1181/1488 [23:04<06:28,  1.27s/it]\u001b[A"
     ]
    },
    {
     "name": "stdout",
     "output_type": "stream",
     "text": [
      "[99/100][1180/1488]                          LossD: 0.0395 (real: 0.0608, fake: 0.0182)                          LossG: 10.1087 (pred: 4.8830, L1: 5.2258)                          D(x): 0.9520                          D(G(z)): 0.0179 -> 0.0111\n"
     ]
    },
    {
     "name": "stderr",
     "output_type": "stream",
     "text": [
      "\n",
      "Batches:  79%|███████▉  | 1182/1488 [23:05<06:29,  1.27s/it]\u001b[A\n",
      "Batches:  80%|███████▉  | 1183/1488 [23:06<06:28,  1.27s/it]\u001b[A\n",
      "Batches:  80%|███████▉  | 1184/1488 [23:07<06:03,  1.19s/it]\u001b[A\n",
      "                                                             [A\n",
      "Epochs:  99%|█████████▉| 99/100 [92:57:43<31:13, 1873.66s/it]\n",
      "Batches:  80%|███████▉  | 1185/1488 [23:09<05:45,  1.14s/it]\u001b[A\n",
      "Batches:  80%|███████▉  | 1186/1488 [23:09<05:34,  1.11s/it]\u001b[A"
     ]
    },
    {
     "name": "stdout",
     "output_type": "stream",
     "text": [
      "[99/100][1185/1488]                          LossD: 0.1368 (real: 0.2712, fake: 0.0025)                          LossG: 15.1057 (pred: 6.0194, L1: 9.0862)                          D(x): 0.7932                          D(G(z)): 0.0025 -> 0.0043\n"
     ]
    },
    {
     "name": "stderr",
     "output_type": "stream",
     "text": [
      "\n",
      "Batches:  80%|███████▉  | 1187/1488 [23:10<05:27,  1.09s/it]\u001b[A\n",
      "Batches:  80%|███████▉  | 1188/1488 [23:11<05:19,  1.07s/it]\u001b[A\n",
      "Batches:  80%|███████▉  | 1189/1488 [23:14<08:17,  1.66s/it]\u001b[A\n",
      "                                                             [A\n",
      "Epochs:  99%|█████████▉| 99/100 [92:57:50<31:13, 1873.66s/it]\n",
      "Batches:  80%|███████▉  | 1190/1488 [23:16<07:09,  1.44s/it]\u001b[A\n",
      "Batches:  80%|████████  | 1191/1488 [23:16<06:39,  1.34s/it]\u001b[A"
     ]
    },
    {
     "name": "stdout",
     "output_type": "stream",
     "text": [
      "[99/100][1190/1488]                          LossD: 0.2315 (real: 0.2328, fake: 0.2303)                          LossG: 8.5065 (pred: 3.3702, L1: 5.1363)                          D(x): 0.8060                          D(G(z)): 0.1285 -> 0.0593\n"
     ]
    },
    {
     "name": "stderr",
     "output_type": "stream",
     "text": [
      "\n",
      "Batches:  80%|████████  | 1192/1488 [23:17<06:22,  1.29s/it]\u001b[A\n",
      "Batches:  80%|████████  | 1193/1488 [23:19<06:16,  1.28s/it]\u001b[A\n",
      "Batches:  80%|████████  | 1194/1488 [23:20<06:13,  1.27s/it]\u001b[A\n",
      "                                                             [A\n",
      "Epochs:  99%|█████████▉| 99/100 [92:57:56<31:13, 1873.66s/it]\n",
      "Batches:  80%|████████  | 1195/1488 [23:23<06:15,  1.28s/it]\u001b[A\n",
      "Batches:  80%|████████  | 1196/1488 [23:23<06:21,  1.31s/it]\u001b[A"
     ]
    },
    {
     "name": "stdout",
     "output_type": "stream",
     "text": [
      "[99/100][1195/1488]                          LossD: 0.2043 (real: 0.3698, fake: 0.0389)                          LossG: 7.5301 (pred: 2.4701, L1: 5.0600)                          D(x): 0.7286                          D(G(z)): 0.0373 -> 0.1131\n"
     ]
    },
    {
     "name": "stderr",
     "output_type": "stream",
     "text": [
      "\n",
      "Batches:  80%|████████  | 1197/1488 [23:24<06:13,  1.28s/it]\u001b[A\n",
      "Batches:  81%|████████  | 1198/1488 [23:25<06:16,  1.30s/it]\u001b[A\n",
      "Batches:  81%|████████  | 1199/1488 [23:27<06:14,  1.29s/it]\u001b[A\n",
      "                                                             [A\n",
      "Epochs:  99%|█████████▉| 99/100 [92:58:02<31:13, 1873.66s/it]\n",
      "Batches:  81%|████████  | 1200/1488 [23:29<06:13,  1.30s/it]\u001b[A\n",
      "Batches:  81%|████████  | 1201/1488 [23:29<06:03,  1.27s/it]\u001b[A"
     ]
    },
    {
     "name": "stdout",
     "output_type": "stream",
     "text": [
      "[99/100][1200/1488]                          LossD: 0.4234 (real: 0.7216, fake: 0.1253)                          LossG: 6.6486 (pred: 1.9622, L1: 4.6864)                          D(x): 0.5390                          D(G(z)): 0.0837 -> 0.2607\n"
     ]
    },
    {
     "name": "stderr",
     "output_type": "stream",
     "text": [
      "\n",
      "Batches:  81%|████████  | 1202/1488 [23:30<06:06,  1.28s/it]\u001b[A\n",
      "Batches:  81%|████████  | 1203/1488 [23:32<06:03,  1.27s/it]\u001b[A\n",
      "Batches:  81%|████████  | 1204/1488 [23:33<05:56,  1.25s/it]\u001b[A\n",
      "                                                             [A\n",
      "Epochs:  99%|█████████▉| 99/100 [92:58:08<31:13, 1873.66s/it]\n",
      "Batches:  81%|████████  | 1205/1488 [23:35<05:52,  1.25s/it]\u001b[A\n",
      "Batches:  81%|████████  | 1206/1488 [23:35<05:35,  1.19s/it]\u001b[A"
     ]
    },
    {
     "name": "stdout",
     "output_type": "stream",
     "text": [
      "[99/100][1205/1488]                          LossD: 0.0603 (real: 0.0773, fake: 0.0434)                          LossG: 11.2057 (pred: 3.5406, L1: 7.6651)                          D(x): 0.9293                          D(G(z)): 0.0413 -> 0.0444\n"
     ]
    },
    {
     "name": "stderr",
     "output_type": "stream",
     "text": [
      "\n",
      "Batches:  81%|████████  | 1207/1488 [23:36<05:21,  1.15s/it]\u001b[A\n",
      "Batches:  81%|████████  | 1208/1488 [23:37<05:19,  1.14s/it]\u001b[A\n",
      "Batches:  81%|████████▏ | 1209/1488 [23:38<05:16,  1.13s/it]\u001b[A\n",
      "                                                             [A\n",
      "Epochs:  99%|█████████▉| 99/100 [92:58:14<31:13, 1873.66s/it]\n",
      "Batches:  81%|████████▏ | 1210/1488 [23:41<05:09,  1.11s/it]\u001b[A\n",
      "Batches:  81%|████████▏ | 1211/1488 [23:41<05:07,  1.11s/it]\u001b[A"
     ]
    },
    {
     "name": "stdout",
     "output_type": "stream",
     "text": [
      "[99/100][1210/1488]                          LossD: 0.0101 (real: 0.0021, fake: 0.0182)                          LossG: 20.4562 (pred: 5.1287, L1: 15.3275)                          D(x): 0.9980                          D(G(z)): 0.0176 -> 0.0127\n"
     ]
    },
    {
     "name": "stderr",
     "output_type": "stream",
     "text": [
      "\n",
      "Batches:  81%|████████▏ | 1212/1488 [23:42<05:04,  1.10s/it]\u001b[A\n",
      "Batches:  82%|████████▏ | 1213/1488 [23:43<05:05,  1.11s/it]\u001b[A\n",
      "Batches:  82%|████████▏ | 1214/1488 [23:44<04:58,  1.09s/it]\u001b[A\n",
      "                                                             [A\n",
      "Epochs:  99%|█████████▉| 99/100 [92:58:19<31:13, 1873.66s/it]\n",
      "Batches:  82%|████████▏ | 1215/1488 [23:46<04:53,  1.08s/it]\u001b[A\n",
      "Batches:  82%|████████▏ | 1216/1488 [23:46<04:52,  1.08s/it]\u001b[A"
     ]
    },
    {
     "name": "stdout",
     "output_type": "stream",
     "text": [
      "[99/100][1215/1488]                          LossD: 0.1339 (real: 0.1782, fake: 0.0895)                          LossG: 9.4136 (pred: 2.9704, L1: 6.4432)                          D(x): 0.8555                          D(G(z)): 0.0824 -> 0.0768\n"
     ]
    },
    {
     "name": "stderr",
     "output_type": "stream",
     "text": [
      "\n",
      "Batches:  82%|████████▏ | 1217/1488 [23:47<04:51,  1.08s/it]\u001b[A\n",
      "Batches:  82%|████████▏ | 1218/1488 [23:48<04:49,  1.07s/it]\u001b[A\n",
      "Batches:  82%|████████▏ | 1219/1488 [23:49<04:47,  1.07s/it]\u001b[A\n",
      "                                                             [A\n",
      "Epochs:  99%|█████████▉| 99/100 [92:58:25<31:13, 1873.66s/it]\n",
      "Batches:  82%|████████▏ | 1220/1488 [23:51<04:43,  1.06s/it]\u001b[A\n",
      "Batches:  82%|████████▏ | 1221/1488 [23:51<04:44,  1.06s/it]\u001b[A"
     ]
    },
    {
     "name": "stdout",
     "output_type": "stream",
     "text": [
      "[99/100][1220/1488]                          LossD: 0.0541 (real: 0.0334, fake: 0.0747)                          LossG: 10.8837 (pred: 3.3672, L1: 7.5165)                          D(x): 0.9678                          D(G(z)): 0.0684 -> 0.0485\n"
     ]
    },
    {
     "name": "stderr",
     "output_type": "stream",
     "text": [
      "\n",
      "Batches:  82%|████████▏ | 1222/1488 [23:52<04:42,  1.06s/it]\u001b[A\n",
      "Batches:  82%|████████▏ | 1223/1488 [23:53<04:43,  1.07s/it]\u001b[A\n",
      "Batches:  82%|████████▏ | 1224/1488 [23:54<04:40,  1.06s/it]\u001b[A\n",
      "                                                             [A\n",
      "Epochs:  99%|█████████▉| 99/100 [92:58:30<31:13, 1873.66s/it]\n",
      "Batches:  82%|████████▏ | 1225/1488 [23:57<04:40,  1.07s/it]\u001b[A\n",
      "Batches:  82%|████████▏ | 1226/1488 [23:57<04:43,  1.08s/it]\u001b[A"
     ]
    },
    {
     "name": "stdout",
     "output_type": "stream",
     "text": [
      "[99/100][1225/1488]                          LossD: 0.0611 (real: 0.0003, fake: 0.1219)                          LossG: 13.1345 (pred: 3.1079, L1: 10.0265)                          D(x): 0.9997                          D(G(z)): 0.1067 -> 0.0630\n"
     ]
    },
    {
     "name": "stderr",
     "output_type": "stream",
     "text": [
      "\n",
      "Batches:  82%|████████▏ | 1227/1488 [23:58<04:39,  1.07s/it]\u001b[A\n",
      "Batches:  83%|████████▎ | 1228/1488 [23:59<04:38,  1.07s/it]\u001b[A\n",
      "Batches:  83%|████████▎ | 1229/1488 [24:00<04:36,  1.07s/it]\u001b[A\n",
      "                                                             [A\n",
      "Epochs:  99%|█████████▉| 99/100 [92:58:35<31:13, 1873.66s/it]\n",
      "Batches:  83%|████████▎ | 1230/1488 [24:02<04:34,  1.06s/it]\u001b[A\n",
      "Batches:  83%|████████▎ | 1231/1488 [24:02<04:35,  1.07s/it]\u001b[A"
     ]
    },
    {
     "name": "stdout",
     "output_type": "stream",
     "text": [
      "[99/100][1230/1488]                          LossD: 0.0575 (real: 0.0259, fake: 0.0891)                          LossG: 6.7216 (pred: 3.4211, L1: 3.3005)                          D(x): 0.9750                          D(G(z)): 0.0736 -> 0.0456\n"
     ]
    },
    {
     "name": "stderr",
     "output_type": "stream",
     "text": [
      "\n",
      "Batches:  83%|████████▎ | 1232/1488 [24:03<04:32,  1.07s/it]\u001b[A\n",
      "Batches:  83%|████████▎ | 1233/1488 [24:04<04:29,  1.06s/it]\u001b[A\n",
      "Batches:  83%|████████▎ | 1234/1488 [24:05<04:29,  1.06s/it]\u001b[A\n",
      "                                                             [A\n",
      "Epochs:  99%|█████████▉| 99/100 [92:58:41<31:13, 1873.66s/it]\n",
      "Batches:  83%|████████▎ | 1235/1488 [24:07<04:29,  1.07s/it]\u001b[A\n",
      "Batches:  83%|████████▎ | 1236/1488 [24:07<04:28,  1.07s/it]\u001b[A"
     ]
    },
    {
     "name": "stdout",
     "output_type": "stream",
     "text": [
      "[99/100][1235/1488]                          LossD: 0.0258 (real: 0.0007, fake: 0.0509)                          LossG: 14.2588 (pred: 4.0869, L1: 10.1720)                          D(x): 0.9993                          D(G(z)): 0.0468 -> 0.0311\n"
     ]
    },
    {
     "name": "stderr",
     "output_type": "stream",
     "text": [
      "\n",
      "Batches:  83%|████████▎ | 1237/1488 [24:08<04:26,  1.06s/it]\u001b[A\n",
      "Batches:  83%|████████▎ | 1238/1488 [24:09<04:23,  1.05s/it]\u001b[A\n",
      "Batches:  83%|████████▎ | 1239/1488 [24:10<04:23,  1.06s/it]\u001b[A\n",
      "                                                             [A\n",
      "Epochs:  99%|█████████▉| 99/100 [92:58:46<31:13, 1873.66s/it]\n",
      "Batches:  83%|████████▎ | 1240/1488 [24:13<04:23,  1.06s/it]\u001b[A\n",
      "Batches:  83%|████████▎ | 1241/1488 [24:13<04:23,  1.07s/it]\u001b[A"
     ]
    },
    {
     "name": "stdout",
     "output_type": "stream",
     "text": [
      "[99/100][1240/1488]                          LossD: 0.0548 (real: 0.0003, fake: 0.1093)                          LossG: 10.9063 (pred: 3.1423, L1: 7.7640)                          D(x): 0.9997                          D(G(z)): 0.0965 -> 0.0620\n"
     ]
    },
    {
     "name": "stderr",
     "output_type": "stream",
     "text": [
      "\n",
      "Batches:  83%|████████▎ | 1242/1488 [24:14<04:22,  1.07s/it]\u001b[A\n",
      "Batches:  84%|████████▎ | 1243/1488 [24:15<04:22,  1.07s/it]\u001b[A\n",
      "Batches:  84%|████████▎ | 1244/1488 [24:16<04:19,  1.06s/it]\u001b[A\n",
      "                                                             [A\n",
      "Epochs:  99%|█████████▉| 99/100 [92:58:51<31:13, 1873.66s/it]\n",
      "Batches:  84%|████████▎ | 1245/1488 [24:18<04:19,  1.07s/it]\u001b[A\n",
      "Batches:  84%|████████▎ | 1246/1488 [24:18<04:20,  1.07s/it]\u001b[A"
     ]
    },
    {
     "name": "stdout",
     "output_type": "stream",
     "text": [
      "[99/100][1245/1488]                          LossD: 0.0395 (real: 0.0660, fake: 0.0131)                          LossG: 8.7033 (pred: 4.5430, L1: 4.1603)                          D(x): 0.9405                          D(G(z)): 0.0129 -> 0.0171\n"
     ]
    },
    {
     "name": "stderr",
     "output_type": "stream",
     "text": [
      "\n",
      "Batches:  84%|████████▍ | 1247/1488 [24:19<04:16,  1.06s/it]\u001b[A\n",
      "Batches:  84%|████████▍ | 1248/1488 [24:20<04:15,  1.06s/it]\u001b[A\n",
      "Batches:  84%|████████▍ | 1249/1488 [24:21<04:19,  1.09s/it]\u001b[A\n",
      "                                                             [A\n",
      "Epochs:  99%|█████████▉| 99/100 [92:58:57<31:13, 1873.66s/it]\n",
      "Batches:  84%|████████▍ | 1250/1488 [24:23<04:16,  1.08s/it]\u001b[A\n",
      "Batches:  84%|████████▍ | 1251/1488 [24:23<04:15,  1.08s/it]\u001b[A"
     ]
    },
    {
     "name": "stdout",
     "output_type": "stream",
     "text": [
      "[99/100][1250/1488]                          LossD: 0.2284 (real: 0.0003, fake: 0.4565)                          LossG: 10.3220 (pred: 3.9698, L1: 6.3522)                          D(x): 0.9997                          D(G(z)): 0.3199 -> 0.0259\n"
     ]
    },
    {
     "name": "stderr",
     "output_type": "stream",
     "text": [
      "\n",
      "Batches:  84%|████████▍ | 1252/1488 [24:24<04:11,  1.07s/it]\u001b[A\n",
      "Batches:  84%|████████▍ | 1253/1488 [24:25<04:11,  1.07s/it]\u001b[A\n",
      "Batches:  84%|████████▍ | 1254/1488 [24:27<04:12,  1.08s/it]\u001b[A\n",
      "                                                             [A\n",
      "Epochs:  99%|█████████▉| 99/100 [92:59:02<31:13, 1873.66s/it]\n",
      "Batches:  84%|████████▍ | 1255/1488 [24:29<04:09,  1.07s/it]\u001b[A\n",
      "Batches:  84%|████████▍ | 1256/1488 [24:29<04:11,  1.08s/it]\u001b[A"
     ]
    },
    {
     "name": "stdout",
     "output_type": "stream",
     "text": [
      "[99/100][1255/1488]                          LossD: 0.0663 (real: 0.0802, fake: 0.0524)                          LossG: 11.5208 (pred: 2.7003, L1: 8.8204)                          D(x): 0.9306                          D(G(z)): 0.0485 -> 0.1044\n"
     ]
    },
    {
     "name": "stderr",
     "output_type": "stream",
     "text": [
      "\n",
      "Batches:  84%|████████▍ | 1257/1488 [24:30<04:07,  1.07s/it]\u001b[A\n",
      "Batches:  85%|████████▍ | 1258/1488 [24:31<04:06,  1.07s/it]\u001b[A\n",
      "Batches:  85%|████████▍ | 1259/1488 [24:32<04:05,  1.07s/it]\u001b[A\n",
      "                                                             [A\n",
      "Epochs:  99%|█████████▉| 99/100 [92:59:07<31:13, 1873.66s/it]\n",
      "Batches:  85%|████████▍ | 1260/1488 [24:34<04:04,  1.07s/it]\u001b[A\n",
      "Batches:  85%|████████▍ | 1261/1488 [24:34<04:06,  1.08s/it]\u001b[A"
     ]
    },
    {
     "name": "stdout",
     "output_type": "stream",
     "text": [
      "[99/100][1260/1488]                          LossD: 0.4090 (real: 0.7537, fake: 0.0644)                          LossG: 10.5173 (pred: 1.5487, L1: 8.9686)                          D(x): 0.5167                          D(G(z)): 0.0570 -> 0.3047\n"
     ]
    },
    {
     "name": "stderr",
     "output_type": "stream",
     "text": [
      "\n",
      "Batches:  85%|████████▍ | 1262/1488 [24:35<04:08,  1.10s/it]\u001b[A\n",
      "Batches:  85%|████████▍ | 1263/1488 [24:36<04:12,  1.12s/it]\u001b[A\n",
      "Batches:  85%|████████▍ | 1264/1488 [24:38<04:17,  1.15s/it]\u001b[A\n",
      "                                                             [A\n",
      "Epochs:  99%|█████████▉| 99/100 [92:59:13<31:13, 1873.66s/it]\n",
      "Batches:  85%|████████▌ | 1265/1488 [24:40<04:19,  1.16s/it]\u001b[A\n",
      "Batches:  85%|████████▌ | 1266/1488 [24:40<04:24,  1.19s/it]\u001b[A"
     ]
    },
    {
     "name": "stdout",
     "output_type": "stream",
     "text": [
      "[99/100][1265/1488]                          LossD: 0.0157 (real: 0.0007, fake: 0.0308)                          LossG: 14.6218 (pred: 4.3861, L1: 10.2357)                          D(x): 0.9993                          D(G(z)): 0.0295 -> 0.0263\n"
     ]
    },
    {
     "name": "stderr",
     "output_type": "stream",
     "text": [
      "\n",
      "Batches:  85%|████████▌ | 1267/1488 [24:41<04:19,  1.17s/it]\u001b[A\n",
      "Batches:  85%|████████▌ | 1268/1488 [24:42<04:11,  1.14s/it]\u001b[A\n",
      "Batches:  85%|████████▌ | 1269/1488 [24:43<04:05,  1.12s/it]\u001b[A\n",
      "                                                             [A\n",
      "Epochs:  99%|█████████▉| 99/100 [92:59:19<31:13, 1873.66s/it]\n",
      "Batches:  85%|████████▌ | 1270/1488 [24:45<04:01,  1.11s/it]\u001b[A\n",
      "Batches:  85%|████████▌ | 1271/1488 [24:45<03:59,  1.10s/it]\u001b[A"
     ]
    },
    {
     "name": "stdout",
     "output_type": "stream",
     "text": [
      "[99/100][1270/1488]                          LossD: 0.0280 (real: 0.0235, fake: 0.0325)                          LossG: 11.0510 (pred: 4.2044, L1: 6.8466)                          D(x): 0.9773                          D(G(z)): 0.0311 -> 0.0221\n"
     ]
    },
    {
     "name": "stderr",
     "output_type": "stream",
     "text": [
      "\n",
      "Batches:  85%|████████▌ | 1272/1488 [24:47<03:57,  1.10s/it]\u001b[A\n",
      "Batches:  86%|████████▌ | 1273/1488 [24:48<04:04,  1.14s/it]\u001b[A\n",
      "Batches:  86%|████████▌ | 1274/1488 [24:49<04:00,  1.12s/it]\u001b[A\n",
      "                                                             [A\n",
      "Epochs:  99%|█████████▉| 99/100 [92:59:25<31:13, 1873.66s/it]\n",
      "Batches:  86%|████████▌ | 1275/1488 [24:51<04:09,  1.17s/it]\u001b[A\n",
      "Batches:  86%|████████▌ | 1276/1488 [24:51<04:06,  1.16s/it]\u001b[A"
     ]
    },
    {
     "name": "stdout",
     "output_type": "stream",
     "text": [
      "[99/100][1275/1488]                          LossD: 0.0024 (real: 0.0001, fake: 0.0047)                          LossG: 14.4657 (pred: 5.8541, L1: 8.6115)                          D(x): 0.9999                          D(G(z)): 0.0046 -> 0.0047\n"
     ]
    },
    {
     "name": "stderr",
     "output_type": "stream",
     "text": [
      "\n",
      "Batches:  86%|████████▌ | 1277/1488 [24:52<03:57,  1.13s/it]\u001b[A\n",
      "Batches:  86%|████████▌ | 1278/1488 [24:53<03:51,  1.10s/it]\u001b[A\n",
      "Batches:  86%|████████▌ | 1279/1488 [24:54<03:49,  1.10s/it]\u001b[A\n",
      "                                                             [A\n",
      "Epochs:  99%|█████████▉| 99/100 [92:59:30<31:13, 1873.66s/it]\n",
      "Batches:  86%|████████▌ | 1280/1488 [24:57<03:47,  1.09s/it]\u001b[A\n",
      "Batches:  86%|████████▌ | 1281/1488 [24:57<03:45,  1.09s/it]\u001b[A"
     ]
    },
    {
     "name": "stdout",
     "output_type": "stream",
     "text": [
      "[99/100][1280/1488]                          LossD: 0.0261 (real: 0.0000, fake: 0.0523)                          LossG: 18.6311 (pred: 4.4844, L1: 14.1467)                          D(x): 1.0000                          D(G(z)): 0.0471 -> 0.0207\n"
     ]
    },
    {
     "name": "stderr",
     "output_type": "stream",
     "text": [
      "\n",
      "Batches:  86%|████████▌ | 1282/1488 [24:58<03:43,  1.08s/it]\u001b[A\n",
      "Batches:  86%|████████▌ | 1283/1488 [24:59<03:40,  1.08s/it]\u001b[A\n",
      "Batches:  86%|████████▋ | 1284/1488 [25:00<03:39,  1.08s/it]\u001b[A\n",
      "                                                             [A\n",
      "Epochs:  99%|█████████▉| 99/100 [92:59:35<31:13, 1873.66s/it]\n",
      "Batches:  86%|████████▋ | 1285/1488 [25:02<03:38,  1.08s/it]\u001b[A\n",
      "Batches:  86%|████████▋ | 1286/1488 [25:02<03:36,  1.07s/it]\u001b[A"
     ]
    },
    {
     "name": "stdout",
     "output_type": "stream",
     "text": [
      "[99/100][1285/1488]                          LossD: 0.0420 (real: 0.0319, fake: 0.0521)                          LossG: 12.7440 (pred: 3.7540, L1: 8.9899)                          D(x): 0.9744                          D(G(z)): 0.0451 -> 0.0450\n"
     ]
    },
    {
     "name": "stderr",
     "output_type": "stream",
     "text": [
      "\n",
      "Batches:  86%|████████▋ | 1287/1488 [25:03<03:35,  1.07s/it]\u001b[A\n",
      "Batches:  87%|████████▋ | 1288/1488 [25:04<03:35,  1.08s/it]\u001b[A\n",
      "Batches:  87%|████████▋ | 1289/1488 [25:07<05:38,  1.70s/it]\u001b[A\n",
      "                                                             [A\n",
      "Epochs:  99%|█████████▉| 99/100 [92:59:43<31:13, 1873.66s/it]\n",
      "Batches:  87%|████████▋ | 1290/1488 [25:10<04:39,  1.41s/it]\u001b[A\n",
      "Batches:  87%|████████▋ | 1291/1488 [25:10<04:52,  1.48s/it]\u001b[A"
     ]
    },
    {
     "name": "stdout",
     "output_type": "stream",
     "text": [
      "[99/100][1290/1488]                          LossD: 0.0783 (real: 0.0982, fake: 0.0585)                          LossG: 11.0401 (pred: 3.7488, L1: 7.2914)                          D(x): 0.9153                          D(G(z)): 0.0519 -> 0.0359\n"
     ]
    },
    {
     "name": "stderr",
     "output_type": "stream",
     "text": [
      "\n",
      "Batches:  87%|████████▋ | 1292/1488 [25:11<04:21,  1.34s/it]\u001b[A\n",
      "Batches:  87%|████████▋ | 1293/1488 [25:12<03:58,  1.22s/it]\u001b[A\n",
      "Batches:  87%|████████▋ | 1294/1488 [25:13<03:43,  1.15s/it]\u001b[A\n",
      "                                                             [A\n",
      "Epochs:  99%|█████████▉| 99/100 [92:59:48<31:13, 1873.66s/it]\n",
      "Batches:  87%|████████▋ | 1295/1488 [25:15<03:30,  1.09s/it]\u001b[A\n",
      "Batches:  87%|████████▋ | 1296/1488 [25:15<03:23,  1.06s/it]\u001b[A"
     ]
    },
    {
     "name": "stdout",
     "output_type": "stream",
     "text": [
      "[99/100][1295/1488]                          LossD: 0.6121 (real: 0.0001, fake: 1.2240)                          LossG: 13.6056 (pred: 4.0124, L1: 9.5932)                          D(x): 0.9999                          D(G(z)): 0.6151 -> 0.0501\n"
     ]
    },
    {
     "name": "stderr",
     "output_type": "stream",
     "text": [
      "\n",
      "Batches:  87%|████████▋ | 1297/1488 [25:15<03:15,  1.02s/it]\u001b[A\n",
      "Batches:  87%|████████▋ | 1298/1488 [25:16<03:10,  1.00s/it]\u001b[A\n",
      "Batches:  87%|████████▋ | 1299/1488 [25:18<03:11,  1.02s/it]\u001b[A\n",
      "                                                             [A\n",
      "Epochs:  99%|█████████▉| 99/100 [92:59:53<31:13, 1873.66s/it]\n",
      "Batches:  87%|████████▋ | 1300/1488 [25:20<03:16,  1.04s/it]\u001b[A\n",
      "Batches:  87%|████████▋ | 1301/1488 [25:20<03:20,  1.07s/it]\u001b[A"
     ]
    },
    {
     "name": "stdout",
     "output_type": "stream",
     "text": [
      "[99/100][1300/1488]                          LossD: 0.1099 (real: 0.0000, fake: 0.2199)                          LossG: 12.4258 (pred: 3.0341, L1: 9.3917)                          D(x): 1.0000                          D(G(z)): 0.1829 -> 0.0786\n"
     ]
    },
    {
     "name": "stderr",
     "output_type": "stream",
     "text": [
      "\n",
      "Batches:  88%|████████▊ | 1302/1488 [25:21<03:18,  1.07s/it]\u001b[A\n",
      "Batches:  88%|████████▊ | 1303/1488 [25:22<03:19,  1.08s/it]\u001b[A\n",
      "Batches:  88%|████████▊ | 1304/1488 [25:23<03:19,  1.08s/it]\u001b[A\n",
      "                                                             [A\n",
      "Epochs:  99%|█████████▉| 99/100 [92:59:59<31:13, 1873.66s/it]\n",
      "Batches:  88%|████████▊ | 1305/1488 [25:25<03:19,  1.09s/it]\u001b[A\n",
      "Batches:  88%|████████▊ | 1306/1488 [25:25<03:21,  1.11s/it]\u001b[A"
     ]
    },
    {
     "name": "stdout",
     "output_type": "stream",
     "text": [
      "[99/100][1305/1488]                          LossD: 0.1116 (real: 0.0050, fake: 0.2183)                          LossG: 10.7045 (pred: 2.7152, L1: 7.9893)                          D(x): 0.9953                          D(G(z)): 0.1827 -> 0.0902\n"
     ]
    },
    {
     "name": "stderr",
     "output_type": "stream",
     "text": [
      "\n",
      "Batches:  88%|████████▊ | 1307/1488 [25:26<03:20,  1.11s/it]\u001b[A\n",
      "Batches:  88%|████████▊ | 1308/1488 [25:27<03:20,  1.11s/it]\u001b[A\n",
      "Batches:  88%|████████▊ | 1309/1488 [25:29<03:19,  1.11s/it]\u001b[A\n",
      "                                                             [A\n",
      "Epochs:  99%|█████████▉| 99/100 [93:00:04<31:13, 1873.66s/it]\n",
      "Batches:  88%|████████▊ | 1310/1488 [25:31<03:16,  1.11s/it]\u001b[A\n",
      "Batches:  88%|████████▊ | 1311/1488 [25:31<03:16,  1.11s/it]\u001b[A"
     ]
    },
    {
     "name": "stdout",
     "output_type": "stream",
     "text": [
      "[99/100][1310/1488]                          LossD: 0.0055 (real: 0.0023, fake: 0.0087)                          LossG: 18.3917 (pred: 5.5246, L1: 12.8671)                          D(x): 0.9985                          D(G(z)): 0.0085 -> 0.0083\n"
     ]
    },
    {
     "name": "stderr",
     "output_type": "stream",
     "text": [
      "\n",
      "Batches:  88%|████████▊ | 1312/1488 [25:32<03:14,  1.11s/it]\u001b[A\n",
      "Batches:  88%|████████▊ | 1313/1488 [25:33<03:11,  1.10s/it]\u001b[A\n",
      "Batches:  88%|████████▊ | 1314/1488 [25:34<03:10,  1.09s/it]\u001b[A\n",
      "                                                             [A\n",
      "Epochs:  99%|█████████▉| 99/100 [93:00:10<31:13, 1873.66s/it]\n",
      "Batches:  88%|████████▊ | 1315/1488 [25:36<03:09,  1.10s/it]\u001b[A\n",
      "Batches:  88%|████████▊ | 1316/1488 [25:36<03:12,  1.12s/it]\u001b[A"
     ]
    },
    {
     "name": "stdout",
     "output_type": "stream",
     "text": [
      "[99/100][1315/1488]                          LossD: 0.1011 (real: 0.0035, fake: 0.1987)                          LossG: 11.9035 (pred: 2.7373, L1: 9.1662)                          D(x): 0.9965                          D(G(z)): 0.1668 -> 0.0931\n"
     ]
    },
    {
     "name": "stderr",
     "output_type": "stream",
     "text": [
      "\n",
      "Batches:  89%|████████▊ | 1317/1488 [25:37<03:09,  1.11s/it]\u001b[A\n",
      "Batches:  89%|████████▊ | 1318/1488 [25:39<03:06,  1.10s/it]\u001b[A\n",
      "Batches:  89%|████████▊ | 1319/1488 [25:40<03:04,  1.09s/it]\u001b[A\n",
      "                                                             [A\n",
      "Epochs:  99%|█████████▉| 99/100 [93:00:15<31:13, 1873.66s/it]\n",
      "Batches:  89%|████████▊ | 1320/1488 [25:42<03:05,  1.10s/it]\u001b[A\n",
      "Batches:  89%|████████▉ | 1321/1488 [25:42<03:04,  1.10s/it]\u001b[A"
     ]
    },
    {
     "name": "stdout",
     "output_type": "stream",
     "text": [
      "[99/100][1320/1488]                          LossD: 0.0325 (real: 0.0456, fake: 0.0194)                          LossG: 10.7565 (pred: 4.4862, L1: 6.2703)                          D(x): 0.9568                          D(G(z)): 0.0189 -> 0.0173\n"
     ]
    },
    {
     "name": "stderr",
     "output_type": "stream",
     "text": [
      "\n",
      "Batches:  89%|████████▉ | 1322/1488 [25:43<03:04,  1.11s/it]\u001b[A\n",
      "Batches:  89%|████████▉ | 1323/1488 [25:44<03:05,  1.12s/it]\u001b[A\n",
      "Batches:  89%|████████▉ | 1324/1488 [25:45<03:05,  1.13s/it]\u001b[A\n",
      "                                                             [A\n",
      "Epochs:  99%|█████████▉| 99/100 [93:00:21<31:13, 1873.66s/it]\n",
      "Batches:  89%|████████▉ | 1325/1488 [25:47<03:02,  1.12s/it]\u001b[A\n",
      "Batches:  89%|████████▉ | 1326/1488 [25:47<03:01,  1.12s/it]\u001b[A"
     ]
    },
    {
     "name": "stdout",
     "output_type": "stream",
     "text": [
      "[99/100][1325/1488]                          LossD: 0.1315 (real: 0.1300, fake: 0.1329)                          LossG: 9.3473 (pred: 2.7020, L1: 6.6453)                          D(x): 0.8904                          D(G(z)): 0.1186 -> 0.0924\n"
     ]
    },
    {
     "name": "stderr",
     "output_type": "stream",
     "text": [
      "\n",
      "Batches:  89%|████████▉ | 1327/1488 [25:49<02:58,  1.11s/it]\u001b[A\n",
      "Batches:  89%|████████▉ | 1328/1488 [25:50<02:59,  1.12s/it]\u001b[A\n",
      "Batches:  89%|████████▉ | 1329/1488 [25:51<02:57,  1.12s/it]\u001b[A\n",
      "                                                             [A\n",
      "Epochs:  99%|█████████▉| 99/100 [93:00:26<31:13, 1873.66s/it]\n",
      "Batches:  89%|████████▉ | 1330/1488 [25:53<02:56,  1.11s/it]\u001b[A\n",
      "Batches:  89%|████████▉ | 1331/1488 [25:53<02:55,  1.12s/it]\u001b[A"
     ]
    },
    {
     "name": "stdout",
     "output_type": "stream",
     "text": [
      "[99/100][1330/1488]                          LossD: 0.0099 (real: 0.0156, fake: 0.0043)                          LossG: 12.6364 (pred: 5.9916, L1: 6.6448)                          D(x): 0.9847                          D(G(z)): 0.0042 -> 0.0043\n"
     ]
    },
    {
     "name": "stderr",
     "output_type": "stream",
     "text": [
      "\n",
      "Batches:  90%|████████▉ | 1332/1488 [25:54<02:54,  1.12s/it]\u001b[A\n",
      "Batches:  90%|████████▉ | 1333/1488 [25:55<02:51,  1.11s/it]\u001b[A\n",
      "Batches:  90%|████████▉ | 1334/1488 [25:56<02:52,  1.12s/it]\u001b[A\n",
      "                                                             [A\n",
      "Epochs:  99%|█████████▉| 99/100 [93:00:32<31:13, 1873.66s/it]\n",
      "Batches:  90%|████████▉ | 1335/1488 [25:59<02:50,  1.11s/it]\u001b[A\n",
      "Batches:  90%|████████▉ | 1336/1488 [25:59<02:49,  1.12s/it]\u001b[A"
     ]
    },
    {
     "name": "stdout",
     "output_type": "stream",
     "text": [
      "[99/100][1335/1488]                          LossD: 0.4153 (real: 0.0001, fake: 0.8306)                          LossG: 14.9587 (pred: 3.0955, L1: 11.8632)                          D(x): 0.9999                          D(G(z)): 0.5072 -> 0.0755\n"
     ]
    },
    {
     "name": "stderr",
     "output_type": "stream",
     "text": [
      "\n",
      "Batches:  90%|████████▉ | 1337/1488 [26:00<02:46,  1.10s/it]\u001b[A\n",
      "Batches:  90%|████████▉ | 1338/1488 [26:01<02:44,  1.10s/it]\u001b[A\n",
      "Batches:  90%|████████▉ | 1339/1488 [26:02<02:43,  1.10s/it]\u001b[A\n",
      "                                                             [A\n",
      "Epochs:  99%|█████████▉| 99/100 [93:00:37<31:13, 1873.66s/it]\n",
      "Batches:  90%|█████████ | 1340/1488 [26:04<02:41,  1.09s/it]\u001b[A\n",
      "Batches:  90%|█████████ | 1341/1488 [26:04<02:41,  1.10s/it]\u001b[A"
     ]
    },
    {
     "name": "stdout",
     "output_type": "stream",
     "text": [
      "[99/100][1340/1488]                          LossD: 0.0055 (real: 0.0087, fake: 0.0024)                          LossG: 16.2698 (pred: 7.1240, L1: 9.1458)                          D(x): 0.9914                          D(G(z)): 0.0024 -> 0.0021\n"
     ]
    },
    {
     "name": "stderr",
     "output_type": "stream",
     "text": [
      "\n",
      "Batches:  90%|█████████ | 1342/1488 [26:05<02:40,  1.10s/it]\u001b[A\n",
      "Batches:  90%|█████████ | 1343/1488 [26:06<02:40,  1.11s/it]\u001b[A\n",
      "Batches:  90%|█████████ | 1344/1488 [26:07<02:39,  1.11s/it]\u001b[A\n",
      "                                                             [A\n",
      "Epochs:  99%|█████████▉| 99/100 [93:00:43<31:13, 1873.66s/it]\n",
      "Batches:  90%|█████████ | 1345/1488 [26:10<02:41,  1.13s/it]\u001b[A\n",
      "Batches:  90%|█████████ | 1346/1488 [26:10<02:48,  1.18s/it]\u001b[A"
     ]
    },
    {
     "name": "stdout",
     "output_type": "stream",
     "text": [
      "[99/100][1345/1488]                          LossD: 0.0087 (real: 0.0000, fake: 0.0174)                          LossG: 20.7233 (pred: 4.2540, L1: 16.4693)                          D(x): 1.0000                          D(G(z)): 0.0167 -> 0.0320\n"
     ]
    },
    {
     "name": "stderr",
     "output_type": "stream",
     "text": [
      "\n",
      "Batches:  91%|█████████ | 1347/1488 [26:11<02:42,  1.15s/it]\u001b[A\n",
      "Batches:  91%|█████████ | 1348/1488 [26:12<02:42,  1.16s/it]\u001b[A\n",
      "Batches:  91%|█████████ | 1349/1488 [26:13<02:44,  1.18s/it]\u001b[A\n",
      "                                                             [A\n",
      "Epochs:  99%|█████████▉| 99/100 [93:00:49<31:13, 1873.66s/it]\n",
      "Batches:  91%|█████████ | 1350/1488 [26:16<02:41,  1.17s/it]\u001b[A\n",
      "Batches:  91%|█████████ | 1351/1488 [26:16<02:39,  1.17s/it]\u001b[A"
     ]
    },
    {
     "name": "stdout",
     "output_type": "stream",
     "text": [
      "[99/100][1350/1488]                          LossD: 0.1642 (real: 0.2947, fake: 0.0338)                          LossG: 12.1036 (pred: 3.3435, L1: 8.7601)                          D(x): 0.7660                          D(G(z)): 0.0324 -> 0.0509\n"
     ]
    },
    {
     "name": "stderr",
     "output_type": "stream",
     "text": [
      "\n",
      "Batches:  91%|█████████ | 1352/1488 [26:17<02:37,  1.16s/it]\u001b[A\n",
      "Batches:  91%|█████████ | 1353/1488 [26:18<02:37,  1.17s/it]\u001b[A\n",
      "Batches:  91%|█████████ | 1354/1488 [26:19<02:44,  1.23s/it]\u001b[A\n",
      "                                                             [A\n",
      "Epochs:  99%|█████████▉| 99/100 [93:00:55<31:13, 1873.66s/it]\n",
      "Batches:  91%|█████████ | 1355/1488 [26:22<02:44,  1.24s/it]\u001b[A\n",
      "Batches:  91%|█████████ | 1356/1488 [26:22<02:44,  1.25s/it]\u001b[A"
     ]
    },
    {
     "name": "stdout",
     "output_type": "stream",
     "text": [
      "[99/100][1355/1488]                          LossD: 0.0658 (real: 0.0000, fake: 0.1316)                          LossG: 12.9087 (pred: 3.2725, L1: 9.6362)                          D(x): 1.0000                          D(G(z)): 0.1168 -> 0.0572\n"
     ]
    },
    {
     "name": "stderr",
     "output_type": "stream",
     "text": [
      "\n",
      "Batches:  91%|█████████ | 1357/1488 [26:23<02:39,  1.22s/it]\u001b[A\n",
      "Batches:  91%|█████████▏| 1358/1488 [26:24<02:33,  1.18s/it]\u001b[A\n",
      "Batches:  91%|█████████▏| 1359/1488 [26:25<02:31,  1.18s/it]\u001b[A\n",
      "                                                             [A\n",
      "Epochs:  99%|█████████▉| 99/100 [93:01:01<31:13, 1873.66s/it]\n",
      "Batches:  91%|█████████▏| 1360/1488 [26:28<02:28,  1.16s/it]\u001b[A\n",
      "Batches:  91%|█████████▏| 1361/1488 [26:28<02:26,  1.16s/it]\u001b[A"
     ]
    },
    {
     "name": "stdout",
     "output_type": "stream",
     "text": [
      "[99/100][1360/1488]                          LossD: 0.0140 (real: 0.0019, fake: 0.0261)                          LossG: 11.6616 (pred: 4.1231, L1: 7.5385)                          D(x): 0.9981                          D(G(z)): 0.0253 -> 0.0247\n"
     ]
    },
    {
     "name": "stderr",
     "output_type": "stream",
     "text": [
      "\n",
      "Batches:  92%|█████████▏| 1362/1488 [26:29<02:22,  1.13s/it]\u001b[A\n",
      "Batches:  92%|█████████▏| 1363/1488 [26:30<02:19,  1.12s/it]\u001b[A\n",
      "Batches:  92%|█████████▏| 1364/1488 [26:31<02:18,  1.12s/it]\u001b[A\n",
      "                                                             [A\n",
      "Epochs:  99%|█████████▉| 99/100 [93:01:06<31:13, 1873.66s/it]\n",
      "Batches:  92%|█████████▏| 1365/1488 [26:33<02:16,  1.11s/it]\u001b[A\n",
      "Batches:  92%|█████████▏| 1366/1488 [26:33<02:09,  1.06s/it]\u001b[A"
     ]
    },
    {
     "name": "stdout",
     "output_type": "stream",
     "text": [
      "[99/100][1365/1488]                          LossD: 0.0302 (real: 0.0083, fake: 0.0521)                          LossG: 8.5100 (pred: 3.6756, L1: 4.8344)                          D(x): 0.9918                          D(G(z)): 0.0482 -> 0.0374\n"
     ]
    },
    {
     "name": "stderr",
     "output_type": "stream",
     "text": [
      "\n",
      "Batches:  92%|█████████▏| 1367/1488 [26:34<02:02,  1.01s/it]\u001b[A\n",
      "Batches:  92%|█████████▏| 1368/1488 [26:35<01:58,  1.01it/s]\u001b[A\n",
      "Batches:  92%|█████████▏| 1369/1488 [26:36<01:55,  1.03it/s]\u001b[A\n",
      "                                                             [A\n",
      "Epochs:  99%|█████████▉| 99/100 [93:01:11<31:13, 1873.66s/it]\n",
      "Batches:  92%|█████████▏| 1370/1488 [26:37<01:52,  1.05it/s]\u001b[A\n",
      "Batches:  92%|█████████▏| 1371/1488 [26:38<01:51,  1.05it/s]\u001b[A"
     ]
    },
    {
     "name": "stdout",
     "output_type": "stream",
     "text": [
      "[99/100][1370/1488]                          LossD: 0.0478 (real: 0.0340, fake: 0.0616)                          LossG: 14.6449 (pred: 3.3114, L1: 11.3335)                          D(x): 0.9680                          D(G(z)): 0.0581 -> 0.0511\n"
     ]
    },
    {
     "name": "stderr",
     "output_type": "stream",
     "text": [
      "\n",
      "Batches:  92%|█████████▏| 1372/1488 [26:38<01:47,  1.07it/s]\u001b[A\n",
      "Batches:  92%|█████████▏| 1373/1488 [26:39<01:46,  1.08it/s]\u001b[A\n",
      "Batches:  92%|█████████▏| 1374/1488 [26:40<01:48,  1.05it/s]\u001b[A\n",
      "                                                             [A\n",
      "Epochs:  99%|█████████▉| 99/100 [93:01:16<31:13, 1873.66s/it]\n",
      "Batches:  92%|█████████▏| 1375/1488 [26:42<01:48,  1.04it/s]\u001b[A\n",
      "Batches:  92%|█████████▏| 1376/1488 [26:42<01:47,  1.04it/s]\u001b[A"
     ]
    },
    {
     "name": "stdout",
     "output_type": "stream",
     "text": [
      "[99/100][1375/1488]                          LossD: 0.0304 (real: 0.0005, fake: 0.0604)                          LossG: 17.0383 (pred: 4.1596, L1: 12.8787)                          D(x): 0.9995                          D(G(z)): 0.0546 -> 0.0255\n"
     ]
    },
    {
     "name": "stderr",
     "output_type": "stream",
     "text": [
      "\n",
      "Batches:  93%|█████████▎| 1377/1488 [26:43<01:52,  1.02s/it]\u001b[A\n",
      "Batches:  93%|█████████▎| 1378/1488 [26:45<01:55,  1.05s/it]\u001b[A\n",
      "Batches:  93%|█████████▎| 1379/1488 [26:46<01:57,  1.08s/it]\u001b[A\n",
      "                                                             [A\n",
      "Epochs:  99%|█████████▉| 99/100 [93:01:21<31:13, 1873.66s/it]\n",
      "Batches:  93%|█████████▎| 1380/1488 [26:48<01:57,  1.09s/it]\u001b[A\n",
      "Batches:  93%|█████████▎| 1381/1488 [26:48<01:59,  1.12s/it]\u001b[A"
     ]
    },
    {
     "name": "stdout",
     "output_type": "stream",
     "text": [
      "[99/100][1380/1488]                          LossD: 0.2749 (real: 0.0386, fake: 0.5112)                          LossG: 10.2758 (pred: 2.9449, L1: 7.3309)                          D(x): 0.9638                          D(G(z)): 0.3524 -> 0.0792\n"
     ]
    },
    {
     "name": "stderr",
     "output_type": "stream",
     "text": [
      "\n",
      "Batches:  93%|█████████▎| 1382/1488 [26:49<01:59,  1.12s/it]\u001b[A\n",
      "Batches:  93%|█████████▎| 1383/1488 [26:50<01:58,  1.12s/it]\u001b[A\n",
      "Batches:  93%|█████████▎| 1384/1488 [26:51<01:58,  1.14s/it]\u001b[A\n",
      "                                                             [A\n",
      "Epochs:  99%|█████████▉| 99/100 [93:01:27<31:13, 1873.66s/it]\n",
      "Batches:  93%|█████████▎| 1385/1488 [26:54<01:57,  1.14s/it]\u001b[A\n",
      "Batches:  93%|█████████▎| 1386/1488 [26:54<01:57,  1.15s/it]\u001b[A"
     ]
    },
    {
     "name": "stdout",
     "output_type": "stream",
     "text": [
      "[99/100][1385/1488]                          LossD: 0.1276 (real: 0.1074, fake: 0.1478)                          LossG: 14.1133 (pred: 3.1152, L1: 10.9982)                          D(x): 0.9061                          D(G(z)): 0.1229 -> 0.0720\n"
     ]
    },
    {
     "name": "stderr",
     "output_type": "stream",
     "text": [
      "\n",
      "Batches:  93%|█████████▎| 1387/1488 [26:55<01:56,  1.15s/it]\u001b[A\n",
      "Batches:  93%|█████████▎| 1388/1488 [26:56<01:55,  1.16s/it]\u001b[A\n",
      "Batches:  93%|█████████▎| 1389/1488 [26:59<02:57,  1.79s/it]\u001b[A\n",
      "                                                             [A\n",
      "Epochs:  99%|█████████▉| 99/100 [93:01:34<31:13, 1873.66s/it]\n",
      "Batches:  93%|█████████▎| 1390/1488 [27:01<02:26,  1.49s/it]\u001b[A\n",
      "Batches:  93%|█████████▎| 1391/1488 [27:01<02:07,  1.32s/it]\u001b[A"
     ]
    },
    {
     "name": "stdout",
     "output_type": "stream",
     "text": [
      "[99/100][1390/1488]                          LossD: 0.2241 (real: 0.3197, fake: 0.1286)                          LossG: 7.3799 (pred: 1.2452, L1: 6.1347)                          D(x): 0.7454                          D(G(z)): 0.1154 -> 0.3300\n"
     ]
    },
    {
     "name": "stderr",
     "output_type": "stream",
     "text": [
      "\n",
      "Batches:  94%|█████████▎| 1392/1488 [27:02<01:53,  1.18s/it]\u001b[A\n",
      "Batches:  94%|█████████▎| 1393/1488 [27:03<02:00,  1.27s/it]\u001b[A\n",
      "Batches:  94%|█████████▎| 1394/1488 [27:05<02:06,  1.34s/it]\u001b[A\n",
      "                                                             [A\n",
      "Epochs:  99%|█████████▉| 99/100 [93:01:40<31:13, 1873.66s/it]\n",
      "Batches:  94%|█████████▍| 1395/1488 [27:07<01:51,  1.20s/it]\u001b[A\n",
      "Batches:  94%|█████████▍| 1396/1488 [27:07<01:42,  1.11s/it]\u001b[A"
     ]
    },
    {
     "name": "stdout",
     "output_type": "stream",
     "text": [
      "[99/100][1395/1488]                          LossD: 0.0435 (real: 0.0114, fake: 0.0756)                          LossG: 10.7104 (pred: 3.4838, L1: 7.2266)                          D(x): 0.9887                          D(G(z)): 0.0696 -> 0.0442\n"
     ]
    },
    {
     "name": "stderr",
     "output_type": "stream",
     "text": [
      "\n",
      "Batches:  94%|█████████▍| 1397/1488 [27:08<01:41,  1.11s/it]\u001b[A\n",
      "Batches:  94%|█████████▍| 1398/1488 [27:09<01:42,  1.14s/it]\u001b[A\n",
      "Batches:  94%|█████████▍| 1399/1488 [27:10<01:41,  1.14s/it]\u001b[A\n",
      "                                                             [A\n",
      "Epochs:  99%|█████████▉| 99/100 [93:01:46<31:13, 1873.66s/it]\n",
      "Batches:  94%|█████████▍| 1400/1488 [27:12<01:38,  1.12s/it]\u001b[A\n",
      "Batches:  94%|█████████▍| 1401/1488 [27:12<01:40,  1.15s/it]\u001b[A"
     ]
    },
    {
     "name": "stdout",
     "output_type": "stream",
     "text": [
      "[99/100][1400/1488]                          LossD: 0.3732 (real: 0.0002, fake: 0.7461)                          LossG: 11.4578 (pred: 2.7677, L1: 8.6901)                          D(x): 0.9998                          D(G(z)): 0.4816 -> 0.0852\n"
     ]
    },
    {
     "name": "stderr",
     "output_type": "stream",
     "text": [
      "\n",
      "Batches:  94%|█████████▍| 1402/1488 [27:14<01:37,  1.14s/it]\u001b[A\n",
      "Batches:  94%|█████████▍| 1403/1488 [27:15<01:39,  1.17s/it]\u001b[A\n",
      "Batches:  94%|█████████▍| 1404/1488 [27:16<01:38,  1.18s/it]\u001b[A\n",
      "                                                             [A\n",
      "Epochs:  99%|█████████▉| 99/100 [93:01:52<31:13, 1873.66s/it]\n",
      "Batches:  94%|█████████▍| 1405/1488 [27:18<01:37,  1.18s/it]\u001b[A\n",
      "Batches:  94%|█████████▍| 1406/1488 [27:18<01:34,  1.15s/it]\u001b[A"
     ]
    },
    {
     "name": "stdout",
     "output_type": "stream",
     "text": [
      "[99/100][1405/1488]                          LossD: 0.0234 (real: 0.0161, fake: 0.0307)                          LossG: 10.2892 (pred: 4.1254, L1: 6.1638)                          D(x): 0.9843                          D(G(z)): 0.0295 -> 0.0241\n"
     ]
    },
    {
     "name": "stderr",
     "output_type": "stream",
     "text": [
      "\n",
      "Batches:  95%|█████████▍| 1407/1488 [27:19<01:30,  1.12s/it]\u001b[A\n",
      "Batches:  95%|█████████▍| 1408/1488 [27:20<01:29,  1.11s/it]\u001b[A\n",
      "Batches:  95%|█████████▍| 1409/1488 [27:21<01:27,  1.11s/it]\u001b[A\n",
      "                                                             [A\n",
      "Epochs:  99%|█████████▉| 99/100 [93:01:57<31:13, 1873.66s/it]\n",
      "Batches:  95%|█████████▍| 1410/1488 [27:24<01:26,  1.12s/it]\u001b[A\n",
      "Batches:  95%|█████████▍| 1411/1488 [27:24<01:26,  1.13s/it]\u001b[A"
     ]
    },
    {
     "name": "stdout",
     "output_type": "stream",
     "text": [
      "[99/100][1410/1488]                          LossD: 0.0149 (real: 0.0088, fake: 0.0209)                          LossG: 10.3248 (pred: 4.1933, L1: 6.1315)                          D(x): 0.9914                          D(G(z)): 0.0205 -> 0.0223\n"
     ]
    },
    {
     "name": "stderr",
     "output_type": "stream",
     "text": [
      "\n",
      "Batches:  95%|█████████▍| 1412/1488 [27:25<01:27,  1.16s/it]\u001b[A\n",
      "Batches:  95%|█████████▍| 1413/1488 [27:26<01:26,  1.15s/it]\u001b[A\n",
      "Batches:  95%|█████████▌| 1414/1488 [27:27<01:25,  1.16s/it]\u001b[A\n",
      "                                                             [A\n",
      "Epochs:  99%|█████████▉| 99/100 [93:02:03<31:13, 1873.66s/it]\n",
      "Batches:  95%|█████████▌| 1415/1488 [27:30<01:25,  1.17s/it]\u001b[A\n",
      "Batches:  95%|█████████▌| 1416/1488 [27:30<01:23,  1.16s/it]\u001b[A"
     ]
    },
    {
     "name": "stdout",
     "output_type": "stream",
     "text": [
      "[99/100][1415/1488]                          LossD: 0.0601 (real: 0.0041, fake: 0.1161)                          LossG: 8.5504 (pred: 3.1388, L1: 5.4116)                          D(x): 0.9959                          D(G(z)): 0.0988 -> 0.0570\n"
     ]
    },
    {
     "name": "stderr",
     "output_type": "stream",
     "text": [
      "\n",
      "Batches:  95%|█████████▌| 1417/1488 [27:31<01:25,  1.21s/it]\u001b[A\n",
      "Batches:  95%|█████████▌| 1418/1488 [27:32<01:25,  1.22s/it]\u001b[A\n",
      "Batches:  95%|█████████▌| 1419/1488 [27:33<01:21,  1.19s/it]\u001b[A\n",
      "                                                             [A\n",
      "Epochs:  99%|█████████▉| 99/100 [93:02:09<31:13, 1873.66s/it]\n",
      "Batches:  95%|█████████▌| 1420/1488 [27:36<01:19,  1.16s/it]\u001b[A\n",
      "Batches:  95%|█████████▌| 1421/1488 [27:36<01:19,  1.19s/it]\u001b[A"
     ]
    },
    {
     "name": "stdout",
     "output_type": "stream",
     "text": [
      "[99/100][1420/1488]                          LossD: 0.1281 (real: 0.0172, fake: 0.2390)                          LossG: 11.5590 (pred: 2.4175, L1: 9.1415)                          D(x): 0.9832                          D(G(z)): 0.1959 -> 0.1153\n"
     ]
    },
    {
     "name": "stderr",
     "output_type": "stream",
     "text": [
      "\n",
      "Batches:  96%|█████████▌| 1422/1488 [27:37<01:17,  1.17s/it]\u001b[A\n",
      "Batches:  96%|█████████▌| 1423/1488 [27:38<01:13,  1.14s/it]\u001b[A\n",
      "Batches:  96%|█████████▌| 1424/1488 [27:39<01:12,  1.13s/it]\u001b[A\n",
      "                                                             [A\n",
      "Epochs:  99%|█████████▉| 99/100 [93:02:15<31:13, 1873.66s/it]\n",
      "Batches:  96%|█████████▌| 1425/1488 [27:41<01:13,  1.16s/it]\u001b[A\n",
      "Batches:  96%|█████████▌| 1426/1488 [27:41<01:12,  1.17s/it]\u001b[A"
     ]
    },
    {
     "name": "stdout",
     "output_type": "stream",
     "text": [
      "[99/100][1425/1488]                          LossD: 0.4618 (real: 0.9178, fake: 0.0058)                          LossG: 11.2487 (pred: 4.6368, L1: 6.6118)                          D(x): 0.4785                          D(G(z)): 0.0057 -> 0.0190\n"
     ]
    },
    {
     "name": "stderr",
     "output_type": "stream",
     "text": [
      "\n",
      "Batches:  96%|█████████▌| 1427/1488 [27:42<01:10,  1.15s/it]\u001b[A\n",
      "Batches:  96%|█████████▌| 1428/1488 [27:44<01:08,  1.14s/it]\u001b[A\n",
      "Batches:  96%|█████████▌| 1429/1488 [27:45<01:06,  1.14s/it]\u001b[A\n",
      "                                                             [A\n",
      "Epochs:  99%|█████████▉| 99/100 [93:02:21<31:13, 1873.66s/it]\n",
      "Batches:  96%|█████████▌| 1430/1488 [27:47<01:07,  1.17s/it]\u001b[A\n",
      "Batches:  96%|█████████▌| 1431/1488 [27:47<01:06,  1.17s/it]\u001b[A"
     ]
    },
    {
     "name": "stdout",
     "output_type": "stream",
     "text": [
      "[99/100][1430/1488]                          LossD: 0.0492 (real: 0.0001, fake: 0.0983)                          LossG: 15.4098 (pred: 3.4146, L1: 11.9951)                          D(x): 0.9999                          D(G(z)): 0.0902 -> 0.0453\n"
     ]
    },
    {
     "name": "stderr",
     "output_type": "stream",
     "text": [
      "\n",
      "Batches:  96%|█████████▌| 1432/1488 [27:48<01:05,  1.16s/it]\u001b[A\n",
      "Batches:  96%|█████████▋| 1433/1488 [27:49<01:03,  1.15s/it]\u001b[A\n",
      "Batches:  96%|█████████▋| 1434/1488 [27:51<01:03,  1.17s/it]\u001b[A\n",
      "                                                             [A\n",
      "Epochs:  99%|█████████▉| 99/100 [93:02:26<31:13, 1873.66s/it]\n",
      "Batches:  96%|█████████▋| 1435/1488 [27:53<01:03,  1.19s/it]\u001b[A\n",
      "Batches:  97%|█████████▋| 1436/1488 [27:53<01:02,  1.21s/it]\u001b[A"
     ]
    },
    {
     "name": "stdout",
     "output_type": "stream",
     "text": [
      "[99/100][1435/1488]                          LossD: 0.0138 (real: 0.0034, fake: 0.0243)                          LossG: 11.4115 (pred: 4.4188, L1: 6.9928)                          D(x): 0.9966                          D(G(z)): 0.0231 -> 0.0189\n"
     ]
    },
    {
     "name": "stderr",
     "output_type": "stream",
     "text": [
      "\n",
      "Batches:  97%|█████████▋| 1437/1488 [27:55<01:05,  1.29s/it]\u001b[A\n",
      "Batches:  97%|█████████▋| 1438/1488 [27:56<01:06,  1.33s/it]\u001b[A\n",
      "Batches:  97%|█████████▋| 1439/1488 [27:57<01:06,  1.36s/it]\u001b[A\n",
      "                                                             [A\n",
      "Epochs:  99%|█████████▉| 99/100 [93:02:34<31:13, 1873.66s/it]\n",
      "Batches:  97%|█████████▋| 1440/1488 [28:00<01:06,  1.38s/it]\u001b[A\n",
      "Batches:  97%|█████████▋| 1441/1488 [28:00<01:04,  1.38s/it]\u001b[A"
     ]
    },
    {
     "name": "stdout",
     "output_type": "stream",
     "text": [
      "[99/100][1440/1488]                          LossD: 0.3973 (real: 0.1085, fake: 0.6861)                          LossG: 11.3664 (pred: 3.4803, L1: 7.8861)                          D(x): 0.9049                          D(G(z)): 0.4187 -> 0.0497\n"
     ]
    },
    {
     "name": "stderr",
     "output_type": "stream",
     "text": [
      "\n",
      "Batches:  97%|█████████▋| 1442/1488 [28:02<01:02,  1.36s/it]\u001b[A\n",
      "Batches:  97%|█████████▋| 1443/1488 [28:03<00:57,  1.29s/it]\u001b[A\n",
      "Batches:  97%|█████████▋| 1444/1488 [28:04<00:55,  1.27s/it]\u001b[A\n",
      "                                                             [A\n",
      "Epochs:  99%|█████████▉| 99/100 [93:02:40<31:13, 1873.66s/it]\n",
      "Batches:  97%|█████████▋| 1445/1488 [28:06<00:54,  1.27s/it]\u001b[A\n",
      "Batches:  97%|█████████▋| 1446/1488 [28:06<00:52,  1.26s/it]\u001b[A"
     ]
    },
    {
     "name": "stdout",
     "output_type": "stream",
     "text": [
      "[99/100][1445/1488]                          LossD: 0.1183 (real: 0.0100, fake: 0.2266)                          LossG: 11.6076 (pred: 3.1051, L1: 8.5024)                          D(x): 0.9901                          D(G(z)): 0.1800 -> 0.0590\n"
     ]
    },
    {
     "name": "stderr",
     "output_type": "stream",
     "text": [
      "\n",
      "Batches:  97%|█████████▋| 1447/1488 [28:08<00:51,  1.26s/it]\u001b[A\n",
      "Batches:  97%|█████████▋| 1448/1488 [28:09<00:49,  1.23s/it]\u001b[A\n",
      "Batches:  97%|█████████▋| 1449/1488 [28:10<00:47,  1.23s/it]\u001b[A\n",
      "                                                             [A\n",
      "Epochs:  99%|█████████▉| 99/100 [93:02:46<31:13, 1873.66s/it]\n",
      "Batches:  97%|█████████▋| 1450/1488 [28:12<00:45,  1.21s/it]\u001b[A\n",
      "Batches:  98%|█████████▊| 1451/1488 [28:12<00:45,  1.22s/it]\u001b[A"
     ]
    },
    {
     "name": "stdout",
     "output_type": "stream",
     "text": [
      "[99/100][1450/1488]                          LossD: 0.0171 (real: 0.0038, fake: 0.0304)                          LossG: 18.7665 (pred: 4.2353, L1: 14.5312)                          D(x): 0.9962                          D(G(z)): 0.0289 -> 0.0240\n"
     ]
    },
    {
     "name": "stderr",
     "output_type": "stream",
     "text": [
      "\n",
      "Batches:  98%|█████████▊| 1452/1488 [28:14<00:43,  1.22s/it]\u001b[A\n",
      "Batches:  98%|█████████▊| 1453/1488 [28:15<00:42,  1.21s/it]\u001b[A\n",
      "Batches:  98%|█████████▊| 1454/1488 [28:16<00:41,  1.21s/it]\u001b[A\n",
      "                                                             [A\n",
      "Epochs:  99%|█████████▉| 99/100 [93:02:52<31:13, 1873.66s/it]\n",
      "Batches:  98%|█████████▊| 1455/1488 [28:18<00:39,  1.19s/it]\u001b[A\n",
      "Batches:  98%|█████████▊| 1456/1488 [28:19<00:38,  1.21s/it]\u001b[A"
     ]
    },
    {
     "name": "stdout",
     "output_type": "stream",
     "text": [
      "[99/100][1455/1488]                          LossD: 0.1316 (real: 0.0000, fake: 0.2632)                          LossG: 9.9174 (pred: 3.5552, L1: 6.3623)                          D(x): 1.0000                          D(G(z)): 0.2151 -> 0.0416\n"
     ]
    },
    {
     "name": "stderr",
     "output_type": "stream",
     "text": [
      "\n",
      "Batches:  98%|█████████▊| 1457/1488 [28:20<00:37,  1.22s/it]\u001b[A\n",
      "Batches:  98%|█████████▊| 1458/1488 [28:21<00:35,  1.20s/it]\u001b[A\n",
      "Batches:  98%|█████████▊| 1459/1488 [28:22<00:34,  1.19s/it]\u001b[A\n",
      "                                                             [A\n",
      "Epochs:  99%|█████████▉| 99/100 [93:02:58<31:13, 1873.66s/it]\n",
      "Batches:  98%|█████████▊| 1460/1488 [28:24<00:33,  1.19s/it]\u001b[A\n",
      "Batches:  98%|█████████▊| 1461/1488 [28:24<00:32,  1.20s/it]\u001b[A"
     ]
    },
    {
     "name": "stdout",
     "output_type": "stream",
     "text": [
      "[99/100][1460/1488]                          LossD: 0.0784 (real: 0.0000, fake: 0.1569)                          LossG: 14.3513 (pred: 2.9420, L1: 11.4093)                          D(x): 1.0000                          D(G(z)): 0.1333 -> 0.0746\n"
     ]
    },
    {
     "name": "stderr",
     "output_type": "stream",
     "text": [
      "\n",
      "Batches:  98%|█████████▊| 1462/1488 [28:26<00:31,  1.20s/it]\u001b[A\n",
      "Batches:  98%|█████████▊| 1463/1488 [28:27<00:28,  1.14s/it]\u001b[A\n",
      "Batches:  98%|█████████▊| 1464/1488 [28:28<00:26,  1.12s/it]\u001b[A\n",
      "                                                             [A\n",
      "Epochs:  99%|█████████▉| 99/100 [93:03:03<31:13, 1873.66s/it]\n",
      "Batches:  98%|█████████▊| 1465/1488 [28:30<00:25,  1.11s/it]\u001b[A\n",
      "Batches:  99%|█████████▊| 1466/1488 [28:30<00:25,  1.14s/it]\u001b[A"
     ]
    },
    {
     "name": "stdout",
     "output_type": "stream",
     "text": [
      "[99/100][1465/1488]                          LossD: 0.0700 (real: 0.0061, fake: 0.1339)                          LossG: 11.3016 (pred: 3.0932, L1: 8.2084)                          D(x): 0.9940                          D(G(z)): 0.1197 -> 0.0608\n"
     ]
    },
    {
     "name": "stderr",
     "output_type": "stream",
     "text": [
      "\n",
      "Batches:  99%|█████████▊| 1467/1488 [28:31<00:24,  1.17s/it]\u001b[A\n",
      "Batches:  99%|█████████▊| 1468/1488 [28:32<00:23,  1.16s/it]\u001b[A\n",
      "Batches:  99%|█████████▊| 1469/1488 [28:34<00:22,  1.19s/it]\u001b[A\n",
      "                                                             [A\n",
      "Epochs:  99%|█████████▉| 99/100 [93:03:09<31:13, 1873.66s/it]\n",
      "Batches:  99%|█████████▉| 1470/1488 [28:36<00:21,  1.17s/it]\u001b[A\n",
      "Batches:  99%|█████████▉| 1471/1488 [28:36<00:20,  1.20s/it]\u001b[A"
     ]
    },
    {
     "name": "stdout",
     "output_type": "stream",
     "text": [
      "[99/100][1470/1488]                          LossD: 0.0069 (real: 0.0005, fake: 0.0132)                          LossG: 12.0505 (pred: 4.8581, L1: 7.1924)                          D(x): 0.9995                          D(G(z)): 0.0131 -> 0.0123\n"
     ]
    },
    {
     "name": "stderr",
     "output_type": "stream",
     "text": [
      "\n",
      "Batches:  99%|█████████▉| 1472/1488 [28:37<00:18,  1.18s/it]\u001b[A\n",
      "Batches:  99%|█████████▉| 1473/1488 [28:38<00:17,  1.17s/it]\u001b[A\n",
      "Batches:  99%|█████████▉| 1474/1488 [28:40<00:16,  1.20s/it]\u001b[A\n",
      "                                                             [A\n",
      "Epochs:  99%|█████████▉| 99/100 [93:03:16<31:13, 1873.66s/it]\n",
      "Batches:  99%|█████████▉| 1475/1488 [28:42<00:15,  1.21s/it]\u001b[A\n",
      "Batches:  99%|█████████▉| 1476/1488 [28:42<00:14,  1.24s/it]\u001b[A"
     ]
    },
    {
     "name": "stdout",
     "output_type": "stream",
     "text": [
      "[99/100][1475/1488]                          LossD: 0.0278 (real: 0.0077, fake: 0.0479)                          LossG: 17.0354 (pred: 3.6481, L1: 13.3874)                          D(x): 0.9926                          D(G(z)): 0.0460 -> 0.0444\n"
     ]
    },
    {
     "name": "stderr",
     "output_type": "stream",
     "text": [
      "\n",
      "Batches:  99%|█████████▉| 1477/1488 [28:44<00:14,  1.27s/it]\u001b[A\n",
      "Batches:  99%|█████████▉| 1478/1488 [28:45<00:12,  1.23s/it]\u001b[A\n",
      "Batches:  99%|█████████▉| 1479/1488 [28:46<00:11,  1.25s/it]\u001b[A\n",
      "                                                             [A\n",
      "Epochs:  99%|█████████▉| 99/100 [93:03:22<31:13, 1873.66s/it]\n",
      "Batches:  99%|█████████▉| 1480/1488 [28:48<00:09,  1.22s/it]\u001b[A\n",
      "Batches: 100%|█████████▉| 1481/1488 [28:48<00:08,  1.24s/it]\u001b[A"
     ]
    },
    {
     "name": "stdout",
     "output_type": "stream",
     "text": [
      "[99/100][1480/1488]                          LossD: 0.1586 (real: 0.3095, fake: 0.0076)                          LossG: 15.2710 (pred: 4.9157, L1: 10.3552)                          D(x): 0.7625                          D(G(z)): 0.0075 -> 0.0126\n"
     ]
    },
    {
     "name": "stderr",
     "output_type": "stream",
     "text": [
      "\n",
      "Batches: 100%|█████████▉| 1482/1488 [28:50<00:07,  1.27s/it]\u001b[A\n",
      "Batches: 100%|█████████▉| 1483/1488 [28:51<00:06,  1.25s/it]\u001b[A\n",
      "Batches: 100%|█████████▉| 1484/1488 [28:52<00:04,  1.24s/it]\u001b[A\n",
      "                                                             [A\n",
      "Epochs:  99%|█████████▉| 99/100 [93:03:28<31:13, 1873.66s/it]\n",
      "Batches: 100%|█████████▉| 1485/1488 [28:55<00:03,  1.23s/it]\u001b[A\n",
      "Batches: 100%|█████████▉| 1486/1488 [28:55<00:02,  1.21s/it]\u001b[A"
     ]
    },
    {
     "name": "stdout",
     "output_type": "stream",
     "text": [
      "[99/100][1485/1488]                          LossD: 0.0113 (real: 0.0067, fake: 0.0160)                          LossG: 13.0138 (pred: 5.2686, L1: 7.7451)                          D(x): 0.9934                          D(G(z)): 0.0144 -> 0.0100\n"
     ]
    },
    {
     "name": "stderr",
     "output_type": "stream",
     "text": [
      "\n",
      "Batches: 100%|█████████▉| 1487/1488 [28:56<00:01,  1.24s/it]\u001b[A\n",
      "Batches: 100%|██████████| 1488/1488 [28:59<00:00,  1.17s/it]\u001b[A\n",
      "Epochs: 100%|██████████| 100/100 [93:03:32<00:00, 3350.13s/it]\n"
     ]
    }
   ],
   "source": [
    "trainer.train(100)"
   ]
  },
  {
   "cell_type": "markdown",
   "metadata": {},
   "source": [
    "### Save the network weights"
   ]
  },
  {
   "cell_type": "code",
   "execution_count": 6,
   "metadata": {},
   "outputs": [],
   "source": [
    "trainer.save_networks(\"/home/yuri/workspace/pytorch/weights\", \"100ep20200605\")"
   ]
  },
  {
   "cell_type": "markdown",
   "metadata": {},
   "source": [
    "## Training Losses <br/>\n",
    "\n",
    "We can see that the Generator and the Discriminator never converged, which means they were constantly trying to outsmart eachother (expected result)."
   ]
  },
  {
   "cell_type": "code",
   "execution_count": 8,
   "metadata": {},
   "outputs": [
    {
     "data": {
      "image/png": "[encoded data removed]",
      "text/plain": [
       "<Figure size 720x360 with 1 Axes>"
      ]
     },
     "metadata": {
      "needs_background": "light"
     },
     "output_type": "display_data"
    }
   ],
   "source": [
    "trainer.print_losses()"
   ]
  },
  {
   "cell_type": "markdown",
   "metadata": {},
   "source": [
    "## Evaluation"
   ]
  },
  {
   "cell_type": "code",
   "execution_count": 4,
   "metadata": {},
   "outputs": [],
   "source": [
    "trainer.load_networks(\"/home/yuri/workspace/pytorch/weights\", \"100ep20200605\")"
   ]
  },
  {
   "cell_type": "markdown",
   "metadata": {},
   "source": [
    "We can see that even though the generator had a small L1 loss when compared with the ground truth, the prediction error is high, due to the discriminator learning better how to distinguish real and fake images."
   ]
  },
  {
   "cell_type": "code",
   "execution_count": 5,
   "metadata": {},
   "outputs": [
    {
     "name": "stderr",
     "output_type": "stream",
     "text": [
      "Test Batches: 100%|██████████| 32/32 [00:58<00:00,  1.83s/it]"
     ]
    },
    {
     "name": "stdout",
     "output_type": "stream",
     "text": [
      "Generator L1 error: 0.0944\n",
      "Generator prediction error: 4.4344\n",
      "Discriminator average prediction (the closer to 1 the better): 0.0246\n"
     ]
    },
    {
     "name": "stderr",
     "output_type": "stream",
     "text": [
      "\n"
     ]
    }
   ],
   "source": [
    "trainer.evaluate()"
   ]
  },
  {
   "cell_type": "markdown",
   "metadata": {},
   "source": [
    "## Visualizing Results <br/>\n",
    "\n",
    "Generating semantic segmentation of images not present in the training dataset."
   ]
  },
  {
   "cell_type": "code",
   "execution_count": 15,
   "metadata": {},
   "outputs": [
    {
     "data": {
      "image/png": "[encoded data removed]",
      "text/plain": [
       "<Figure size 432x288 with 2 Axes>"
      ]
     },
     "metadata": {
      "needs_background": "light"
     },
     "output_type": "display_data"
    }
   ],
   "source": [
    "def test_image(path):\n",
    "    img = Image.open(path).convert(\"RGB\")\n",
    "    out = trainer.generate(img)\n",
    "    fig = plt.figure()\n",
    "    fig.add_subplot(1, 2, 1)\n",
    "    plt.imshow(img)\n",
    "    fig.add_subplot(1, 2, 2)\n",
    "    plt.imshow(out)\n",
    "    plt.show()\n",
    "    \n",
    "test_image(\"/home/yuri/workspace/pytorch/test_images/1.png\")"
   ]
  },
  {
   "cell_type": "code",
   "execution_count": 16,
   "metadata": {},
   "outputs": [
    {
     "data": {
      "image/png": "[encoded data removed]",
      "text/plain": [
       "<Figure size 432x288 with 2 Axes>"
      ]
     },
     "metadata": {
      "needs_background": "light"
     },
     "output_type": "display_data"
    }
   ],
   "source": [
    "test_image(\"/home/yuri/workspace/pytorch/test_images/2.png\")"
   ]
  },
  {
   "cell_type": "code",
   "execution_count": 17,
   "metadata": {},
   "outputs": [
    {
     "data": {
      "image/png": "[encoded data removed]",
      "text/plain": [
       "<Figure size 432x288 with 2 Axes>"
      ]
     },
     "metadata": {
      "needs_background": "light"
     },
     "output_type": "display_data"
    }
   ],
   "source": [
    "test_image(\"/home/yuri/workspace/pytorch/test_images/3.png\")"
   ]
  },
  {
   "cell_type": "code",
   "execution_count": 18,
   "metadata": {},
   "outputs": [
    {
     "data": {
      "image/png": "[encoded data removed]",
      "text/plain": [
       "<Figure size 432x288 with 2 Axes>"
      ]
     },
     "metadata": {
      "needs_background": "light"
     },
     "output_type": "display_data"
    }
   ],
   "source": [
    "test_image(\"/home/yuri/workspace/pytorch/test_images/4.png\")"
   ]
  },
  {
   "cell_type": "code",
   "execution_count": null,
   "metadata": {},
   "outputs": [],
   "source": []
  }
 ],
 "metadata": {
  "celltoolbar": "Edit Metadata",
  "kernelspec": {
   "display_name": "Python 3.6.10 64-bit ('pytorch': virtualenv)",
   "language": "python",
   "name": "python361064bitpytorchvirtualenvd59703a1036943fe8cb882f2eefa042e"
  },
  "language_info": {
   "codemirror_mode": {
    "name": "ipython",
    "version": 3
   },
   "file_extension": ".py",
   "mimetype": "text/x-python",
   "name": "python",
   "nbconvert_exporter": "python",
   "pygments_lexer": "ipython3",
   "version": "3.6.10"
  }
 },
 "nbformat": 4,
 "nbformat_minor": 2
}

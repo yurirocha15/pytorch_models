{
 "metadata": {
  "language_info": {
   "codemirror_mode": {
    "name": "ipython",
    "version": 3
   },
   "file_extension": ".py",
   "mimetype": "text/x-python",
   "name": "python",
   "nbconvert_exporter": "python",
   "pygments_lexer": "ipython3",
   "version": "3.6.10-final"
  },
  "orig_nbformat": 2,
  "kernelspec": {
   "name": "python361064bitpytorchvirtualenvd59703a1036943fe8cb882f2eefa042e",
   "display_name": "Python 3.6.10 64-bit ('pytorch': virtualenv)"
  }
 },
 "nbformat": 4,
 "nbformat_minor": 2,
 "cells": [
  {
   "cell_type": "markdown",
   "metadata": {},
   "source": [
    "# Visualizing models using Tensorboard Tutorial"
   ]
  },
  {
   "cell_type": "markdown",
   "metadata": {},
   "source": [
    "## Imports"
   ]
  },
  {
   "cell_type": "code",
   "execution_count": 2,
   "metadata": {},
   "outputs": [],
   "source": [
    "import matplotlib.pyplot as plt\n",
    "import numpy as np\n",
    "import torch\n",
    "import torchvision\n",
    "import torchvision.transforms as transforms\n",
    "import torch.nn as nn\n",
    "import torch.nn.functional as F\n",
    "import torch.optim as optim"
   ]
  },
  {
   "cell_type": "markdown",
   "metadata": {},
   "source": [
    "## Setting up the Dataset"
   ]
  },
  {
   "cell_type": "code",
   "execution_count": 3,
   "metadata": {
    "tags": []
   },
   "outputs": [],
   "source": [
    "#transforms\n",
    "transform = transforms.Compose(\n",
    "    [transforms.ToTensor(),\n",
    "    transforms.Normalize((0.5,), (0.5,))]\n",
    ")\n",
    "\n",
    "#datasets\n",
    "trainset = torchvision.datasets.FashionMNIST('./data',\n",
    "    download=True,\n",
    "    train=True,\n",
    "    transform=transform)\n",
    "testset = torchvision.datasets.FashionMNIST('./data',\n",
    "    download=True,\n",
    "    train=False,\n",
    "    transform=transform)\n",
    "\n",
    "#dataloaders\n",
    "trainloader = torch.utils.data.DataLoader(trainset,\n",
    "    batch_size=4,\n",
    "    shuffle=True,\n",
    "    num_workers=12)\n",
    "testloader = torch.utils.data.DataLoader(testset,\n",
    "    batch_size=4,\n",
    "    shuffle=False,\n",
    "    num_workers=12)\n",
    "\n",
    "#Classes names\n",
    "classes = ('T-shirt', 'Trouser', 'Pullover', 'Dress', 'Coat', 'Sandal', 'Shirt', 'Sneaker', 'Bag', 'Ankle Boot')\n"
   ]
  },
  {
   "cell_type": "markdown",
   "metadata": {},
   "source": [
    "## Auxiliar function for showing an image"
   ]
  },
  {
   "cell_type": "code",
   "execution_count": 4,
   "metadata": {},
   "outputs": [],
   "source": [
    "def matplotlib_imshow(img, one_channel=False):\n",
    "    if one_channel:\n",
    "        img = img.mean(dim=0)\n",
    "    img = img / 2 + 0.5 #unnormalize image\n",
    "    npimg = img.numpy()\n",
    "    if one_channel:\n",
    "        plt.imshow(npimg, cmap=\"Greys\")\n",
    "    else:\n",
    "        plt.imshow(np.transpose(npimg, (1,2,0)))"
   ]
  },
  {
   "cell_type": "markdown",
   "metadata": {},
   "source": [
    "## Setting up the model"
   ]
  },
  {
   "cell_type": "code",
   "execution_count": 5,
   "metadata": {},
   "outputs": [],
   "source": [
    "class Flatten(nn.Module):\n",
    "    def forward(self, X):\n",
    "        return X.view(X.size()[0], -1)\n",
    "\n",
    "class Net(nn.Module):\n",
    "    def __init__(self):\n",
    "        super(Net, self).__init__()\n",
    "        self.layers = [\n",
    "            nn.Conv2d(in_channels=1, out_channels=6, kernel_size=5),\n",
    "            nn.ReLU(),\n",
    "            nn.MaxPool2d(kernel_size=2, stride=2),\n",
    "            nn.Conv2d(in_channels=6, out_channels=16, kernel_size=5),\n",
    "            nn.ReLU(),\n",
    "            nn.MaxPool2d(kernel_size=2, stride=2),\n",
    "            Flatten(),\n",
    "            nn.Linear(in_features=16*4*4, out_features=120),\n",
    "            nn.ReLU(),\n",
    "            nn.Linear(in_features=120, out_features=84),\n",
    "            nn.ReLU(),\n",
    "            nn.Linear(in_features=84, out_features=10)\n",
    "        ]\n",
    "\n",
    "        self.layers = nn.Sequential(*self.layers)\n",
    "\n",
    "    def forward(self, X):\n",
    "        return self.layers(X)\n",
    "    \n",
    "net = Net()"
   ]
  },
  {
   "cell_type": "code",
   "execution_count": 6,
   "metadata": {},
   "outputs": [],
   "source": [
    "criterion = nn.CrossEntropyLoss()\n",
    "optimizer = optim.Adam(net.parameters(), lr=0.001)"
   ]
  },
  {
   "cell_type": "markdown",
   "metadata": {},
   "source": [
    "## Setting up Tensorboard"
   ]
  },
  {
   "cell_type": "code",
   "execution_count": 7,
   "metadata": {},
   "outputs": [],
   "source": [
    "from torch.utils.tensorboard import SummaryWriter\n",
    "\n",
    "writer = SummaryWriter('./runs/fashion_mnist_experiment_1')"
   ]
  },
  {
   "cell_type": "markdown",
   "metadata": {},
   "source": [
    "## Writting to Tensorboard"
   ]
  },
  {
   "cell_type": "code",
   "execution_count": 8,
   "metadata": {},
   "outputs": [
    {
     "output_type": "display_data",
     "data": {
      "text/plain": "<Figure size 432x288 with 1 Axes>",
      "image/svg+xml": "<?xml version=\"1.0\" encoding=\"utf-8\" standalone=\"no\"?>\n<!DOCTYPE svg PUBLIC \"-//W3C//DTD SVG 1.1//EN\"\n  \"http://www.w3.org/Graphics/SVG/1.1/DTD/svg11.dtd\">\n<!-- Created with matplotlib (https://matplotlib.org/) -->\n<svg height=\"121.321606pt\" version=\"1.1\" viewBox=\"0 0 374.352357 121.321606\" width=\"374.352357pt\" xmlns=\"http://www.w3.org/2000/svg\" xmlns:xlink=\"http://www.w3.org/1999/xlink\">\n <defs>\n  <style type=\"text/css\">\n*{stroke-linecap:butt;stroke-linejoin:round;}\n  </style>\n </defs>\n <g id=\"figure_1\">\n  <g id=\"patch_1\">\n   <path d=\"M -0 121.321606 \nL 374.352357 121.321606 \nL 374.352357 0 \nL -0 0 \nz\n\" style=\"fill:none;\"/>\n  </g>\n  <g id=\"axes_1\">\n   <g id=\"patch_2\">\n    <path d=\"M 26.925 97.443481 \nL 361.725 97.443481 \nL 361.725 9.627088 \nL 26.925 9.627088 \nz\n\" style=\"fill:#ffffff;\"/>\n   </g>\n   <g clip-path=\"url(#pb902039c23)\">\n    <image height=\"88\" id=\"image439084d282\" transform=\"scale(1 -1)translate(0 -88)\" width=\"335\" x=\"26.925\" xlink:href=\"data:image/png;base64,\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\" y=\"-9.443481\"/>\n   </g>\n   <g id=\"matplotlib.axis_1\">\n    <g id=\"xtick_1\">\n     <g id=\"line2d_1\">\n      <defs>\n       <path d=\"M 0 0 \nL 0 3.5 \n\" id=\"m3ff76e4b13\" style=\"stroke:#000000;stroke-width:0.8;\"/>\n      </defs>\n      <g>\n       <use style=\"stroke:#000000;stroke-width:0.8;\" x=\"28.297131\" xlink:href=\"#m3ff76e4b13\" y=\"97.443481\"/>\n      </g>\n     </g>\n     <g id=\"text_1\">\n      <!-- 0 -->\n      <defs>\n       <path d=\"M 31.78125 66.40625 \nQ 24.171875 66.40625 20.328125 58.90625 \nQ 16.5 51.421875 16.5 36.375 \nQ 16.5 21.390625 20.328125 13.890625 \nQ 24.171875 6.390625 31.78125 6.390625 \nQ 39.453125 6.390625 43.28125 13.890625 \nQ 47.125 21.390625 47.125 36.375 \nQ 47.125 51.421875 43.28125 58.90625 \nQ 39.453125 66.40625 31.78125 66.40625 \nz\nM 31.78125 74.21875 \nQ 44.046875 74.21875 50.515625 64.515625 \nQ 56.984375 54.828125 56.984375 36.375 \nQ 56.984375 17.96875 50.515625 8.265625 \nQ 44.046875 -1.421875 31.78125 -1.421875 \nQ 19.53125 -1.421875 13.0625 8.265625 \nQ 6.59375 17.96875 6.59375 36.375 \nQ 6.59375 54.828125 13.0625 64.515625 \nQ 19.53125 74.21875 31.78125 74.21875 \nz\n\" id=\"DejaVuSans-48\"/>\n      </defs>\n      <g transform=\"translate(25.115881 112.041919)scale(0.1 -0.1)\">\n       <use xlink:href=\"#DejaVuSans-48\"/>\n      </g>\n     </g>\n    </g>\n    <g id=\"xtick_2\">\n     <g id=\"line2d_2\">\n      <g>\n       <use style=\"stroke:#000000;stroke-width:0.8;\" x=\"83.182377\" xlink:href=\"#m3ff76e4b13\" y=\"97.443481\"/>\n      </g>\n     </g>\n     <g id=\"text_2\">\n      <!-- 20 -->\n      <defs>\n       <path d=\"M 19.1875 8.296875 \nL 53.609375 8.296875 \nL 53.609375 0 \nL 7.328125 0 \nL 7.328125 8.296875 \nQ 12.9375 14.109375 22.625 23.890625 \nQ 32.328125 33.6875 34.8125 36.53125 \nQ 39.546875 41.84375 41.421875 45.53125 \nQ 43.3125 49.21875 43.3125 52.78125 \nQ 43.3125 58.59375 39.234375 62.25 \nQ 35.15625 65.921875 28.609375 65.921875 \nQ 23.96875 65.921875 18.8125 64.3125 \nQ 13.671875 62.703125 7.8125 59.421875 \nL 7.8125 69.390625 \nQ 13.765625 71.78125 18.9375 73 \nQ 24.125 74.21875 28.421875 74.21875 \nQ 39.75 74.21875 46.484375 68.546875 \nQ 53.21875 62.890625 53.21875 53.421875 \nQ 53.21875 48.921875 51.53125 44.890625 \nQ 49.859375 40.875 45.40625 35.40625 \nQ 44.1875 33.984375 37.640625 27.21875 \nQ 31.109375 20.453125 19.1875 8.296875 \nz\n\" id=\"DejaVuSans-50\"/>\n      </defs>\n      <g transform=\"translate(76.819877 112.041919)scale(0.1 -0.1)\">\n       <use xlink:href=\"#DejaVuSans-50\"/>\n       <use x=\"63.623047\" xlink:href=\"#DejaVuSans-48\"/>\n      </g>\n     </g>\n    </g>\n    <g id=\"xtick_3\">\n     <g id=\"line2d_3\">\n      <g>\n       <use style=\"stroke:#000000;stroke-width:0.8;\" x=\"138.067623\" xlink:href=\"#m3ff76e4b13\" y=\"97.443481\"/>\n      </g>\n     </g>\n     <g id=\"text_3\">\n      <!-- 40 -->\n      <defs>\n       <path d=\"M 37.796875 64.3125 \nL 12.890625 25.390625 \nL 37.796875 25.390625 \nz\nM 35.203125 72.90625 \nL 47.609375 72.90625 \nL 47.609375 25.390625 \nL 58.015625 25.390625 \nL 58.015625 17.1875 \nL 47.609375 17.1875 \nL 47.609375 0 \nL 37.796875 0 \nL 37.796875 17.1875 \nL 4.890625 17.1875 \nL 4.890625 26.703125 \nz\n\" id=\"DejaVuSans-52\"/>\n      </defs>\n      <g transform=\"translate(131.705123 112.041919)scale(0.1 -0.1)\">\n       <use xlink:href=\"#DejaVuSans-52\"/>\n       <use x=\"63.623047\" xlink:href=\"#DejaVuSans-48\"/>\n      </g>\n     </g>\n    </g>\n    <g id=\"xtick_4\">\n     <g id=\"line2d_4\">\n      <g>\n       <use style=\"stroke:#000000;stroke-width:0.8;\" x=\"192.952869\" xlink:href=\"#m3ff76e4b13\" y=\"97.443481\"/>\n      </g>\n     </g>\n     <g id=\"text_4\">\n      <!-- 60 -->\n      <defs>\n       <path d=\"M 33.015625 40.375 \nQ 26.375 40.375 22.484375 35.828125 \nQ 18.609375 31.296875 18.609375 23.390625 \nQ 18.609375 15.53125 22.484375 10.953125 \nQ 26.375 6.390625 33.015625 6.390625 \nQ 39.65625 6.390625 43.53125 10.953125 \nQ 47.40625 15.53125 47.40625 23.390625 \nQ 47.40625 31.296875 43.53125 35.828125 \nQ 39.65625 40.375 33.015625 40.375 \nz\nM 52.59375 71.296875 \nL 52.59375 62.3125 \nQ 48.875 64.0625 45.09375 64.984375 \nQ 41.3125 65.921875 37.59375 65.921875 \nQ 27.828125 65.921875 22.671875 59.328125 \nQ 17.53125 52.734375 16.796875 39.40625 \nQ 19.671875 43.65625 24.015625 45.921875 \nQ 28.375 48.1875 33.59375 48.1875 \nQ 44.578125 48.1875 50.953125 41.515625 \nQ 57.328125 34.859375 57.328125 23.390625 \nQ 57.328125 12.15625 50.6875 5.359375 \nQ 44.046875 -1.421875 33.015625 -1.421875 \nQ 20.359375 -1.421875 13.671875 8.265625 \nQ 6.984375 17.96875 6.984375 36.375 \nQ 6.984375 53.65625 15.1875 63.9375 \nQ 23.390625 74.21875 37.203125 74.21875 \nQ 40.921875 74.21875 44.703125 73.484375 \nQ 48.484375 72.75 52.59375 71.296875 \nz\n\" id=\"DejaVuSans-54\"/>\n      </defs>\n      <g transform=\"translate(186.590369 112.041919)scale(0.1 -0.1)\">\n       <use xlink:href=\"#DejaVuSans-54\"/>\n       <use x=\"63.623047\" xlink:href=\"#DejaVuSans-48\"/>\n      </g>\n     </g>\n    </g>\n    <g id=\"xtick_5\">\n     <g id=\"line2d_5\">\n      <g>\n       <use style=\"stroke:#000000;stroke-width:0.8;\" x=\"247.838115\" xlink:href=\"#m3ff76e4b13\" y=\"97.443481\"/>\n      </g>\n     </g>\n     <g id=\"text_5\">\n      <!-- 80 -->\n      <defs>\n       <path d=\"M 31.78125 34.625 \nQ 24.75 34.625 20.71875 30.859375 \nQ 16.703125 27.09375 16.703125 20.515625 \nQ 16.703125 13.921875 20.71875 10.15625 \nQ 24.75 6.390625 31.78125 6.390625 \nQ 38.8125 6.390625 42.859375 10.171875 \nQ 46.921875 13.96875 46.921875 20.515625 \nQ 46.921875 27.09375 42.890625 30.859375 \nQ 38.875 34.625 31.78125 34.625 \nz\nM 21.921875 38.8125 \nQ 15.578125 40.375 12.03125 44.71875 \nQ 8.5 49.078125 8.5 55.328125 \nQ 8.5 64.0625 14.71875 69.140625 \nQ 20.953125 74.21875 31.78125 74.21875 \nQ 42.671875 74.21875 48.875 69.140625 \nQ 55.078125 64.0625 55.078125 55.328125 \nQ 55.078125 49.078125 51.53125 44.71875 \nQ 48 40.375 41.703125 38.8125 \nQ 48.828125 37.15625 52.796875 32.3125 \nQ 56.78125 27.484375 56.78125 20.515625 \nQ 56.78125 9.90625 50.3125 4.234375 \nQ 43.84375 -1.421875 31.78125 -1.421875 \nQ 19.734375 -1.421875 13.25 4.234375 \nQ 6.78125 9.90625 6.78125 20.515625 \nQ 6.78125 27.484375 10.78125 32.3125 \nQ 14.796875 37.15625 21.921875 38.8125 \nz\nM 18.3125 54.390625 \nQ 18.3125 48.734375 21.84375 45.5625 \nQ 25.390625 42.390625 31.78125 42.390625 \nQ 38.140625 42.390625 41.71875 45.5625 \nQ 45.3125 48.734375 45.3125 54.390625 \nQ 45.3125 60.0625 41.71875 63.234375 \nQ 38.140625 66.40625 31.78125 66.40625 \nQ 25.390625 66.40625 21.84375 63.234375 \nQ 18.3125 60.0625 18.3125 54.390625 \nz\n\" id=\"DejaVuSans-56\"/>\n      </defs>\n      <g transform=\"translate(241.475615 112.041919)scale(0.1 -0.1)\">\n       <use xlink:href=\"#DejaVuSans-56\"/>\n       <use x=\"63.623047\" xlink:href=\"#DejaVuSans-48\"/>\n      </g>\n     </g>\n    </g>\n    <g id=\"xtick_6\">\n     <g id=\"line2d_6\">\n      <g>\n       <use style=\"stroke:#000000;stroke-width:0.8;\" x=\"302.723361\" xlink:href=\"#m3ff76e4b13\" y=\"97.443481\"/>\n      </g>\n     </g>\n     <g id=\"text_6\">\n      <!-- 100 -->\n      <defs>\n       <path d=\"M 12.40625 8.296875 \nL 28.515625 8.296875 \nL 28.515625 63.921875 \nL 10.984375 60.40625 \nL 10.984375 69.390625 \nL 28.421875 72.90625 \nL 38.28125 72.90625 \nL 38.28125 8.296875 \nL 54.390625 8.296875 \nL 54.390625 0 \nL 12.40625 0 \nz\n\" id=\"DejaVuSans-49\"/>\n      </defs>\n      <g transform=\"translate(293.179611 112.041919)scale(0.1 -0.1)\">\n       <use xlink:href=\"#DejaVuSans-49\"/>\n       <use x=\"63.623047\" xlink:href=\"#DejaVuSans-48\"/>\n       <use x=\"127.246094\" xlink:href=\"#DejaVuSans-48\"/>\n      </g>\n     </g>\n    </g>\n    <g id=\"xtick_7\">\n     <g id=\"line2d_7\">\n      <g>\n       <use style=\"stroke:#000000;stroke-width:0.8;\" x=\"357.608607\" xlink:href=\"#m3ff76e4b13\" y=\"97.443481\"/>\n      </g>\n     </g>\n     <g id=\"text_7\">\n      <!-- 120 -->\n      <g transform=\"translate(348.064857 112.041919)scale(0.1 -0.1)\">\n       <use xlink:href=\"#DejaVuSans-49\"/>\n       <use x=\"63.623047\" xlink:href=\"#DejaVuSans-50\"/>\n       <use x=\"127.246094\" xlink:href=\"#DejaVuSans-48\"/>\n      </g>\n     </g>\n    </g>\n   </g>\n   <g id=\"matplotlib.axis_2\">\n    <g id=\"ytick_1\">\n     <g id=\"line2d_8\">\n      <defs>\n       <path d=\"M 0 0 \nL -3.5 0 \n\" id=\"med9474bf5c\" style=\"stroke:#000000;stroke-width:0.8;\"/>\n      </defs>\n      <g>\n       <use style=\"stroke:#000000;stroke-width:0.8;\" x=\"26.925\" xlink:href=\"#med9474bf5c\" y=\"10.999219\"/>\n      </g>\n     </g>\n     <g id=\"text_8\">\n      <!-- 0 -->\n      <g transform=\"translate(13.5625 14.798437)scale(0.1 -0.1)\">\n       <use xlink:href=\"#DejaVuSans-48\"/>\n      </g>\n     </g>\n    </g>\n    <g id=\"ytick_2\">\n     <g id=\"line2d_9\">\n      <g>\n       <use style=\"stroke:#000000;stroke-width:0.8;\" x=\"26.925\" xlink:href=\"#med9474bf5c\" y=\"38.441842\"/>\n      </g>\n     </g>\n     <g id=\"text_9\">\n      <!-- 10 -->\n      <g transform=\"translate(7.2 42.24106)scale(0.1 -0.1)\">\n       <use xlink:href=\"#DejaVuSans-49\"/>\n       <use x=\"63.623047\" xlink:href=\"#DejaVuSans-48\"/>\n      </g>\n     </g>\n    </g>\n    <g id=\"ytick_3\">\n     <g id=\"line2d_10\">\n      <g>\n       <use style=\"stroke:#000000;stroke-width:0.8;\" x=\"26.925\" xlink:href=\"#med9474bf5c\" y=\"65.884465\"/>\n      </g>\n     </g>\n     <g id=\"text_10\">\n      <!-- 20 -->\n      <g transform=\"translate(7.2 69.683683)scale(0.1 -0.1)\">\n       <use xlink:href=\"#DejaVuSans-50\"/>\n       <use x=\"63.623047\" xlink:href=\"#DejaVuSans-48\"/>\n      </g>\n     </g>\n    </g>\n    <g id=\"ytick_4\">\n     <g id=\"line2d_11\">\n      <g>\n       <use style=\"stroke:#000000;stroke-width:0.8;\" x=\"26.925\" xlink:href=\"#med9474bf5c\" y=\"93.327088\"/>\n      </g>\n     </g>\n     <g id=\"text_11\">\n      <!-- 30 -->\n      <defs>\n       <path d=\"M 40.578125 39.3125 \nQ 47.65625 37.796875 51.625 33 \nQ 55.609375 28.21875 55.609375 21.1875 \nQ 55.609375 10.40625 48.1875 4.484375 \nQ 40.765625 -1.421875 27.09375 -1.421875 \nQ 22.515625 -1.421875 17.65625 -0.515625 \nQ 12.796875 0.390625 7.625 2.203125 \nL 7.625 11.71875 \nQ 11.71875 9.328125 16.59375 8.109375 \nQ 21.484375 6.890625 26.8125 6.890625 \nQ 36.078125 6.890625 40.9375 10.546875 \nQ 45.796875 14.203125 45.796875 21.1875 \nQ 45.796875 27.640625 41.28125 31.265625 \nQ 36.765625 34.90625 28.71875 34.90625 \nL 20.21875 34.90625 \nL 20.21875 43.015625 \nL 29.109375 43.015625 \nQ 36.375 43.015625 40.234375 45.921875 \nQ 44.09375 48.828125 44.09375 54.296875 \nQ 44.09375 59.90625 40.109375 62.90625 \nQ 36.140625 65.921875 28.71875 65.921875 \nQ 24.65625 65.921875 20.015625 65.03125 \nQ 15.375 64.15625 9.8125 62.3125 \nL 9.8125 71.09375 \nQ 15.4375 72.65625 20.34375 73.4375 \nQ 25.25 74.21875 29.59375 74.21875 \nQ 40.828125 74.21875 47.359375 69.109375 \nQ 53.90625 64.015625 53.90625 55.328125 \nQ 53.90625 49.265625 50.4375 45.09375 \nQ 46.96875 40.921875 40.578125 39.3125 \nz\n\" id=\"DejaVuSans-51\"/>\n      </defs>\n      <g transform=\"translate(7.2 97.126306)scale(0.1 -0.1)\">\n       <use xlink:href=\"#DejaVuSans-51\"/>\n       <use x=\"63.623047\" xlink:href=\"#DejaVuSans-48\"/>\n      </g>\n     </g>\n    </g>\n   </g>\n   <g id=\"patch_3\">\n    <path d=\"M 26.925 97.443481 \nL 26.925 9.627088 \n\" style=\"fill:none;stroke:#000000;stroke-linecap:square;stroke-linejoin:miter;stroke-width:0.8;\"/>\n   </g>\n   <g id=\"patch_4\">\n    <path d=\"M 361.725 97.443481 \nL 361.725 9.627088 \n\" style=\"fill:none;stroke:#000000;stroke-linecap:square;stroke-linejoin:miter;stroke-width:0.8;\"/>\n   </g>\n   <g id=\"patch_5\">\n    <path d=\"M 26.925 97.443481 \nL 361.725 97.443481 \n\" style=\"fill:none;stroke:#000000;stroke-linecap:square;stroke-linejoin:miter;stroke-width:0.8;\"/>\n   </g>\n   <g id=\"patch_6\">\n    <path d=\"M 26.925 9.627088 \nL 361.725 9.627088 \n\" style=\"fill:none;stroke:#000000;stroke-linecap:square;stroke-linejoin:miter;stroke-width:0.8;\"/>\n   </g>\n  </g>\n </g>\n <defs>\n  <clipPath id=\"pb902039c23\">\n   <rect height=\"87.816393\" width=\"334.8\" x=\"26.925\" y=\"9.627088\"/>\n  </clipPath>\n </defs>\n</svg>\n",
      "image/png": "[encoded data removed]"
     },
     "metadata": {
      "needs_background": "light"
     }
    }
   ],
   "source": [
    "#get some images\n",
    "trainiter = iter(trainloader)\n",
    "images, labels = trainiter.next()\n",
    "\n",
    "#create image grid\n",
    "img_grid = torchvision.utils.make_grid(images)\n",
    "\n",
    "#show images\n",
    "matplotlib_imshow(img_grid, one_channel=True)\n",
    "\n",
    "#add to tensorboard\n",
    "writer.add_image('example_images_fashion_mnist', img_grid)"
   ]
  },
  {
   "cell_type": "markdown",
   "metadata": {},
   "source": [
    "## Adding the model graph\n",
    "\n",
    "*Unlike on tensorflow, we need to add the model graph manually"
   ]
  },
  {
   "cell_type": "code",
   "execution_count": 9,
   "metadata": {},
   "outputs": [],
   "source": [
    "writer.add_graph(net, images)"
   ]
  },
  {
   "cell_type": "markdown",
   "metadata": {},
   "source": [
    "## Projectin the images to a lower dimension space"
   ]
  },
  {
   "cell_type": "code",
   "execution_count": 10,
   "metadata": {
    "tags": []
   },
   "outputs": [
    {
     "output_type": "stream",
     "name": "stdout",
     "text": "warning: Embedding dir exists, did you set global_step for add_embedding()?\n"
    }
   ],
   "source": [
    "def select_n_random(data, labels, n=100):\n",
    "    '''\n",
    "    Selects n random datapoints and their corresponding labels from a dataset\n",
    "    '''\n",
    "    assert len(data) == len(labels)\n",
    "\n",
    "    perm = torch.randperm(len(data))\n",
    "    return data[perm][:n], labels[perm][:n]\n",
    "\n",
    "#select random images and their target indices\n",
    "images, labels = select_n_random(trainset.data, trainset.targets)\n",
    "\n",
    "#get the class labels for each image\n",
    "class_labels = [classes[lab] for lab in labels]\n",
    "\n",
    "#log embeddings\n",
    "features = images.view(-1, 28*28)\n",
    "writer.add_embedding(features, metadata=class_labels, label_img=images.unsqueeze(1))"
   ]
  },
  {
   "cell_type": "markdown",
   "metadata": {},
   "source": [
    "## Tracking Model Training"
   ]
  },
  {
   "cell_type": "code",
   "execution_count": 11,
   "metadata": {},
   "outputs": [],
   "source": [
    "def images_to_probs(net, images):\n",
    "    '''\n",
    "    Generates predictions and corresponding probabilities from a trained network and a list of images\n",
    "    '''\n",
    "    output = net(images)\n",
    "    #convert output probabilities to predicted class\n",
    "    _, preds_tensor = torch.max(output, 1)\n",
    "    preds = np.squeeze(preds_tensor.numpy())\n",
    "    return preds, [F.softmax(el, dim=0)[i].item() for i, el in zip(preds, output)]\n",
    "\n",
    "def plot_classes_preds(net, images, labels):\n",
    "    '''\n",
    "    Generates matplotlib Figure using a trained network, along with images and labels from a batch, that shows the network's top prediction along with its probability, alongside the actual label, coloring this information based on whether the prediction was correct or not. \n",
    "    Uses the \"images_to_probs\" function.\n",
    "    '''\n",
    "    preds, probs = images_to_probs(net, images)\n",
    "    #plot the images in the batch, along with predicted and true labels\n",
    "    fig = plt.figure(figsize=(12,48))\n",
    "    for idx in np.arange(4):\n",
    "        ax = fig.add_subplot(1, 4, idx+1, xticks=[], yticks=[])\n",
    "        matplotlib_imshow(images[idx], one_channel=True)\n",
    "        ax.set_title(f\"{classes[preds[idx]]}, {probs[idx]*100}\\n(label: {classes[labels[idx]]}\", color=(\"green\" if preds[idx]==labels[idx].item() else \"red\"))\n",
    "    \n",
    "    return fig"
   ]
  },
  {
   "cell_type": "code",
   "execution_count": 13,
   "metadata": {},
   "outputs": [],
   "source": [
    "running_loss = 0.0\n",
    "for epoch in range(1):\n",
    "    for i, data in enumerate(trainloader, 0):\n",
    "        #get the inputs\n",
    "        inputs, labels = data\n",
    "        #zero the parameter gradients\n",
    "        optimizer.zero_grad()\n",
    "\n",
    "        #forward\n",
    "        outputs = net(inputs)\n",
    "        #loss\n",
    "        loss = criterion(outputs, labels)\n",
    "        #backward + gradient descent\n",
    "        loss.backward()\n",
    "        optimizer.step()\n",
    "\n",
    "        running_loss += loss.item()\n",
    "        if i % 1000 == 999: #every 1000 mini-batches\n",
    "            #plot the training loss as a scalar\n",
    "            writer.add_scalar('training loss', running_loss/1000, epoch * len(trainloader) + i)\n",
    "            #shows the model's prediction on a random mini-batch\n",
    "            writer.add_figure('predictions vs. actuals', plot_classes_preds(net, inputs, labels), global_step=epoch*len(trainloader)+i)\n",
    "            running_loss = 0.0"
   ]
  },
  {
   "cell_type": "markdown",
   "metadata": {},
   "source": [
    "## Checking model performance using PR-Curves"
   ]
  },
  {
   "cell_type": "code",
   "execution_count": 14,
   "metadata": {},
   "outputs": [],
   "source": [
    "class_probs = []\n",
    "class_preds = []\n",
    "with torch.no_grad():\n",
    "    for data in testloader:\n",
    "        images, labels = data\n",
    "        output = net(images)\n",
    "        class_probs_batch = [F.softmax(el, dim=0) for el in output]\n",
    "        _, class_preds_batch = torch.max(output, 1)\n",
    "\n",
    "        class_probs.append(class_probs_batch)\n",
    "        class_preds.append(class_preds_batch)\n",
    "\n",
    "test_probs = torch.cat([torch.stack(batch) for batch in class_probs])\n",
    "test_preds = torch.cat(class_preds)\n",
    "\n",
    "#pr curve plotting\n",
    "def add_pr_curve_tensorboard(class_index, test_probs, test_preds, global_step=0):\n",
    "    '''\n",
    "    Takes in a \"class_index\" from 0 to 9 and plots the corresponding precision-recall curve\n",
    "    '''\n",
    "    tensorboard_preds = test_preds == class_index\n",
    "    tensorboard_probs = test_probs[:, class_index]\n",
    "\n",
    "    writer.add_pr_curve(classes[class_index], tensorboard_preds, tensorboard_probs, global_step=global_step)\n",
    "\n",
    "#plot all the pr curves\n",
    "for i in range(len(classes)):\n",
    "    add_pr_curve_tensorboard(i, test_probs, test_preds)"
   ]
  },
  {
   "cell_type": "code",
   "execution_count": 15,
   "metadata": {},
   "outputs": [],
   "source": [
    "writer.close()"
   ]
  },
  {
   "cell_type": "code",
   "execution_count": null,
   "metadata": {},
   "outputs": [],
   "source": []
  }
 ]
}